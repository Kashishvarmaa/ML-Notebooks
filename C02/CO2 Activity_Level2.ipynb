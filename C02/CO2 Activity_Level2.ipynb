{
 "cells": [
  {
   "cell_type": "markdown",
   "metadata": {
    "id": "5LDXR7RZ9P9M"
   },
   "source": [
    "## CO 2:Data Preprocessing\n"
   ]
  },
  {
   "cell_type": "markdown",
   "metadata": {
    "id": "iywSfAgf9dsM"
   },
   "source": [
    "**Example problems**"
   ]
  },
  {
   "cell_type": "code",
   "execution_count": 11,
   "metadata": {
    "id": "QAk4yo5j9IdF"
   },
   "outputs": [],
   "source": [
    "import numpy as np\n",
    "import pandas as pd\n",
    "import matplotlib.pyplot as plt\n",
    "import seaborn as sns\n"
   ]
  },
  {
   "cell_type": "code",
   "execution_count": 12,
   "metadata": {
    "colab": {
     "base_uri": "https://localhost:8080/",
     "height": 175
    },
    "executionInfo": {
     "elapsed": 4913,
     "status": "ok",
     "timestamp": 1706515119665,
     "user": {
      "displayName": "Achala Hegde",
      "userId": "16272186569959107554"
     },
     "user_tz": -330
    },
    "id": "0TvBhDoo9IdR",
    "outputId": "5e916cbe-9efa-4dff-dbbd-0ec7d244124d"
   },
   "outputs": [
    {
     "data": {
      "text/html": [
       "<div>\n",
       "<style scoped>\n",
       "    .dataframe tbody tr th:only-of-type {\n",
       "        vertical-align: middle;\n",
       "    }\n",
       "\n",
       "    .dataframe tbody tr th {\n",
       "        vertical-align: top;\n",
       "    }\n",
       "\n",
       "    .dataframe thead th {\n",
       "        text-align: right;\n",
       "    }\n",
       "</style>\n",
       "<table border=\"1\" class=\"dataframe\">\n",
       "  <thead>\n",
       "    <tr style=\"text-align: right;\">\n",
       "      <th></th>\n",
       "      <th>sl_no</th>\n",
       "      <th>gender</th>\n",
       "      <th>hsc_p</th>\n",
       "      <th>hsc_s</th>\n",
       "      <th>degree_p</th>\n",
       "      <th>degree_t</th>\n",
       "      <th>etest_p</th>\n",
       "      <th>specialisation</th>\n",
       "      <th>mba_p</th>\n",
       "      <th>salary</th>\n",
       "    </tr>\n",
       "  </thead>\n",
       "  <tbody>\n",
       "    <tr>\n",
       "      <th>0</th>\n",
       "      <td>1</td>\n",
       "      <td>M</td>\n",
       "      <td>91.00</td>\n",
       "      <td>Commerce</td>\n",
       "      <td>58.00</td>\n",
       "      <td>Sci&amp;Tech</td>\n",
       "      <td>55.0</td>\n",
       "      <td>Mkt&amp;HR</td>\n",
       "      <td>58.80</td>\n",
       "      <td>270000.0</td>\n",
       "    </tr>\n",
       "    <tr>\n",
       "      <th>1</th>\n",
       "      <td>2</td>\n",
       "      <td>M</td>\n",
       "      <td>78.33</td>\n",
       "      <td>Science</td>\n",
       "      <td>77.48</td>\n",
       "      <td>Sci&amp;Tech</td>\n",
       "      <td>86.5</td>\n",
       "      <td>Mkt&amp;Fin</td>\n",
       "      <td>66.28</td>\n",
       "      <td>200000.0</td>\n",
       "    </tr>\n",
       "    <tr>\n",
       "      <th>2</th>\n",
       "      <td>3</td>\n",
       "      <td>M</td>\n",
       "      <td>NaN</td>\n",
       "      <td>Arts</td>\n",
       "      <td>64.00</td>\n",
       "      <td>Comm&amp;Mgmt</td>\n",
       "      <td>75.0</td>\n",
       "      <td>Mkt&amp;Fin</td>\n",
       "      <td>57.80</td>\n",
       "      <td>250000.0</td>\n",
       "    </tr>\n",
       "    <tr>\n",
       "      <th>3</th>\n",
       "      <td>4</td>\n",
       "      <td>M</td>\n",
       "      <td>52.00</td>\n",
       "      <td>Science</td>\n",
       "      <td>NaN</td>\n",
       "      <td>Sci&amp;Tech</td>\n",
       "      <td>66.0</td>\n",
       "      <td>Mkt&amp;HR</td>\n",
       "      <td>59.43</td>\n",
       "      <td>NaN</td>\n",
       "    </tr>\n",
       "  </tbody>\n",
       "</table>\n",
       "</div>"
      ],
      "text/plain": [
       "   sl_no gender  hsc_p     hsc_s  degree_p   degree_t  etest_p specialisation  \\\n",
       "0      1      M  91.00  Commerce     58.00   Sci&Tech     55.0         Mkt&HR   \n",
       "1      2      M  78.33   Science     77.48   Sci&Tech     86.5        Mkt&Fin   \n",
       "2      3      M    NaN      Arts     64.00  Comm&Mgmt     75.0        Mkt&Fin   \n",
       "3      4      M  52.00   Science       NaN   Sci&Tech     66.0         Mkt&HR   \n",
       "\n",
       "   mba_p    salary  \n",
       "0  58.80  270000.0  \n",
       "1  66.28  200000.0  \n",
       "2  57.80  250000.0  \n",
       "3  59.43       NaN  "
      ]
     },
     "execution_count": 12,
     "metadata": {},
     "output_type": "execute_result"
    }
   ],
   "source": [
    "data=pd.read_csv(r\"C:\\Users\\Shabbeer Basha\\Desktop\\IML_Course\\CO2 Apply data preprocessing on input data\\Class Activity/Placement_Data.csv\")\n",
    "data.head(4)"
   ]
  },
  {
   "cell_type": "markdown",
   "metadata": {
    "id": "Z0FRvPZX9IdU"
   },
   "source": [
    "# Handling missing values"
   ]
  },
  {
   "cell_type": "markdown",
   "metadata": {
    "id": "ZZBG6kfrFVWa"
   },
   "source": [
    "Calculate the number of null values in each column"
   ]
  },
  {
   "cell_type": "code",
   "execution_count": 13,
   "metadata": {
    "colab": {
     "base_uri": "https://localhost:8080/"
    },
    "executionInfo": {
     "elapsed": 480,
     "status": "ok",
     "timestamp": 1706515128453,
     "user": {
      "displayName": "Achala Hegde",
      "userId": "16272186569959107554"
     },
     "user_tz": -330
    },
    "id": "-awfqKtg9Ida",
    "outputId": "00231b04-dfb5-447c-8112-7e009e2c17f7"
   },
   "outputs": [
    {
     "data": {
      "text/plain": [
       "sl_no              0\n",
       "gender             0\n",
       "hsc_p              5\n",
       "hsc_s              0\n",
       "degree_p           2\n",
       "degree_t           0\n",
       "etest_p            4\n",
       "specialisation     0\n",
       "mba_p              1\n",
       "salary            67\n",
       "dtype: int64"
      ]
     },
     "execution_count": 13,
     "metadata": {},
     "output_type": "execute_result"
    }
   ],
   "source": [
    "data.isnull().sum()"
   ]
  },
  {
   "cell_type": "markdown",
   "metadata": {
    "id": "zolw6DnAFcnm"
   },
   "source": [
    "Replace missing values in features that have less than 20 percent null values with appropriate measures."
   ]
  },
  {
   "cell_type": "code",
   "execution_count": 14,
   "metadata": {
    "id": "kd6o2A4t9Idc"
   },
   "outputs": [],
   "source": [
    "hsc_p_mean = data['hsc_p'].mean()\n",
    "etest_p_mean = data['etest_p'].mean()\n",
    "degree_p_mean= data['degree_p'].mean()\n",
    "mba_p_mean = data['mba_p'].mean()\n",
    "\n",
    "\n",
    "data['hsc_p'].fillna(hsc_p_mean, inplace=True)\n",
    "data['etest_p'].fillna(etest_p_mean, inplace=True)\n",
    "data['degree_p'].fillna(degree_p_mean, inplace=True)\n",
    "data['mba_p'].fillna(mba_p_mean, inplace=True)\n"
   ]
  },
  {
   "cell_type": "markdown",
   "metadata": {
    "id": "blgndIyGGHRm"
   },
   "source": [
    "Remove all the rows where the salary column has null values"
   ]
  },
  {
   "cell_type": "code",
   "execution_count": 15,
   "metadata": {
    "id": "P6RMC6Yb9Idh"
   },
   "outputs": [],
   "source": [
    "data.dropna(subset=['salary'], inplace=True)"
   ]
  },
  {
   "cell_type": "code",
   "execution_count": 16,
   "metadata": {
    "colab": {
     "base_uri": "https://localhost:8080/"
    },
    "executionInfo": {
     "elapsed": 25,
     "status": "ok",
     "timestamp": 1706515139332,
     "user": {
      "displayName": "Achala Hegde",
      "userId": "16272186569959107554"
     },
     "user_tz": -330
    },
    "id": "WATCc4oK9Idj",
    "outputId": "fd2d93c5-1394-4daa-f2c3-014d59e47ad7"
   },
   "outputs": [
    {
     "data": {
      "text/plain": [
       "sl_no             0\n",
       "gender            0\n",
       "hsc_p             0\n",
       "hsc_s             0\n",
       "degree_p          0\n",
       "degree_t          0\n",
       "etest_p           0\n",
       "specialisation    0\n",
       "mba_p             0\n",
       "salary            0\n",
       "dtype: int64"
      ]
     },
     "execution_count": 16,
     "metadata": {},
     "output_type": "execute_result"
    }
   ],
   "source": [
    "data.isna().sum()"
   ]
  },
  {
   "cell_type": "markdown",
   "metadata": {
    "id": "4SYAlrDA9Idm"
   },
   "source": [
    "#Detecting Outliers:\n",
    "1.Visualization (Box Plot):"
   ]
  },
  {
   "cell_type": "markdown",
   "metadata": {
    "id": "TKFUBt44GfvK"
   },
   "source": [
    "Check for outlayers using boxplot."
   ]
  },
  {
   "cell_type": "code",
   "execution_count": 17,
   "metadata": {
    "colab": {
     "base_uri": "https://localhost:8080/",
     "height": 568
    },
    "executionInfo": {
     "elapsed": 19,
     "status": "ok",
     "timestamp": 1706515193425,
     "user": {
      "displayName": "Achala Hegde",
      "userId": "16272186569959107554"
     },
     "user_tz": -330
    },
    "id": "zZbfg4gh9Ido",
    "outputId": "59e3ad67-cb04-417a-fcaf-892fe8fc3378"
   },
   "outputs": [
    {
     "data": {
      "image/png": "[encoded data removed]",
      "text/plain": [
       "<Figure size 640x480 with 1 Axes>"
      ]
     },
     "metadata": {},
     "output_type": "display_data"
    }
   ],
   "source": [
    "# import matplotlib.pyplot as plt\n",
    "# import seaborn as sns\n",
    "# plt.figure(figsize=(5, 6))\n",
    "sns.boxplot(data)\n",
    "plt.title('Detecting outliers through box-plot')\n",
    "# plt.xticks(rotation=90)\n",
    "plt.show()"
   ]
  },
  {
   "cell_type": "markdown",
   "metadata": {
    "id": "FHpnB4bK9Idr"
   },
   "source": [
    "2. Using Z-Scores"
   ]
  },
  {
   "cell_type": "markdown",
   "metadata": {
    "id": "KEgw4coHGp-M"
   },
   "source": [
    "Cheak for outlayers using Z-scores method."
   ]
  },
  {
   "cell_type": "code",
   "execution_count": 18,
   "metadata": {
    "colab": {
     "base_uri": "https://localhost:8080/"
    },
    "executionInfo": {
     "elapsed": 459,
     "status": "ok",
     "timestamp": 1705999940165,
     "user": {
      "displayName": "Achala Hegde",
      "userId": "16272186569959107554"
     },
     "user_tz": -330
    },
    "id": "8U8NFk9c9Ids",
    "outputId": "0df375fd-740a-4bae-f4cf-ecfc98501c65"
   },
   "outputs": [
    {
     "name": "stdout",
     "output_type": "stream",
     "text": [
      "Rows with Outliers:\n",
      "119    940000.0\n",
      "150    690000.0\n",
      "177    650000.0\n",
      "Name: salary, dtype: float64\n"
     ]
    }
   ],
   "source": [
    "#another library to compute z_score which can be used to detect outliers\n",
    "from scipy import stats\n",
    "\n",
    "\n",
    "# Specify columns to check for outliers\n",
    "columns_to_check = ['salary']\n",
    "# Calculate Z-scores for each column\n",
    "z_scores = stats.zscore(data[columns_to_check])\n",
    "\n",
    "# Define a threshold for outlier detection (e.g., 3 standard deviations)\n",
    "threshold = 3\n",
    "outlier_indices = (z_scores > threshold).any(axis=1)\n",
    "outliers_df = data[outlier_indices]\n",
    "\n",
    "print(\"Rows with Outliers:\")\n",
    "print(outliers_df['salary'])\n"
   ]
  },
  {
   "cell_type": "markdown",
   "metadata": {
    "id": "nbnqSBpU9Idu"
   },
   "source": [
    "# Handling outliers\n",
    "\n",
    "1. Remove Outliers:"
   ]
  },
  {
   "cell_type": "markdown",
   "metadata": {
    "id": "wb-XWMKkG__2"
   },
   "source": [
    "Remove outlayers using the following three methods."
   ]
  },
  {
   "cell_type": "code",
   "execution_count": null,
   "metadata": {
    "id": "4wfs8RXx9Idv"
   },
   "outputs": [],
   "source": [
    "#delete the outliers\n",
    "\n"
   ]
  },
  {
   "cell_type": "markdown",
   "metadata": {
    "id": "VqCPJSKc9Idw"
   },
   "source": [
    "2.Quantile-Based Capping and Flooring:"
   ]
  },
  {
   "cell_type": "code",
   "execution_count": null,
   "metadata": {
    "id": "IVW4CKtG9Idx"
   },
   "outputs": [],
   "source": [
    "# Cap and floor values using quantiles\n",
    "\n"
   ]
  },
  {
   "cell_type": "markdown",
   "metadata": {
    "id": "nCUDSgQy9Idy"
   },
   "source": [
    "3. Mean/Median Imputation:"
   ]
  },
  {
   "cell_type": "code",
   "execution_count": null,
   "metadata": {
    "id": "8D8qJ9vi9Idz"
   },
   "outputs": [],
   "source": [
    "#df_imputed = data.copy()\n",
    "\n",
    "#for column in columns_to_check:\n",
    "    #median_value = df_imputed[column].median()\n",
    "    #df_imputed[column] = df_imputed[column].apply(lambda x: median_value if x > upper_limit[column] or x < lower_limit[column] else x)\n"
   ]
  },
  {
   "cell_type": "markdown",
   "metadata": {
    "id": "tkarqL459Id0"
   },
   "source": [
    "# Feature Encoding"
   ]
  },
  {
   "cell_type": "markdown",
   "metadata": {
    "id": "VFc7-Vh99Id1"
   },
   "source": [
    "1.Label encoding"
   ]
  },
  {
   "cell_type": "markdown",
   "metadata": {
    "id": "W9u28MShHVFr"
   },
   "source": [
    "Apply label encoding to all categorical variables."
   ]
  },
  {
   "cell_type": "code",
   "execution_count": null,
   "metadata": {
    "colab": {
     "base_uri": "https://localhost:8080/"
    },
    "executionInfo": {
     "elapsed": 463,
     "status": "ok",
     "timestamp": 1705999993929,
     "user": {
      "displayName": "Achala Hegde",
      "userId": "16272186569959107554"
     },
     "user_tz": -330
    },
    "id": "inUO1bNJ9Id2",
    "outputId": "97e9a8eb-c356-494d-c93d-8af38d9456f3"
   },
   "outputs": [
    {
     "data": {
      "text/plain": [
       "sl_no               int64\n",
       "gender             object\n",
       "hsc_p             float64\n",
       "hsc_s              object\n",
       "degree_p          float64\n",
       "degree_t           object\n",
       "etest_p           float64\n",
       "specialisation     object\n",
       "mba_p             float64\n",
       "salary            float64\n",
       "dtype: object"
      ]
     },
     "execution_count": 19,
     "metadata": {},
     "output_type": "execute_result"
    }
   ],
   "source": [
    "data.dtypes"
   ]
  },
  {
   "cell_type": "code",
   "execution_count": 19,
   "metadata": {
    "id": "FEYzjPmfxOKc"
   },
   "outputs": [
    {
     "data": {
      "text/plain": [
       "array(['Mkt&HR', 'Mkt&Fin'], dtype=object)"
      ]
     },
     "execution_count": 19,
     "metadata": {},
     "output_type": "execute_result"
    }
   ],
   "source": [
    "data['gender'].unique()\n",
    "data['hsc_s'].unique()\n",
    "data['degree_t'].unique()\n",
    "data['specialisation'].unique()\n"
   ]
  },
  {
   "cell_type": "code",
   "execution_count": 20,
   "metadata": {
    "id": "CYHyJqNn9Id4"
   },
   "outputs": [],
   "source": [
    "from sklearn.preprocessing import LabelEncoder\n",
    "label_encoder = LabelEncoder()\n",
    "## Apply label encoding for columns gender, hsc_s, degree_t, specialisation"
   ]
  },
  {
   "cell_type": "code",
   "execution_count": 21,
   "metadata": {
    "colab": {
     "base_uri": "https://localhost:8080/",
     "height": 206
    },
    "executionInfo": {
     "elapsed": 523,
     "status": "ok",
     "timestamp": 1706000005150,
     "user": {
      "displayName": "Achala Hegde",
      "userId": "16272186569959107554"
     },
     "user_tz": -330
    },
    "id": "xDQNf77g9Id5",
    "outputId": "18c2e6b3-6596-4d6e-9d02-62c4a29a3dc1"
   },
   "outputs": [
    {
     "data": {
      "text/html": [
       "<div>\n",
       "<style scoped>\n",
       "    .dataframe tbody tr th:only-of-type {\n",
       "        vertical-align: middle;\n",
       "    }\n",
       "\n",
       "    .dataframe tbody tr th {\n",
       "        vertical-align: top;\n",
       "    }\n",
       "\n",
       "    .dataframe thead th {\n",
       "        text-align: right;\n",
       "    }\n",
       "</style>\n",
       "<table border=\"1\" class=\"dataframe\">\n",
       "  <thead>\n",
       "    <tr style=\"text-align: right;\">\n",
       "      <th></th>\n",
       "      <th>sl_no</th>\n",
       "      <th>gender</th>\n",
       "      <th>hsc_p</th>\n",
       "      <th>hsc_s</th>\n",
       "      <th>degree_p</th>\n",
       "      <th>degree_t</th>\n",
       "      <th>etest_p</th>\n",
       "      <th>specialisation</th>\n",
       "      <th>mba_p</th>\n",
       "      <th>salary</th>\n",
       "    </tr>\n",
       "  </thead>\n",
       "  <tbody>\n",
       "    <tr>\n",
       "      <th>0</th>\n",
       "      <td>1</td>\n",
       "      <td>M</td>\n",
       "      <td>91.000</td>\n",
       "      <td>Commerce</td>\n",
       "      <td>58.00</td>\n",
       "      <td>Sci&amp;Tech</td>\n",
       "      <td>55.0</td>\n",
       "      <td>Mkt&amp;HR</td>\n",
       "      <td>58.80</td>\n",
       "      <td>270000.0</td>\n",
       "    </tr>\n",
       "    <tr>\n",
       "      <th>1</th>\n",
       "      <td>2</td>\n",
       "      <td>M</td>\n",
       "      <td>78.330</td>\n",
       "      <td>Science</td>\n",
       "      <td>77.48</td>\n",
       "      <td>Sci&amp;Tech</td>\n",
       "      <td>86.5</td>\n",
       "      <td>Mkt&amp;Fin</td>\n",
       "      <td>66.28</td>\n",
       "      <td>200000.0</td>\n",
       "    </tr>\n",
       "    <tr>\n",
       "      <th>2</th>\n",
       "      <td>3</td>\n",
       "      <td>M</td>\n",
       "      <td>66.503</td>\n",
       "      <td>Arts</td>\n",
       "      <td>64.00</td>\n",
       "      <td>Comm&amp;Mgmt</td>\n",
       "      <td>75.0</td>\n",
       "      <td>Mkt&amp;Fin</td>\n",
       "      <td>57.80</td>\n",
       "      <td>250000.0</td>\n",
       "    </tr>\n",
       "    <tr>\n",
       "      <th>4</th>\n",
       "      <td>5</td>\n",
       "      <td>M</td>\n",
       "      <td>73.600</td>\n",
       "      <td>Commerce</td>\n",
       "      <td>73.30</td>\n",
       "      <td>Comm&amp;Mgmt</td>\n",
       "      <td>96.8</td>\n",
       "      <td>Mkt&amp;Fin</td>\n",
       "      <td>55.50</td>\n",
       "      <td>425000.0</td>\n",
       "    </tr>\n",
       "    <tr>\n",
       "      <th>7</th>\n",
       "      <td>8</td>\n",
       "      <td>M</td>\n",
       "      <td>64.000</td>\n",
       "      <td>Science</td>\n",
       "      <td>66.00</td>\n",
       "      <td>Sci&amp;Tech</td>\n",
       "      <td>67.0</td>\n",
       "      <td>Mkt&amp;Fin</td>\n",
       "      <td>62.14</td>\n",
       "      <td>252000.0</td>\n",
       "    </tr>\n",
       "  </tbody>\n",
       "</table>\n",
       "</div>"
      ],
      "text/plain": [
       "   sl_no gender   hsc_p     hsc_s  degree_p   degree_t  etest_p  \\\n",
       "0      1      M  91.000  Commerce     58.00   Sci&Tech     55.0   \n",
       "1      2      M  78.330   Science     77.48   Sci&Tech     86.5   \n",
       "2      3      M  66.503      Arts     64.00  Comm&Mgmt     75.0   \n",
       "4      5      M  73.600  Commerce     73.30  Comm&Mgmt     96.8   \n",
       "7      8      M  64.000   Science     66.00   Sci&Tech     67.0   \n",
       "\n",
       "  specialisation  mba_p    salary  \n",
       "0         Mkt&HR  58.80  270000.0  \n",
       "1        Mkt&Fin  66.28  200000.0  \n",
       "2        Mkt&Fin  57.80  250000.0  \n",
       "4        Mkt&Fin  55.50  425000.0  \n",
       "7        Mkt&Fin  62.14  252000.0  "
      ]
     },
     "execution_count": 21,
     "metadata": {},
     "output_type": "execute_result"
    }
   ],
   "source": [
    "data.head()"
   ]
  },
  {
   "cell_type": "markdown",
   "metadata": {
    "id": "XqajAN7NHuqu"
   },
   "source": [
    "\n",
    "Conduct one-hot encoding by separating features from target variables."
   ]
  },
  {
   "cell_type": "code",
   "execution_count": 22,
   "metadata": {
    "colab": {
     "base_uri": "https://localhost:8080/"
    },
    "executionInfo": {
     "elapsed": 545,
     "status": "ok",
     "timestamp": 1706000014449,
     "user": {
      "displayName": "Achala Hegde",
      "userId": "16272186569959107554"
     },
     "user_tz": -330
    },
    "id": "GlKzUTZS9Id6",
    "outputId": "f7e78748-b5a6-4d03-f8e5-cbb7927365b5"
   },
   "outputs": [
    {
     "name": "stderr",
     "output_type": "stream",
     "text": [
      "C:\\Users\\Shabbeer Basha\\AppData\\Local\\Temp\\ipykernel_24688\\1858230058.py:5: SettingWithCopyWarning: \n",
      "A value is trying to be set on a copy of a slice from a DataFrame.\n",
      "Try using .loc[row_indexer,col_indexer] = value instead\n",
      "\n",
      "See the caveats in the documentation: https://pandas.pydata.org/pandas-docs/stable/user_guide/indexing.html#returning-a-view-versus-a-copy\n",
      "  X[\"gender\"] = pd.Categorical(X.gender.map({0:\"M\",1:\"F\"}))\n",
      "C:\\Users\\Shabbeer Basha\\AppData\\Local\\Temp\\ipykernel_24688\\1858230058.py:6: SettingWithCopyWarning: \n",
      "A value is trying to be set on a copy of a slice from a DataFrame.\n",
      "Try using .loc[row_indexer,col_indexer] = value instead\n",
      "\n",
      "See the caveats in the documentation: https://pandas.pydata.org/pandas-docs/stable/user_guide/indexing.html#returning-a-view-versus-a-copy\n",
      "  X[\"hsc_s\"] = pd.Categorical(X.hsc_s.map({0:\"Commerce\",1:\"Science\",2:\"Arts\"}))\n",
      "C:\\Users\\Shabbeer Basha\\AppData\\Local\\Temp\\ipykernel_24688\\1858230058.py:7: SettingWithCopyWarning: \n",
      "A value is trying to be set on a copy of a slice from a DataFrame.\n",
      "Try using .loc[row_indexer,col_indexer] = value instead\n",
      "\n",
      "See the caveats in the documentation: https://pandas.pydata.org/pandas-docs/stable/user_guide/indexing.html#returning-a-view-versus-a-copy\n",
      "  X[\"degree_t\"] = pd.Categorical(X.degree_t.map({0:\"Comm&Mgmt\",1:\"Sci&Tech\",2:\"Others\"}))\n",
      "C:\\Users\\Shabbeer Basha\\AppData\\Local\\Temp\\ipykernel_24688\\1858230058.py:8: SettingWithCopyWarning: \n",
      "A value is trying to be set on a copy of a slice from a DataFrame.\n",
      "Try using .loc[row_indexer,col_indexer] = value instead\n",
      "\n",
      "See the caveats in the documentation: https://pandas.pydata.org/pandas-docs/stable/user_guide/indexing.html#returning-a-view-versus-a-copy\n",
      "  X[\"specialisation\"] = pd.Categorical(X.specialisation.map({0:\"Mkt&HR\",1:\"Mkt&Fin\"}))\n"
     ]
    }
   ],
   "source": [
    "# Seperating Features and Target\n",
    "X = data[['gender', 'hsc_p', 'hsc_s', 'degree_p', 'degree_t','etest_p', 'specialisation', 'mba_p',]]\n",
    "y = data['salary']\n",
    "#Reverse Mapping and making Categorical\n",
    "X[\"gender\"] = pd.Categorical(X.gender.map({0:\"M\",1:\"F\"}))\n",
    "X[\"hsc_s\"] = pd.Categorical(X.hsc_s.map({0:\"Commerce\",1:\"Science\",2:\"Arts\"}))\n",
    "X[\"degree_t\"] = pd.Categorical(X.degree_t.map({0:\"Comm&Mgmt\",1:\"Sci&Tech\",2:\"Others\"}))\n",
    "X[\"specialisation\"] = pd.Categorical(X.specialisation.map({0:\"Mkt&HR\",1:\"Mkt&Fin\"}))"
   ]
  },
  {
   "cell_type": "code",
   "execution_count": 1,
   "metadata": {
    "id": "FICGym0b9Id7",
    "ExecuteTime": {
     "end_time": "2024-03-18T15:40:21.984106Z",
     "start_time": "2024-03-18T15:40:21.964857Z"
    }
   },
   "outputs": [],
   "source": [
    "#Perform one-hot encoding using pandas for dataframe X"
   ]
  },
  {
   "cell_type": "code",
   "execution_count": null,
   "metadata": {
    "colab": {
     "base_uri": "https://localhost:8080/",
     "height": 443
    },
    "executionInfo": {
     "elapsed": 966,
     "status": "ok",
     "timestamp": 1706000055394,
     "user": {
      "displayName": "Achala Hegde",
      "userId": "16272186569959107554"
     },
     "user_tz": -330
    },
    "id": "4IjY4Deb9Id7",
    "outputId": "92b00103-ece6-4c39-cfb1-dfc7aee29169"
   },
   "outputs": [
    {
     "data": {
      "text/html": [
       "\n",
       "  <div id=\"df-ad7a9c86-4eee-40c8-a2a4-e72476e6690c\" class=\"colab-df-container\">\n",
       "    <div>\n",
       "<style scoped>\n",
       "    .dataframe tbody tr th:only-of-type {\n",
       "        vertical-align: middle;\n",
       "    }\n",
       "\n",
       "    .dataframe tbody tr th {\n",
       "        vertical-align: top;\n",
       "    }\n",
       "\n",
       "    .dataframe thead th {\n",
       "        text-align: right;\n",
       "    }\n",
       "</style>\n",
       "<table border=\"1\" class=\"dataframe\">\n",
       "  <thead>\n",
       "    <tr style=\"text-align: right;\">\n",
       "      <th></th>\n",
       "      <th>hsc_p</th>\n",
       "      <th>degree_p</th>\n",
       "      <th>etest_p</th>\n",
       "      <th>mba_p</th>\n",
       "      <th>gender_F</th>\n",
       "      <th>gender_M</th>\n",
       "      <th>hsc_s_Arts</th>\n",
       "      <th>hsc_s_Commerce</th>\n",
       "      <th>hsc_s_Science</th>\n",
       "      <th>degree_t_Comm&amp;Mgmt</th>\n",
       "      <th>degree_t_Others</th>\n",
       "      <th>degree_t_Sci&amp;Tech</th>\n",
       "      <th>specialisation_Mkt&amp;Fin</th>\n",
       "      <th>specialisation_Mkt&amp;HR</th>\n",
       "    </tr>\n",
       "  </thead>\n",
       "  <tbody>\n",
       "    <tr>\n",
       "      <th>0</th>\n",
       "      <td>91.000</td>\n",
       "      <td>58.00</td>\n",
       "      <td>55.0</td>\n",
       "      <td>58.80</td>\n",
       "      <td>0</td>\n",
       "      <td>1</td>\n",
       "      <td>0</td>\n",
       "      <td>1</td>\n",
       "      <td>0</td>\n",
       "      <td>0</td>\n",
       "      <td>0</td>\n",
       "      <td>1</td>\n",
       "      <td>0</td>\n",
       "      <td>1</td>\n",
       "    </tr>\n",
       "    <tr>\n",
       "      <th>1</th>\n",
       "      <td>78.330</td>\n",
       "      <td>77.48</td>\n",
       "      <td>86.5</td>\n",
       "      <td>66.28</td>\n",
       "      <td>0</td>\n",
       "      <td>1</td>\n",
       "      <td>0</td>\n",
       "      <td>0</td>\n",
       "      <td>1</td>\n",
       "      <td>0</td>\n",
       "      <td>0</td>\n",
       "      <td>1</td>\n",
       "      <td>1</td>\n",
       "      <td>0</td>\n",
       "    </tr>\n",
       "    <tr>\n",
       "      <th>2</th>\n",
       "      <td>66.503</td>\n",
       "      <td>64.00</td>\n",
       "      <td>75.0</td>\n",
       "      <td>57.80</td>\n",
       "      <td>0</td>\n",
       "      <td>1</td>\n",
       "      <td>1</td>\n",
       "      <td>0</td>\n",
       "      <td>0</td>\n",
       "      <td>1</td>\n",
       "      <td>0</td>\n",
       "      <td>0</td>\n",
       "      <td>1</td>\n",
       "      <td>0</td>\n",
       "    </tr>\n",
       "    <tr>\n",
       "      <th>4</th>\n",
       "      <td>73.600</td>\n",
       "      <td>73.30</td>\n",
       "      <td>96.8</td>\n",
       "      <td>55.50</td>\n",
       "      <td>0</td>\n",
       "      <td>1</td>\n",
       "      <td>0</td>\n",
       "      <td>1</td>\n",
       "      <td>0</td>\n",
       "      <td>1</td>\n",
       "      <td>0</td>\n",
       "      <td>0</td>\n",
       "      <td>1</td>\n",
       "      <td>0</td>\n",
       "    </tr>\n",
       "    <tr>\n",
       "      <th>7</th>\n",
       "      <td>64.000</td>\n",
       "      <td>66.00</td>\n",
       "      <td>67.0</td>\n",
       "      <td>62.14</td>\n",
       "      <td>0</td>\n",
       "      <td>1</td>\n",
       "      <td>0</td>\n",
       "      <td>0</td>\n",
       "      <td>1</td>\n",
       "      <td>0</td>\n",
       "      <td>0</td>\n",
       "      <td>1</td>\n",
       "      <td>1</td>\n",
       "      <td>0</td>\n",
       "    </tr>\n",
       "    <tr>\n",
       "      <th>...</th>\n",
       "      <td>...</td>\n",
       "      <td>...</td>\n",
       "      <td>...</td>\n",
       "      <td>...</td>\n",
       "      <td>...</td>\n",
       "      <td>...</td>\n",
       "      <td>...</td>\n",
       "      <td>...</td>\n",
       "      <td>...</td>\n",
       "      <td>...</td>\n",
       "      <td>...</td>\n",
       "      <td>...</td>\n",
       "      <td>...</td>\n",
       "      <td>...</td>\n",
       "    </tr>\n",
       "    <tr>\n",
       "      <th>209</th>\n",
       "      <td>72.000</td>\n",
       "      <td>65.00</td>\n",
       "      <td>67.0</td>\n",
       "      <td>56.49</td>\n",
       "      <td>0</td>\n",
       "      <td>1</td>\n",
       "      <td>0</td>\n",
       "      <td>1</td>\n",
       "      <td>0</td>\n",
       "      <td>1</td>\n",
       "      <td>0</td>\n",
       "      <td>0</td>\n",
       "      <td>1</td>\n",
       "      <td>0</td>\n",
       "    </tr>\n",
       "    <tr>\n",
       "      <th>210</th>\n",
       "      <td>82.000</td>\n",
       "      <td>77.60</td>\n",
       "      <td>91.0</td>\n",
       "      <td>74.49</td>\n",
       "      <td>0</td>\n",
       "      <td>1</td>\n",
       "      <td>0</td>\n",
       "      <td>1</td>\n",
       "      <td>0</td>\n",
       "      <td>1</td>\n",
       "      <td>0</td>\n",
       "      <td>0</td>\n",
       "      <td>1</td>\n",
       "      <td>0</td>\n",
       "    </tr>\n",
       "    <tr>\n",
       "      <th>211</th>\n",
       "      <td>60.000</td>\n",
       "      <td>72.00</td>\n",
       "      <td>74.0</td>\n",
       "      <td>53.62</td>\n",
       "      <td>0</td>\n",
       "      <td>1</td>\n",
       "      <td>0</td>\n",
       "      <td>0</td>\n",
       "      <td>1</td>\n",
       "      <td>0</td>\n",
       "      <td>0</td>\n",
       "      <td>1</td>\n",
       "      <td>1</td>\n",
       "      <td>0</td>\n",
       "    </tr>\n",
       "    <tr>\n",
       "      <th>212</th>\n",
       "      <td>67.000</td>\n",
       "      <td>73.00</td>\n",
       "      <td>59.0</td>\n",
       "      <td>69.72</td>\n",
       "      <td>0</td>\n",
       "      <td>1</td>\n",
       "      <td>0</td>\n",
       "      <td>1</td>\n",
       "      <td>0</td>\n",
       "      <td>1</td>\n",
       "      <td>0</td>\n",
       "      <td>0</td>\n",
       "      <td>1</td>\n",
       "      <td>0</td>\n",
       "    </tr>\n",
       "    <tr>\n",
       "      <th>213</th>\n",
       "      <td>66.000</td>\n",
       "      <td>58.00</td>\n",
       "      <td>70.0</td>\n",
       "      <td>60.23</td>\n",
       "      <td>1</td>\n",
       "      <td>0</td>\n",
       "      <td>0</td>\n",
       "      <td>1</td>\n",
       "      <td>0</td>\n",
       "      <td>1</td>\n",
       "      <td>0</td>\n",
       "      <td>0</td>\n",
       "      <td>0</td>\n",
       "      <td>1</td>\n",
       "    </tr>\n",
       "  </tbody>\n",
       "</table>\n",
       "<p>148 rows × 14 columns</p>\n",
       "</div>\n",
       "    <div class=\"colab-df-buttons\">\n",
       "\n",
       "  <div class=\"colab-df-container\">\n",
       "    <button class=\"colab-df-convert\" onclick=\"convertToInteractive('df-ad7a9c86-4eee-40c8-a2a4-e72476e6690c')\"\n",
       "            title=\"Convert this dataframe to an interactive table.\"\n",
       "            style=\"display:none;\">\n",
       "\n",
       "  <svg xmlns=\"http://www.w3.org/2000/svg\" height=\"24px\" viewBox=\"0 -960 960 960\">\n",
       "    <path d=\"M120-120v-720h720v720H120Zm60-500h600v-160H180v160Zm220 220h160v-160H400v160Zm0 220h160v-160H400v160ZM180-400h160v-160H180v160Zm440 0h160v-160H620v160ZM180-180h160v-160H180v160Zm440 0h160v-160H620v160Z\"/>\n",
       "  </svg>\n",
       "    </button>\n",
       "\n",
       "  <style>\n",
       "    .colab-df-container {\n",
       "      display:flex;\n",
       "      gap: 12px;\n",
       "    }\n",
       "\n",
       "    .colab-df-convert {\n",
       "      background-color: #E8F0FE;\n",
       "      border: none;\n",
       "      border-radius: 50%;\n",
       "      cursor: pointer;\n",
       "      display: none;\n",
       "      fill: #1967D2;\n",
       "      height: 32px;\n",
       "      padding: 0 0 0 0;\n",
       "      width: 32px;\n",
       "    }\n",
       "\n",
       "    .colab-df-convert:hover {\n",
       "      background-color: #E2EBFA;\n",
       "      box-shadow: 0px 1px 2px rgba(60, 64, 67, 0.3), 0px 1px 3px 1px rgba(60, 64, 67, 0.15);\n",
       "      fill: #174EA6;\n",
       "    }\n",
       "\n",
       "    .colab-df-buttons div {\n",
       "      margin-bottom: 4px;\n",
       "    }\n",
       "\n",
       "    [theme=dark] .colab-df-convert {\n",
       "      background-color: #3B4455;\n",
       "      fill: #D2E3FC;\n",
       "    }\n",
       "\n",
       "    [theme=dark] .colab-df-convert:hover {\n",
       "      background-color: #434B5C;\n",
       "      box-shadow: 0px 1px 3px 1px rgba(0, 0, 0, 0.15);\n",
       "      filter: drop-shadow(0px 1px 2px rgba(0, 0, 0, 0.3));\n",
       "      fill: #FFFFFF;\n",
       "    }\n",
       "  </style>\n",
       "\n",
       "    <script>\n",
       "      const buttonEl =\n",
       "        document.querySelector('#df-ad7a9c86-4eee-40c8-a2a4-e72476e6690c button.colab-df-convert');\n",
       "      buttonEl.style.display =\n",
       "        google.colab.kernel.accessAllowed ? 'block' : 'none';\n",
       "\n",
       "      async function convertToInteractive(key) {\n",
       "        const element = document.querySelector('#df-ad7a9c86-4eee-40c8-a2a4-e72476e6690c');\n",
       "        const dataTable =\n",
       "          await google.colab.kernel.invokeFunction('convertToInteractive',\n",
       "                                                    [key], {});\n",
       "        if (!dataTable) return;\n",
       "\n",
       "        const docLinkHtml = 'Like what you see? Visit the ' +\n",
       "          '<a target=\"_blank\" href=https://colab.research.google.com/notebooks/data_table.ipynb>data table notebook</a>'\n",
       "          + ' to learn more about interactive tables.';\n",
       "        element.innerHTML = '';\n",
       "        dataTable['output_type'] = 'display_data';\n",
       "        await google.colab.output.renderOutput(dataTable, element);\n",
       "        const docLink = document.createElement('div');\n",
       "        docLink.innerHTML = docLinkHtml;\n",
       "        element.appendChild(docLink);\n",
       "      }\n",
       "    </script>\n",
       "  </div>\n",
       "\n",
       "\n",
       "<div id=\"df-7b0ed0d6-cbf2-4d66-851a-0ef28be413ab\">\n",
       "  <button class=\"colab-df-quickchart\" onclick=\"quickchart('df-7b0ed0d6-cbf2-4d66-851a-0ef28be413ab')\"\n",
       "            title=\"Suggest charts\"\n",
       "            style=\"display:none;\">\n",
       "\n",
       "<svg xmlns=\"http://www.w3.org/2000/svg\" height=\"24px\"viewBox=\"0 0 24 24\"\n",
       "     width=\"24px\">\n",
       "    <g>\n",
       "        <path d=\"M19 3H5c-1.1 0-2 .9-2 2v14c0 1.1.9 2 2 2h14c1.1 0 2-.9 2-2V5c0-1.1-.9-2-2-2zM9 17H7v-7h2v7zm4 0h-2V7h2v10zm4 0h-2v-4h2v4z\"/>\n",
       "    </g>\n",
       "</svg>\n",
       "  </button>\n",
       "\n",
       "<style>\n",
       "  .colab-df-quickchart {\n",
       "      --bg-color: #E8F0FE;\n",
       "      --fill-color: #1967D2;\n",
       "      --hover-bg-color: #E2EBFA;\n",
       "      --hover-fill-color: #174EA6;\n",
       "      --disabled-fill-color: #AAA;\n",
       "      --disabled-bg-color: #DDD;\n",
       "  }\n",
       "\n",
       "  [theme=dark] .colab-df-quickchart {\n",
       "      --bg-color: #3B4455;\n",
       "      --fill-color: #D2E3FC;\n",
       "      --hover-bg-color: #434B5C;\n",
       "      --hover-fill-color: #FFFFFF;\n",
       "      --disabled-bg-color: #3B4455;\n",
       "      --disabled-fill-color: #666;\n",
       "  }\n",
       "\n",
       "  .colab-df-quickchart {\n",
       "    background-color: var(--bg-color);\n",
       "    border: none;\n",
       "    border-radius: 50%;\n",
       "    cursor: pointer;\n",
       "    display: none;\n",
       "    fill: var(--fill-color);\n",
       "    height: 32px;\n",
       "    padding: 0;\n",
       "    width: 32px;\n",
       "  }\n",
       "\n",
       "  .colab-df-quickchart:hover {\n",
       "    background-color: var(--hover-bg-color);\n",
       "    box-shadow: 0 1px 2px rgba(60, 64, 67, 0.3), 0 1px 3px 1px rgba(60, 64, 67, 0.15);\n",
       "    fill: var(--button-hover-fill-color);\n",
       "  }\n",
       "\n",
       "  .colab-df-quickchart-complete:disabled,\n",
       "  .colab-df-quickchart-complete:disabled:hover {\n",
       "    background-color: var(--disabled-bg-color);\n",
       "    fill: var(--disabled-fill-color);\n",
       "    box-shadow: none;\n",
       "  }\n",
       "\n",
       "  .colab-df-spinner {\n",
       "    border: 2px solid var(--fill-color);\n",
       "    border-color: transparent;\n",
       "    border-bottom-color: var(--fill-color);\n",
       "    animation:\n",
       "      spin 1s steps(1) infinite;\n",
       "  }\n",
       "\n",
       "  @keyframes spin {\n",
       "    0% {\n",
       "      border-color: transparent;\n",
       "      border-bottom-color: var(--fill-color);\n",
       "      border-left-color: var(--fill-color);\n",
       "    }\n",
       "    20% {\n",
       "      border-color: transparent;\n",
       "      border-left-color: var(--fill-color);\n",
       "      border-top-color: var(--fill-color);\n",
       "    }\n",
       "    30% {\n",
       "      border-color: transparent;\n",
       "      border-left-color: var(--fill-color);\n",
       "      border-top-color: var(--fill-color);\n",
       "      border-right-color: var(--fill-color);\n",
       "    }\n",
       "    40% {\n",
       "      border-color: transparent;\n",
       "      border-right-color: var(--fill-color);\n",
       "      border-top-color: var(--fill-color);\n",
       "    }\n",
       "    60% {\n",
       "      border-color: transparent;\n",
       "      border-right-color: var(--fill-color);\n",
       "    }\n",
       "    80% {\n",
       "      border-color: transparent;\n",
       "      border-right-color: var(--fill-color);\n",
       "      border-bottom-color: var(--fill-color);\n",
       "    }\n",
       "    90% {\n",
       "      border-color: transparent;\n",
       "      border-bottom-color: var(--fill-color);\n",
       "    }\n",
       "  }\n",
       "</style>\n",
       "\n",
       "  <script>\n",
       "    async function quickchart(key) {\n",
       "      const quickchartButtonEl =\n",
       "        document.querySelector('#' + key + ' button');\n",
       "      quickchartButtonEl.disabled = true;  // To prevent multiple clicks.\n",
       "      quickchartButtonEl.classList.add('colab-df-spinner');\n",
       "      try {\n",
       "        const charts = await google.colab.kernel.invokeFunction(\n",
       "            'suggestCharts', [key], {});\n",
       "      } catch (error) {\n",
       "        console.error('Error during call to suggestCharts:', error);\n",
       "      }\n",
       "      quickchartButtonEl.classList.remove('colab-df-spinner');\n",
       "      quickchartButtonEl.classList.add('colab-df-quickchart-complete');\n",
       "    }\n",
       "    (() => {\n",
       "      let quickchartButtonEl =\n",
       "        document.querySelector('#df-7b0ed0d6-cbf2-4d66-851a-0ef28be413ab button');\n",
       "      quickchartButtonEl.style.display =\n",
       "        google.colab.kernel.accessAllowed ? 'block' : 'none';\n",
       "    })();\n",
       "  </script>\n",
       "</div>\n",
       "    </div>\n",
       "  </div>\n"
      ],
      "text/plain": [
       "      hsc_p  degree_p  etest_p  mba_p  gender_F  gender_M  hsc_s_Arts  \\\n",
       "0    91.000     58.00     55.0  58.80         0         1           0   \n",
       "1    78.330     77.48     86.5  66.28         0         1           0   \n",
       "2    66.503     64.00     75.0  57.80         0         1           1   \n",
       "4    73.600     73.30     96.8  55.50         0         1           0   \n",
       "7    64.000     66.00     67.0  62.14         0         1           0   \n",
       "..      ...       ...      ...    ...       ...       ...         ...   \n",
       "209  72.000     65.00     67.0  56.49         0         1           0   \n",
       "210  82.000     77.60     91.0  74.49         0         1           0   \n",
       "211  60.000     72.00     74.0  53.62         0         1           0   \n",
       "212  67.000     73.00     59.0  69.72         0         1           0   \n",
       "213  66.000     58.00     70.0  60.23         1         0           0   \n",
       "\n",
       "     hsc_s_Commerce  hsc_s_Science  degree_t_Comm&Mgmt  degree_t_Others  \\\n",
       "0                 1              0                   0                0   \n",
       "1                 0              1                   0                0   \n",
       "2                 0              0                   1                0   \n",
       "4                 1              0                   1                0   \n",
       "7                 0              1                   0                0   \n",
       "..              ...            ...                 ...              ...   \n",
       "209               1              0                   1                0   \n",
       "210               1              0                   1                0   \n",
       "211               0              1                   0                0   \n",
       "212               1              0                   1                0   \n",
       "213               1              0                   1                0   \n",
       "\n",
       "     degree_t_Sci&Tech  specialisation_Mkt&Fin  specialisation_Mkt&HR  \n",
       "0                    1                       0                      1  \n",
       "1                    1                       1                      0  \n",
       "2                    0                       1                      0  \n",
       "4                    0                       1                      0  \n",
       "7                    1                       1                      0  \n",
       "..                 ...                     ...                    ...  \n",
       "209                  0                       1                      0  \n",
       "210                  0                       1                      0  \n",
       "211                  1                       1                      0  \n",
       "212                  0                       1                      0  \n",
       "213                  0                       0                      1  \n",
       "\n",
       "[148 rows x 14 columns]"
      ]
     },
     "execution_count": 24,
     "metadata": {},
     "output_type": "execute_result"
    }
   ],
   "source": [
    "##Print X\n",
    "X"
   ]
  },
  {
   "cell_type": "markdown",
   "metadata": {
    "id": "2IPVoHfJIZPf"
   },
   "source": [
    "Perform feature scaling for numarical values."
   ]
  },
  {
   "cell_type": "markdown",
   "metadata": {
    "id": "7dNLZuGdIlmv"
   },
   "source": [
    "MinMax Scaling"
   ]
  },
  {
   "cell_type": "code",
   "execution_count": null,
   "metadata": {
    "id": "Ll9PNU1X9Id9"
   },
   "outputs": [],
   "source": [
    "from sklearn.preprocessing import MinMaxScaler\n",
    "\n",
    "scaler = MinMaxScaler()\n",
    "#feature_range arguemnt can be used to specify the min, max range for features while creating the object for MinMaxScaler class. Eg. feature_range=(-1,1)\n",
    "X_scaled = scaler.fit_transform(X)"
   ]
  },
  {
   "cell_type": "code",
   "execution_count": null,
   "metadata": {
    "colab": {
     "base_uri": "https://localhost:8080/"
    },
    "executionInfo": {
     "elapsed": 472,
     "status": "ok",
     "timestamp": 1706000068902,
     "user": {
      "displayName": "Achala Hegde",
      "userId": "16272186569959107554"
     },
     "user_tz": -330
    },
    "id": "FByChMS99Id-",
    "outputId": "f05c8426-f507-47e0-f52a-abaf7e43bd28"
   },
   "outputs": [
    {
     "data": {
      "text/plain": [
       "array([[0.85705142, 0.05714286, 0.10416667, ..., 1.        , 0.        ,\n",
       "        1.        ],\n",
       "       [0.58672925, 0.61371429, 0.76041667, ..., 1.        , 1.        ,\n",
       "        0.        ],\n",
       "       [0.334393  , 0.22857143, 0.52083333, ..., 0.        , 1.        ,\n",
       "        0.        ],\n",
       "       ...,\n",
       "       [0.19564754, 0.45714286, 0.5       , ..., 1.        , 1.        ,\n",
       "        0.        ],\n",
       "       [0.3449968 , 0.48571429, 0.1875    , ..., 0.        , 1.        ,\n",
       "        0.        ],\n",
       "       [0.32366119, 0.05714286, 0.41666667, ..., 0.        , 0.        ,\n",
       "        1.        ]])"
      ]
     },
     "execution_count": 26,
     "metadata": {},
     "output_type": "execute_result"
    }
   ],
   "source": [
    "X_scaled"
   ]
  },
  {
   "cell_type": "code",
   "execution_count": null,
   "metadata": {
    "id": "cnhLkDYO9Id_"
   },
   "outputs": [],
   "source": [
    "columns = X.columns  # Assuming X is a DataFrame\n",
    "X_scaled_df = pd.DataFrame(X_scaled, columns=columns)"
   ]
  },
  {
   "cell_type": "code",
   "execution_count": null,
   "metadata": {
    "colab": {
     "base_uri": "https://localhost:8080/",
     "height": 443
    },
    "executionInfo": {
     "elapsed": 802,
     "status": "ok",
     "timestamp": 1706000078937,
     "user": {
      "displayName": "Achala Hegde",
      "userId": "16272186569959107554"
     },
     "user_tz": -330
    },
    "id": "8dxE6e_E9Id_",
    "outputId": "0a2a9a2c-761b-4475-fae6-6a1ea8f821d3"
   },
   "outputs": [
    {
     "data": {
      "text/html": [
       "\n",
       "  <div id=\"df-96f6641d-17ec-43d2-843a-1ab11e558e20\" class=\"colab-df-container\">\n",
       "    <div>\n",
       "<style scoped>\n",
       "    .dataframe tbody tr th:only-of-type {\n",
       "        vertical-align: middle;\n",
       "    }\n",
       "\n",
       "    .dataframe tbody tr th {\n",
       "        vertical-align: top;\n",
       "    }\n",
       "\n",
       "    .dataframe thead th {\n",
       "        text-align: right;\n",
       "    }\n",
       "</style>\n",
       "<table border=\"1\" class=\"dataframe\">\n",
       "  <thead>\n",
       "    <tr style=\"text-align: right;\">\n",
       "      <th></th>\n",
       "      <th>hsc_p</th>\n",
       "      <th>degree_p</th>\n",
       "      <th>etest_p</th>\n",
       "      <th>mba_p</th>\n",
       "      <th>gender_F</th>\n",
       "      <th>gender_M</th>\n",
       "      <th>hsc_s_Arts</th>\n",
       "      <th>hsc_s_Commerce</th>\n",
       "      <th>hsc_s_Science</th>\n",
       "      <th>degree_t_Comm&amp;Mgmt</th>\n",
       "      <th>degree_t_Others</th>\n",
       "      <th>degree_t_Sci&amp;Tech</th>\n",
       "      <th>specialisation_Mkt&amp;Fin</th>\n",
       "      <th>specialisation_Mkt&amp;HR</th>\n",
       "    </tr>\n",
       "  </thead>\n",
       "  <tbody>\n",
       "    <tr>\n",
       "      <th>0</th>\n",
       "      <td>0.857051</td>\n",
       "      <td>0.057143</td>\n",
       "      <td>0.104167</td>\n",
       "      <td>0.251666</td>\n",
       "      <td>0.0</td>\n",
       "      <td>1.0</td>\n",
       "      <td>0.0</td>\n",
       "      <td>1.0</td>\n",
       "      <td>0.0</td>\n",
       "      <td>0.0</td>\n",
       "      <td>0.0</td>\n",
       "      <td>1.0</td>\n",
       "      <td>0.0</td>\n",
       "      <td>1.0</td>\n",
       "    </tr>\n",
       "    <tr>\n",
       "      <th>1</th>\n",
       "      <td>0.586729</td>\n",
       "      <td>0.613714</td>\n",
       "      <td>0.760417</td>\n",
       "      <td>0.544884</td>\n",
       "      <td>0.0</td>\n",
       "      <td>1.0</td>\n",
       "      <td>0.0</td>\n",
       "      <td>0.0</td>\n",
       "      <td>1.0</td>\n",
       "      <td>0.0</td>\n",
       "      <td>0.0</td>\n",
       "      <td>1.0</td>\n",
       "      <td>1.0</td>\n",
       "      <td>0.0</td>\n",
       "    </tr>\n",
       "    <tr>\n",
       "      <th>2</th>\n",
       "      <td>0.334393</td>\n",
       "      <td>0.228571</td>\n",
       "      <td>0.520833</td>\n",
       "      <td>0.212466</td>\n",
       "      <td>0.0</td>\n",
       "      <td>1.0</td>\n",
       "      <td>1.0</td>\n",
       "      <td>0.0</td>\n",
       "      <td>0.0</td>\n",
       "      <td>1.0</td>\n",
       "      <td>0.0</td>\n",
       "      <td>0.0</td>\n",
       "      <td>1.0</td>\n",
       "      <td>0.0</td>\n",
       "    </tr>\n",
       "    <tr>\n",
       "      <th>3</th>\n",
       "      <td>0.485812</td>\n",
       "      <td>0.494286</td>\n",
       "      <td>0.975000</td>\n",
       "      <td>0.122305</td>\n",
       "      <td>0.0</td>\n",
       "      <td>1.0</td>\n",
       "      <td>0.0</td>\n",
       "      <td>1.0</td>\n",
       "      <td>0.0</td>\n",
       "      <td>1.0</td>\n",
       "      <td>0.0</td>\n",
       "      <td>0.0</td>\n",
       "      <td>1.0</td>\n",
       "      <td>0.0</td>\n",
       "    </tr>\n",
       "    <tr>\n",
       "      <th>4</th>\n",
       "      <td>0.280990</td>\n",
       "      <td>0.285714</td>\n",
       "      <td>0.354167</td>\n",
       "      <td>0.382595</td>\n",
       "      <td>0.0</td>\n",
       "      <td>1.0</td>\n",
       "      <td>0.0</td>\n",
       "      <td>0.0</td>\n",
       "      <td>1.0</td>\n",
       "      <td>0.0</td>\n",
       "      <td>0.0</td>\n",
       "      <td>1.0</td>\n",
       "      <td>1.0</td>\n",
       "      <td>0.0</td>\n",
       "    </tr>\n",
       "    <tr>\n",
       "      <th>...</th>\n",
       "      <td>...</td>\n",
       "      <td>...</td>\n",
       "      <td>...</td>\n",
       "      <td>...</td>\n",
       "      <td>...</td>\n",
       "      <td>...</td>\n",
       "      <td>...</td>\n",
       "      <td>...</td>\n",
       "      <td>...</td>\n",
       "      <td>...</td>\n",
       "      <td>...</td>\n",
       "      <td>...</td>\n",
       "      <td>...</td>\n",
       "      <td>...</td>\n",
       "    </tr>\n",
       "    <tr>\n",
       "      <th>143</th>\n",
       "      <td>0.451675</td>\n",
       "      <td>0.257143</td>\n",
       "      <td>0.354167</td>\n",
       "      <td>0.161113</td>\n",
       "      <td>0.0</td>\n",
       "      <td>1.0</td>\n",
       "      <td>0.0</td>\n",
       "      <td>1.0</td>\n",
       "      <td>0.0</td>\n",
       "      <td>1.0</td>\n",
       "      <td>0.0</td>\n",
       "      <td>0.0</td>\n",
       "      <td>1.0</td>\n",
       "      <td>0.0</td>\n",
       "    </tr>\n",
       "    <tr>\n",
       "      <th>144</th>\n",
       "      <td>0.665031</td>\n",
       "      <td>0.617143</td>\n",
       "      <td>0.854167</td>\n",
       "      <td>0.866719</td>\n",
       "      <td>0.0</td>\n",
       "      <td>1.0</td>\n",
       "      <td>0.0</td>\n",
       "      <td>1.0</td>\n",
       "      <td>0.0</td>\n",
       "      <td>1.0</td>\n",
       "      <td>0.0</td>\n",
       "      <td>0.0</td>\n",
       "      <td>1.0</td>\n",
       "      <td>0.0</td>\n",
       "    </tr>\n",
       "    <tr>\n",
       "      <th>145</th>\n",
       "      <td>0.195648</td>\n",
       "      <td>0.457143</td>\n",
       "      <td>0.500000</td>\n",
       "      <td>0.048608</td>\n",
       "      <td>0.0</td>\n",
       "      <td>1.0</td>\n",
       "      <td>0.0</td>\n",
       "      <td>0.0</td>\n",
       "      <td>1.0</td>\n",
       "      <td>0.0</td>\n",
       "      <td>0.0</td>\n",
       "      <td>1.0</td>\n",
       "      <td>1.0</td>\n",
       "      <td>0.0</td>\n",
       "    </tr>\n",
       "    <tr>\n",
       "      <th>146</th>\n",
       "      <td>0.344997</td>\n",
       "      <td>0.485714</td>\n",
       "      <td>0.187500</td>\n",
       "      <td>0.679733</td>\n",
       "      <td>0.0</td>\n",
       "      <td>1.0</td>\n",
       "      <td>0.0</td>\n",
       "      <td>1.0</td>\n",
       "      <td>0.0</td>\n",
       "      <td>1.0</td>\n",
       "      <td>0.0</td>\n",
       "      <td>0.0</td>\n",
       "      <td>1.0</td>\n",
       "      <td>0.0</td>\n",
       "    </tr>\n",
       "    <tr>\n",
       "      <th>147</th>\n",
       "      <td>0.323661</td>\n",
       "      <td>0.057143</td>\n",
       "      <td>0.416667</td>\n",
       "      <td>0.307722</td>\n",
       "      <td>1.0</td>\n",
       "      <td>0.0</td>\n",
       "      <td>0.0</td>\n",
       "      <td>1.0</td>\n",
       "      <td>0.0</td>\n",
       "      <td>1.0</td>\n",
       "      <td>0.0</td>\n",
       "      <td>0.0</td>\n",
       "      <td>0.0</td>\n",
       "      <td>1.0</td>\n",
       "    </tr>\n",
       "  </tbody>\n",
       "</table>\n",
       "<p>148 rows × 14 columns</p>\n",
       "</div>\n",
       "    <div class=\"colab-df-buttons\">\n",
       "\n",
       "  <div class=\"colab-df-container\">\n",
       "    <button class=\"colab-df-convert\" onclick=\"convertToInteractive('df-96f6641d-17ec-43d2-843a-1ab11e558e20')\"\n",
       "            title=\"Convert this dataframe to an interactive table.\"\n",
       "            style=\"display:none;\">\n",
       "\n",
       "  <svg xmlns=\"http://www.w3.org/2000/svg\" height=\"24px\" viewBox=\"0 -960 960 960\">\n",
       "    <path d=\"M120-120v-720h720v720H120Zm60-500h600v-160H180v160Zm220 220h160v-160H400v160Zm0 220h160v-160H400v160ZM180-400h160v-160H180v160Zm440 0h160v-160H620v160ZM180-180h160v-160H180v160Zm440 0h160v-160H620v160Z\"/>\n",
       "  </svg>\n",
       "    </button>\n",
       "\n",
       "  <style>\n",
       "    .colab-df-container {\n",
       "      display:flex;\n",
       "      gap: 12px;\n",
       "    }\n",
       "\n",
       "    .colab-df-convert {\n",
       "      background-color: #E8F0FE;\n",
       "      border: none;\n",
       "      border-radius: 50%;\n",
       "      cursor: pointer;\n",
       "      display: none;\n",
       "      fill: #1967D2;\n",
       "      height: 32px;\n",
       "      padding: 0 0 0 0;\n",
       "      width: 32px;\n",
       "    }\n",
       "\n",
       "    .colab-df-convert:hover {\n",
       "      background-color: #E2EBFA;\n",
       "      box-shadow: 0px 1px 2px rgba(60, 64, 67, 0.3), 0px 1px 3px 1px rgba(60, 64, 67, 0.15);\n",
       "      fill: #174EA6;\n",
       "    }\n",
       "\n",
       "    .colab-df-buttons div {\n",
       "      margin-bottom: 4px;\n",
       "    }\n",
       "\n",
       "    [theme=dark] .colab-df-convert {\n",
       "      background-color: #3B4455;\n",
       "      fill: #D2E3FC;\n",
       "    }\n",
       "\n",
       "    [theme=dark] .colab-df-convert:hover {\n",
       "      background-color: #434B5C;\n",
       "      box-shadow: 0px 1px 3px 1px rgba(0, 0, 0, 0.15);\n",
       "      filter: drop-shadow(0px 1px 2px rgba(0, 0, 0, 0.3));\n",
       "      fill: #FFFFFF;\n",
       "    }\n",
       "  </style>\n",
       "\n",
       "    <script>\n",
       "      const buttonEl =\n",
       "        document.querySelector('#df-96f6641d-17ec-43d2-843a-1ab11e558e20 button.colab-df-convert');\n",
       "      buttonEl.style.display =\n",
       "        google.colab.kernel.accessAllowed ? 'block' : 'none';\n",
       "\n",
       "      async function convertToInteractive(key) {\n",
       "        const element = document.querySelector('#df-96f6641d-17ec-43d2-843a-1ab11e558e20');\n",
       "        const dataTable =\n",
       "          await google.colab.kernel.invokeFunction('convertToInteractive',\n",
       "                                                    [key], {});\n",
       "        if (!dataTable) return;\n",
       "\n",
       "        const docLinkHtml = 'Like what you see? Visit the ' +\n",
       "          '<a target=\"_blank\" href=https://colab.research.google.com/notebooks/data_table.ipynb>data table notebook</a>'\n",
       "          + ' to learn more about interactive tables.';\n",
       "        element.innerHTML = '';\n",
       "        dataTable['output_type'] = 'display_data';\n",
       "        await google.colab.output.renderOutput(dataTable, element);\n",
       "        const docLink = document.createElement('div');\n",
       "        docLink.innerHTML = docLinkHtml;\n",
       "        element.appendChild(docLink);\n",
       "      }\n",
       "    </script>\n",
       "  </div>\n",
       "\n",
       "\n",
       "<div id=\"df-5a4e665d-4df1-442c-b0f5-fab59de787e0\">\n",
       "  <button class=\"colab-df-quickchart\" onclick=\"quickchart('df-5a4e665d-4df1-442c-b0f5-fab59de787e0')\"\n",
       "            title=\"Suggest charts\"\n",
       "            style=\"display:none;\">\n",
       "\n",
       "<svg xmlns=\"http://www.w3.org/2000/svg\" height=\"24px\"viewBox=\"0 0 24 24\"\n",
       "     width=\"24px\">\n",
       "    <g>\n",
       "        <path d=\"M19 3H5c-1.1 0-2 .9-2 2v14c0 1.1.9 2 2 2h14c1.1 0 2-.9 2-2V5c0-1.1-.9-2-2-2zM9 17H7v-7h2v7zm4 0h-2V7h2v10zm4 0h-2v-4h2v4z\"/>\n",
       "    </g>\n",
       "</svg>\n",
       "  </button>\n",
       "\n",
       "<style>\n",
       "  .colab-df-quickchart {\n",
       "      --bg-color: #E8F0FE;\n",
       "      --fill-color: #1967D2;\n",
       "      --hover-bg-color: #E2EBFA;\n",
       "      --hover-fill-color: #174EA6;\n",
       "      --disabled-fill-color: #AAA;\n",
       "      --disabled-bg-color: #DDD;\n",
       "  }\n",
       "\n",
       "  [theme=dark] .colab-df-quickchart {\n",
       "      --bg-color: #3B4455;\n",
       "      --fill-color: #D2E3FC;\n",
       "      --hover-bg-color: #434B5C;\n",
       "      --hover-fill-color: #FFFFFF;\n",
       "      --disabled-bg-color: #3B4455;\n",
       "      --disabled-fill-color: #666;\n",
       "  }\n",
       "\n",
       "  .colab-df-quickchart {\n",
       "    background-color: var(--bg-color);\n",
       "    border: none;\n",
       "    border-radius: 50%;\n",
       "    cursor: pointer;\n",
       "    display: none;\n",
       "    fill: var(--fill-color);\n",
       "    height: 32px;\n",
       "    padding: 0;\n",
       "    width: 32px;\n",
       "  }\n",
       "\n",
       "  .colab-df-quickchart:hover {\n",
       "    background-color: var(--hover-bg-color);\n",
       "    box-shadow: 0 1px 2px rgba(60, 64, 67, 0.3), 0 1px 3px 1px rgba(60, 64, 67, 0.15);\n",
       "    fill: var(--button-hover-fill-color);\n",
       "  }\n",
       "\n",
       "  .colab-df-quickchart-complete:disabled,\n",
       "  .colab-df-quickchart-complete:disabled:hover {\n",
       "    background-color: var(--disabled-bg-color);\n",
       "    fill: var(--disabled-fill-color);\n",
       "    box-shadow: none;\n",
       "  }\n",
       "\n",
       "  .colab-df-spinner {\n",
       "    border: 2px solid var(--fill-color);\n",
       "    border-color: transparent;\n",
       "    border-bottom-color: var(--fill-color);\n",
       "    animation:\n",
       "      spin 1s steps(1) infinite;\n",
       "  }\n",
       "\n",
       "  @keyframes spin {\n",
       "    0% {\n",
       "      border-color: transparent;\n",
       "      border-bottom-color: var(--fill-color);\n",
       "      border-left-color: var(--fill-color);\n",
       "    }\n",
       "    20% {\n",
       "      border-color: transparent;\n",
       "      border-left-color: var(--fill-color);\n",
       "      border-top-color: var(--fill-color);\n",
       "    }\n",
       "    30% {\n",
       "      border-color: transparent;\n",
       "      border-left-color: var(--fill-color);\n",
       "      border-top-color: var(--fill-color);\n",
       "      border-right-color: var(--fill-color);\n",
       "    }\n",
       "    40% {\n",
       "      border-color: transparent;\n",
       "      border-right-color: var(--fill-color);\n",
       "      border-top-color: var(--fill-color);\n",
       "    }\n",
       "    60% {\n",
       "      border-color: transparent;\n",
       "      border-right-color: var(--fill-color);\n",
       "    }\n",
       "    80% {\n",
       "      border-color: transparent;\n",
       "      border-right-color: var(--fill-color);\n",
       "      border-bottom-color: var(--fill-color);\n",
       "    }\n",
       "    90% {\n",
       "      border-color: transparent;\n",
       "      border-bottom-color: var(--fill-color);\n",
       "    }\n",
       "  }\n",
       "</style>\n",
       "\n",
       "  <script>\n",
       "    async function quickchart(key) {\n",
       "      const quickchartButtonEl =\n",
       "        document.querySelector('#' + key + ' button');\n",
       "      quickchartButtonEl.disabled = true;  // To prevent multiple clicks.\n",
       "      quickchartButtonEl.classList.add('colab-df-spinner');\n",
       "      try {\n",
       "        const charts = await google.colab.kernel.invokeFunction(\n",
       "            'suggestCharts', [key], {});\n",
       "      } catch (error) {\n",
       "        console.error('Error during call to suggestCharts:', error);\n",
       "      }\n",
       "      quickchartButtonEl.classList.remove('colab-df-spinner');\n",
       "      quickchartButtonEl.classList.add('colab-df-quickchart-complete');\n",
       "    }\n",
       "    (() => {\n",
       "      let quickchartButtonEl =\n",
       "        document.querySelector('#df-5a4e665d-4df1-442c-b0f5-fab59de787e0 button');\n",
       "      quickchartButtonEl.style.display =\n",
       "        google.colab.kernel.accessAllowed ? 'block' : 'none';\n",
       "    })();\n",
       "  </script>\n",
       "</div>\n",
       "    </div>\n",
       "  </div>\n"
      ],
      "text/plain": [
       "        hsc_p  degree_p   etest_p     mba_p  gender_F  gender_M  hsc_s_Arts  \\\n",
       "0    0.857051  0.057143  0.104167  0.251666       0.0       1.0         0.0   \n",
       "1    0.586729  0.613714  0.760417  0.544884       0.0       1.0         0.0   \n",
       "2    0.334393  0.228571  0.520833  0.212466       0.0       1.0         1.0   \n",
       "3    0.485812  0.494286  0.975000  0.122305       0.0       1.0         0.0   \n",
       "4    0.280990  0.285714  0.354167  0.382595       0.0       1.0         0.0   \n",
       "..        ...       ...       ...       ...       ...       ...         ...   \n",
       "143  0.451675  0.257143  0.354167  0.161113       0.0       1.0         0.0   \n",
       "144  0.665031  0.617143  0.854167  0.866719       0.0       1.0         0.0   \n",
       "145  0.195648  0.457143  0.500000  0.048608       0.0       1.0         0.0   \n",
       "146  0.344997  0.485714  0.187500  0.679733       0.0       1.0         0.0   \n",
       "147  0.323661  0.057143  0.416667  0.307722       1.0       0.0         0.0   \n",
       "\n",
       "     hsc_s_Commerce  hsc_s_Science  degree_t_Comm&Mgmt  degree_t_Others  \\\n",
       "0               1.0            0.0                 0.0              0.0   \n",
       "1               0.0            1.0                 0.0              0.0   \n",
       "2               0.0            0.0                 1.0              0.0   \n",
       "3               1.0            0.0                 1.0              0.0   \n",
       "4               0.0            1.0                 0.0              0.0   \n",
       "..              ...            ...                 ...              ...   \n",
       "143             1.0            0.0                 1.0              0.0   \n",
       "144             1.0            0.0                 1.0              0.0   \n",
       "145             0.0            1.0                 0.0              0.0   \n",
       "146             1.0            0.0                 1.0              0.0   \n",
       "147             1.0            0.0                 1.0              0.0   \n",
       "\n",
       "     degree_t_Sci&Tech  specialisation_Mkt&Fin  specialisation_Mkt&HR  \n",
       "0                  1.0                     0.0                    1.0  \n",
       "1                  1.0                     1.0                    0.0  \n",
       "2                  0.0                     1.0                    0.0  \n",
       "3                  0.0                     1.0                    0.0  \n",
       "4                  1.0                     1.0                    0.0  \n",
       "..                 ...                     ...                    ...  \n",
       "143                0.0                     1.0                    0.0  \n",
       "144                0.0                     1.0                    0.0  \n",
       "145                1.0                     1.0                    0.0  \n",
       "146                0.0                     1.0                    0.0  \n",
       "147                0.0                     0.0                    1.0  \n",
       "\n",
       "[148 rows x 14 columns]"
      ]
     },
     "execution_count": 28,
     "metadata": {},
     "output_type": "execute_result"
    }
   ],
   "source": [
    "X_scaled_df"
   ]
  },
  {
   "cell_type": "markdown",
   "metadata": {
    "id": "GirT07BnJb53"
   },
   "source": [
    "Code for standardization"
   ]
  },
  {
   "cell_type": "code",
   "execution_count": null,
   "metadata": {
    "id": "n0oyan51B5Xi"
   },
   "outputs": [],
   "source": [
    "#from sklearn.preprocessing import StandardScaler\n",
    "\n",
    "#scaler = StandardScaler()\n",
    "#Y_scaled = scaler.fit_transform(X)"
   ]
  },
  {
   "cell_type": "markdown",
   "metadata": {
    "id": "0wU5bugF-FrH"
   },
   "source": [
    "-------\n",
    "-------"
   ]
  },
  {
   "cell_type": "markdown",
   "metadata": {
    "id": "fhi66mxJ-KO9"
   },
   "source": [
    "# **Exercise problems**"
   ]
  },
  {
   "cell_type": "code",
   "execution_count": 2,
   "metadata": {
    "id": "YJcP6KQb-UUf",
    "ExecuteTime": {
     "end_time": "2024-03-18T15:56:48.313915Z",
     "start_time": "2024-03-18T15:56:48.285507Z"
    }
   },
   "outputs": [],
   "source": [
    "import pandas as pd"
   ]
  },
  {
   "cell_type": "markdown",
   "metadata": {
    "id": "uJUfNst7iApm"
   },
   "source": [
    "1. Given Automobile.csv, read the csv file."
   ]
  },
  {
   "cell_type": "code",
   "execution_count": 4,
   "metadata": {
    "id": "qQWsAnslin_L",
    "ExecuteTime": {
     "end_time": "2024-03-18T15:57:28.411586Z",
     "start_time": "2024-03-18T15:57:28.394482Z"
    }
   },
   "outputs": [],
   "source": [
    "auto = pd.read_csv(\"/Users/kashishvarma/Documents/SEM-4/Machine Learning /csv/Automobile.csv\")"
   ]
  },
  {
   "cell_type": "markdown",
   "metadata": {
    "id": "WjTcHifRKBhk"
   },
   "source": [
    "## Handling Null values"
   ]
  },
  {
   "cell_type": "markdown",
   "metadata": {
    "id": "JxqT3jqWKD8S"
   },
   "source": [
    "2. Calculate number of null values in each column"
   ]
  },
  {
   "cell_type": "code",
   "execution_count": 5,
   "metadata": {
    "id": "EC44a4gbiwvQ",
    "ExecuteTime": {
     "end_time": "2024-03-18T15:57:46.015595Z",
     "start_time": "2024-03-18T15:57:45.982591Z"
    }
   },
   "outputs": [
    {
     "data": {
      "text/plain": "name             0\nmpg              0\ncylinders        3\ndisplacement     3\nhorsepower      12\nweight           2\nacceleration     3\nmodel_year       0\norigin           0\ndtype: int64"
     },
     "execution_count": 5,
     "metadata": {},
     "output_type": "execute_result"
    }
   ],
   "source": [
    "auto.isnull().sum()"
   ]
  },
  {
   "cell_type": "markdown",
   "metadata": {
    "id": "1mY0SM4GKZcu"
   },
   "source": [
    "3. Delete or Fill the null values with appropriate measures"
   ]
  },
  {
   "cell_type": "code",
   "execution_count": 6,
   "metadata": {
    "id": "2ruom4toi2vO",
    "ExecuteTime": {
     "end_time": "2024-03-18T15:58:39.271182Z",
     "start_time": "2024-03-18T15:58:39.256419Z"
    }
   },
   "outputs": [],
   "source": [
    "cylinder_mean = auto['cylinders'].mean()\n",
    "displacement_mean = auto['displacement'].mean()\n",
    "horsepower_mean = auto['horsepower'].mean()\n",
    "weight_mean = auto['weight'].mean()\n",
    "acceleration_mean = auto['acceleration'].mean()\n",
    "\n",
    "auto['cylinders'].fillna(cylinder_mean, inplace = True)\n",
    "auto['displacement'].fillna(displacement_mean, inplace=True)\n",
    "auto['horsepower'].fillna(horsepower_mean, inplace=True)\n",
    "auto['weight'].fillna(weight_mean, inplace=True)\n",
    "auto['acceleration'].fillna(acceleration_mean, inplace=True)"
   ]
  },
  {
   "cell_type": "code",
   "outputs": [
    {
     "data": {
      "text/plain": "name            0\nmpg             0\ncylinders       0\ndisplacement    0\nhorsepower      0\nweight          0\nacceleration    0\nmodel_year      0\norigin          0\ndtype: int64"
     },
     "execution_count": 7,
     "metadata": {},
     "output_type": "execute_result"
    }
   ],
   "source": [
    "auto.isnull().sum()"
   ],
   "metadata": {
    "collapsed": false,
    "ExecuteTime": {
     "end_time": "2024-03-18T15:58:55.988167Z",
     "start_time": "2024-03-18T15:58:55.975300Z"
    }
   },
   "execution_count": 7
  },
  {
   "cell_type": "markdown",
   "metadata": {
    "id": "eKy4iIRQN7bi"
   },
   "source": [
    "## Detecting Outliers:\n",
    "\n",
    "\n",
    "4. Check for outliers using boxplot"
   ]
  },
  {
   "cell_type": "code",
   "execution_count": 9,
   "metadata": {
    "id": "9mwtg4AAjDlB",
    "ExecuteTime": {
     "end_time": "2024-03-18T15:59:34.044732Z",
     "start_time": "2024-03-18T15:59:32.022336Z"
    }
   },
   "outputs": [
    {
     "data": {
      "text/plain": "<Axes: xlabel='horsepower'>"
     },
     "execution_count": 9,
     "metadata": {},
     "output_type": "execute_result"
    },
    {
     "data": {
      "text/plain": "<Figure size 640x480 with 1 Axes>",
      "image/png": "[encoded data removed]"
     },
     "metadata": {},
     "output_type": "display_data"
    }
   ],
   "source": [
    "import seaborn as sns\n",
    "sns.boxplot(x= auto['horsepower'])"
   ]
  },
  {
   "cell_type": "markdown",
   "metadata": {
    "id": "yd_dpoh3WLDf"
   },
   "source": [
    "5. Check outliers using Z-score method"
   ]
  },
  {
   "cell_type": "code",
   "execution_count": 10,
   "metadata": {
    "id": "_Vu0wm9mjEo7",
    "ExecuteTime": {
     "end_time": "2024-03-18T16:03:09.621116Z",
     "start_time": "2024-03-18T16:03:09.610764Z"
    }
   },
   "outputs": [],
   "source": [
    "# Calculation of Ub and Lb for outlier detection using mean and std deviation \n",
    "ub = auto['horsepower'].mean() + 2 * auto['horsepower'].std()\n",
    "lb = auto['horsepower'].mean() - 2 *  auto['horsepower'].std()"
   ]
  },
  {
   "cell_type": "code",
   "outputs": [
    {
     "data": {
      "text/plain": "21"
     },
     "execution_count": 16,
     "metadata": {},
     "output_type": "execute_result"
    }
   ],
   "source": [
    "# Find the outliers\n",
    "len(auto.loc[(auto['horsepower']>=ub) | (auto['horsepower']<=lb)])"
   ],
   "metadata": {
    "collapsed": false,
    "ExecuteTime": {
     "end_time": "2024-03-18T16:04:34.581656Z",
     "start_time": "2024-03-18T16:04:34.569259Z"
    }
   },
   "execution_count": 16
  },
  {
   "cell_type": "markdown",
   "metadata": {
    "id": "mxmCJD0pWTBn"
   },
   "source": [
    "## Handeling outliers\n",
    "\n",
    "5. Remove outliers"
   ]
  },
  {
   "cell_type": "code",
   "execution_count": 17,
   "metadata": {
    "id": "cMRtB3wiPrQp",
    "ExecuteTime": {
     "end_time": "2024-03-18T16:04:36.797497Z",
     "start_time": "2024-03-18T16:04:36.788997Z"
    }
   },
   "outputs": [],
   "source": [
    "auto_new = auto.loc[(auto['horsepower']<=ub) & (auto['horsepower']>=lb)]"
   ]
  },
  {
   "cell_type": "code",
   "outputs": [
    {
     "data": {
      "text/plain": "<Axes: xlabel='horsepower'>"
     },
     "execution_count": 18,
     "metadata": {},
     "output_type": "execute_result"
    },
    {
     "data": {
      "text/plain": "<Figure size 640x480 with 1 Axes>",
      "image/png": "[encoded data removed]"
     },
     "metadata": {},
     "output_type": "display_data"
    }
   ],
   "source": [
    "sns.boxplot(x= auto_new['horsepower'])"
   ],
   "metadata": {
    "collapsed": false,
    "ExecuteTime": {
     "end_time": "2024-03-18T16:04:39.100664Z",
     "start_time": "2024-03-18T16:04:38.046898Z"
    }
   },
   "execution_count": 18
  },
  {
   "cell_type": "markdown",
   "metadata": {
    "id": "GU1GD1EUWcpB"
   },
   "source": [
    "6. Remove outliers using Quantile-Based Capping and Flooring method"
   ]
  },
  {
   "cell_type": "code",
   "execution_count": 20,
   "metadata": {
    "id": "K94BiwpZPsnv",
    "ExecuteTime": {
     "end_time": "2024-03-18T16:05:29.601986Z",
     "start_time": "2024-03-18T16:05:29.578802Z"
    }
   },
   "outputs": [],
   "source": [
    "new_auto_copy = auto.copy()\n",
    "new_auto_copy.loc[(new_auto_copy['horsepower']>ub), 'horsepower'] = ub\n",
    "new_auto_copy.loc[(new_auto_copy['horsepower']<lb), 'horsepower'] = lb\n"
   ]
  },
  {
   "cell_type": "code",
   "outputs": [
    {
     "data": {
      "text/plain": "<Axes: xlabel='horsepower'>"
     },
     "execution_count": 21,
     "metadata": {},
     "output_type": "execute_result"
    },
    {
     "data": {
      "text/plain": "<Figure size 640x480 with 1 Axes>",
      "image/png": "[encoded data removed]"
     },
     "metadata": {},
     "output_type": "display_data"
    }
   ],
   "source": [
    "sns.boxplot(x=new_auto_copy['horsepower'])"
   ],
   "metadata": {
    "collapsed": false,
    "ExecuteTime": {
     "end_time": "2024-03-18T16:05:31.531769Z",
     "start_time": "2024-03-18T16:05:30.588980Z"
    }
   },
   "execution_count": 21
  },
  {
   "cell_type": "markdown",
   "metadata": {
    "id": "CrBsh3LfWuz2"
   },
   "source": [
    "7. Remove outliers using Mean/Median Imputation method"
   ]
  },
  {
   "cell_type": "code",
   "execution_count": null,
   "metadata": {
    "id": "qhe-793kP9wy"
   },
   "outputs": [],
   "source": [
    "Mean median \n"
   ]
  },
  {
   "cell_type": "markdown",
   "metadata": {
    "id": "dfBkQNv7XJUS"
   },
   "source": [
    "# Feature Encoding"
   ]
  },
  {
   "cell_type": "markdown",
   "metadata": {
    "id": "VZ91ozzwXaHW"
   },
   "source": [
    "label encoding"
   ]
  },
  {
   "cell_type": "markdown",
   "metadata": {
    "id": "y1oUJOAaXLKI"
   },
   "source": [
    "8. Perform label encoding to all categorical variables."
   ]
  },
  {
   "cell_type": "code",
   "execution_count": 22,
   "metadata": {
    "id": "dJgX9EY9aNFO",
    "ExecuteTime": {
     "end_time": "2024-03-18T16:06:53.996786Z",
     "start_time": "2024-03-18T16:06:53.937951Z"
    }
   },
   "outputs": [
    {
     "data": {
      "text/plain": "                        name   mpg  cylinders  displacement  horsepower  \\\n0  chevrolet chevelle malibu  18.0    8.00000         307.0       130.0   \n1          buick skylark 320  15.0    8.00000         350.0       165.0   \n2         plymouth satellite  18.0    8.00000         318.0       150.0   \n3              amc rebel sst  16.0    8.00000         304.0       150.0   \n4                ford torino  17.0    5.44557         302.0       140.0   \n\n   weight  acceleration  model_year origin  \n0  3504.0          12.0          70    usa  \n1  3693.0          11.5          70    usa  \n2  3436.0          11.0          70    usa  \n3  3433.0          12.0          70    usa  \n4  3449.0          10.5          70    usa  ",
      "text/html": "<div>\n<style scoped>\n    .dataframe tbody tr th:only-of-type {\n        vertical-align: middle;\n    }\n\n    .dataframe tbody tr th {\n        vertical-align: top;\n    }\n\n    .dataframe thead th {\n        text-align: right;\n    }\n</style>\n<table border=\"1\" class=\"dataframe\">\n  <thead>\n    <tr style=\"text-align: right;\">\n      <th></th>\n      <th>name</th>\n      <th>mpg</th>\n      <th>cylinders</th>\n      <th>displacement</th>\n      <th>horsepower</th>\n      <th>weight</th>\n      <th>acceleration</th>\n      <th>model_year</th>\n      <th>origin</th>\n    </tr>\n  </thead>\n  <tbody>\n    <tr>\n      <th>0</th>\n      <td>chevrolet chevelle malibu</td>\n      <td>18.0</td>\n      <td>8.00000</td>\n      <td>307.0</td>\n      <td>130.0</td>\n      <td>3504.0</td>\n      <td>12.0</td>\n      <td>70</td>\n      <td>usa</td>\n    </tr>\n    <tr>\n      <th>1</th>\n      <td>buick skylark 320</td>\n      <td>15.0</td>\n      <td>8.00000</td>\n      <td>350.0</td>\n      <td>165.0</td>\n      <td>3693.0</td>\n      <td>11.5</td>\n      <td>70</td>\n      <td>usa</td>\n    </tr>\n    <tr>\n      <th>2</th>\n      <td>plymouth satellite</td>\n      <td>18.0</td>\n      <td>8.00000</td>\n      <td>318.0</td>\n      <td>150.0</td>\n      <td>3436.0</td>\n      <td>11.0</td>\n      <td>70</td>\n      <td>usa</td>\n    </tr>\n    <tr>\n      <th>3</th>\n      <td>amc rebel sst</td>\n      <td>16.0</td>\n      <td>8.00000</td>\n      <td>304.0</td>\n      <td>150.0</td>\n      <td>3433.0</td>\n      <td>12.0</td>\n      <td>70</td>\n      <td>usa</td>\n    </tr>\n    <tr>\n      <th>4</th>\n      <td>ford torino</td>\n      <td>17.0</td>\n      <td>5.44557</td>\n      <td>302.0</td>\n      <td>140.0</td>\n      <td>3449.0</td>\n      <td>10.5</td>\n      <td>70</td>\n      <td>usa</td>\n    </tr>\n  </tbody>\n</table>\n</div>"
     },
     "execution_count": 22,
     "metadata": {},
     "output_type": "execute_result"
    }
   ],
   "source": [
    "auto.head()"
   ]
  },
  {
   "cell_type": "code",
   "outputs": [],
   "source": [
    "from sklearn.preprocessing import LabelEncoder\n",
    "label_encode = LabelEncoder()\n",
    "auto['origin_Label'] = label_encode.fit_transform(auto['origin'])"
   ],
   "metadata": {
    "collapsed": false,
    "ExecuteTime": {
     "end_time": "2024-03-18T16:07:33.616848Z",
     "start_time": "2024-03-18T16:07:33.605718Z"
    }
   },
   "execution_count": 24
  },
  {
   "cell_type": "code",
   "outputs": [
    {
     "data": {
      "text/plain": "                        name   mpg  cylinders  displacement  horsepower  \\\n0  chevrolet chevelle malibu  18.0    8.00000         307.0       130.0   \n1          buick skylark 320  15.0    8.00000         350.0       165.0   \n2         plymouth satellite  18.0    8.00000         318.0       150.0   \n3              amc rebel sst  16.0    8.00000         304.0       150.0   \n4                ford torino  17.0    5.44557         302.0       140.0   \n\n   weight  acceleration  model_year origin  origin_Label  \n0  3504.0          12.0          70    usa             2  \n1  3693.0          11.5          70    usa             2  \n2  3436.0          11.0          70    usa             2  \n3  3433.0          12.0          70    usa             2  \n4  3449.0          10.5          70    usa             2  ",
      "text/html": "<div>\n<style scoped>\n    .dataframe tbody tr th:only-of-type {\n        vertical-align: middle;\n    }\n\n    .dataframe tbody tr th {\n        vertical-align: top;\n    }\n\n    .dataframe thead th {\n        text-align: right;\n    }\n</style>\n<table border=\"1\" class=\"dataframe\">\n  <thead>\n    <tr style=\"text-align: right;\">\n      <th></th>\n      <th>name</th>\n      <th>mpg</th>\n      <th>cylinders</th>\n      <th>displacement</th>\n      <th>horsepower</th>\n      <th>weight</th>\n      <th>acceleration</th>\n      <th>model_year</th>\n      <th>origin</th>\n      <th>origin_Label</th>\n    </tr>\n  </thead>\n  <tbody>\n    <tr>\n      <th>0</th>\n      <td>chevrolet chevelle malibu</td>\n      <td>18.0</td>\n      <td>8.00000</td>\n      <td>307.0</td>\n      <td>130.0</td>\n      <td>3504.0</td>\n      <td>12.0</td>\n      <td>70</td>\n      <td>usa</td>\n      <td>2</td>\n    </tr>\n    <tr>\n      <th>1</th>\n      <td>buick skylark 320</td>\n      <td>15.0</td>\n      <td>8.00000</td>\n      <td>350.0</td>\n      <td>165.0</td>\n      <td>3693.0</td>\n      <td>11.5</td>\n      <td>70</td>\n      <td>usa</td>\n      <td>2</td>\n    </tr>\n    <tr>\n      <th>2</th>\n      <td>plymouth satellite</td>\n      <td>18.0</td>\n      <td>8.00000</td>\n      <td>318.0</td>\n      <td>150.0</td>\n      <td>3436.0</td>\n      <td>11.0</td>\n      <td>70</td>\n      <td>usa</td>\n      <td>2</td>\n    </tr>\n    <tr>\n      <th>3</th>\n      <td>amc rebel sst</td>\n      <td>16.0</td>\n      <td>8.00000</td>\n      <td>304.0</td>\n      <td>150.0</td>\n      <td>3433.0</td>\n      <td>12.0</td>\n      <td>70</td>\n      <td>usa</td>\n      <td>2</td>\n    </tr>\n    <tr>\n      <th>4</th>\n      <td>ford torino</td>\n      <td>17.0</td>\n      <td>5.44557</td>\n      <td>302.0</td>\n      <td>140.0</td>\n      <td>3449.0</td>\n      <td>10.5</td>\n      <td>70</td>\n      <td>usa</td>\n      <td>2</td>\n    </tr>\n  </tbody>\n</table>\n</div>"
     },
     "execution_count": 25,
     "metadata": {},
     "output_type": "execute_result"
    }
   ],
   "source": [
    "auto.head()"
   ],
   "metadata": {
    "collapsed": false,
    "ExecuteTime": {
     "end_time": "2024-03-18T16:07:46.890184Z",
     "start_time": "2024-03-18T16:07:46.836543Z"
    }
   },
   "execution_count": 25
  },
  {
   "cell_type": "markdown",
   "metadata": {
    "id": "-bcYdW-OXfbG"
   },
   "source": [
    "OneHot encoding"
   ]
  },
  {
   "cell_type": "markdown",
   "metadata": {
    "id": "0gCch709XiUP"
   },
   "source": [
    "9. Perform One-Hot encoding for categorical variables"
   ]
  },
  {
   "cell_type": "code",
   "execution_count": 29,
   "metadata": {
    "id": "jeayzgxGaPes",
    "ExecuteTime": {
     "end_time": "2024-03-18T16:19:58.137035Z",
     "start_time": "2024-03-18T16:19:58.083072Z"
    }
   },
   "outputs": [
    {
     "data": {
      "text/plain": "                         name   mpg  cylinders  displacement  horsepower  \\\n0   chevrolet chevelle malibu  18.0    8.00000         307.0       130.0   \n1           buick skylark 320  15.0    8.00000         350.0       165.0   \n2          plymouth satellite  18.0    8.00000         318.0       150.0   \n3               amc rebel sst  16.0    8.00000         304.0       150.0   \n4                 ford torino  17.0    5.44557         302.0       140.0   \n..                        ...   ...        ...           ...         ...   \n95   buick electra 225 custom  12.0    8.00000         455.0       225.0   \n96    amc ambassador brougham  13.0    8.00000         360.0       175.0   \n97           plymouth valiant  18.0    6.00000         225.0       105.0   \n98      chevrolet nova custom  16.0    6.00000         250.0       100.0   \n99                 amc hornet  18.0    6.00000         232.0       100.0   \n\n    weight  acceleration  model_year origin  origin_Label  0  1  2  \n0   3504.0          12.0          70    usa             2  0  0  1  \n1   3693.0          11.5          70    usa             2  0  0  1  \n2   3436.0          11.0          70    usa             2  0  0  1  \n3   3433.0          12.0          70    usa             2  0  0  1  \n4   3449.0          10.5          70    usa             2  0  0  1  \n..     ...           ...         ...    ...           ... .. .. ..  \n95  4951.0          11.0          73    usa             2  0  0  1  \n96  3821.0          11.0          73    usa             2  0  0  1  \n97  3121.0          16.5          73    usa             2  0  0  1  \n98  3278.0          18.0          73    usa             2  0  0  1  \n99  2945.0          16.0          73    usa             2  0  0  1  \n\n[100 rows x 13 columns]",
      "text/html": "<div>\n<style scoped>\n    .dataframe tbody tr th:only-of-type {\n        vertical-align: middle;\n    }\n\n    .dataframe tbody tr th {\n        vertical-align: top;\n    }\n\n    .dataframe thead th {\n        text-align: right;\n    }\n</style>\n<table border=\"1\" class=\"dataframe\">\n  <thead>\n    <tr style=\"text-align: right;\">\n      <th></th>\n      <th>name</th>\n      <th>mpg</th>\n      <th>cylinders</th>\n      <th>displacement</th>\n      <th>horsepower</th>\n      <th>weight</th>\n      <th>acceleration</th>\n      <th>model_year</th>\n      <th>origin</th>\n      <th>origin_Label</th>\n      <th>0</th>\n      <th>1</th>\n      <th>2</th>\n    </tr>\n  </thead>\n  <tbody>\n    <tr>\n      <th>0</th>\n      <td>chevrolet chevelle malibu</td>\n      <td>18.0</td>\n      <td>8.00000</td>\n      <td>307.0</td>\n      <td>130.0</td>\n      <td>3504.0</td>\n      <td>12.0</td>\n      <td>70</td>\n      <td>usa</td>\n      <td>2</td>\n      <td>0</td>\n      <td>0</td>\n      <td>1</td>\n    </tr>\n    <tr>\n      <th>1</th>\n      <td>buick skylark 320</td>\n      <td>15.0</td>\n      <td>8.00000</td>\n      <td>350.0</td>\n      <td>165.0</td>\n      <td>3693.0</td>\n      <td>11.5</td>\n      <td>70</td>\n      <td>usa</td>\n      <td>2</td>\n      <td>0</td>\n      <td>0</td>\n      <td>1</td>\n    </tr>\n    <tr>\n      <th>2</th>\n      <td>plymouth satellite</td>\n      <td>18.0</td>\n      <td>8.00000</td>\n      <td>318.0</td>\n      <td>150.0</td>\n      <td>3436.0</td>\n      <td>11.0</td>\n      <td>70</td>\n      <td>usa</td>\n      <td>2</td>\n      <td>0</td>\n      <td>0</td>\n      <td>1</td>\n    </tr>\n    <tr>\n      <th>3</th>\n      <td>amc rebel sst</td>\n      <td>16.0</td>\n      <td>8.00000</td>\n      <td>304.0</td>\n      <td>150.0</td>\n      <td>3433.0</td>\n      <td>12.0</td>\n      <td>70</td>\n      <td>usa</td>\n      <td>2</td>\n      <td>0</td>\n      <td>0</td>\n      <td>1</td>\n    </tr>\n    <tr>\n      <th>4</th>\n      <td>ford torino</td>\n      <td>17.0</td>\n      <td>5.44557</td>\n      <td>302.0</td>\n      <td>140.0</td>\n      <td>3449.0</td>\n      <td>10.5</td>\n      <td>70</td>\n      <td>usa</td>\n      <td>2</td>\n      <td>0</td>\n      <td>0</td>\n      <td>1</td>\n    </tr>\n    <tr>\n      <th>...</th>\n      <td>...</td>\n      <td>...</td>\n      <td>...</td>\n      <td>...</td>\n      <td>...</td>\n      <td>...</td>\n      <td>...</td>\n      <td>...</td>\n      <td>...</td>\n      <td>...</td>\n      <td>...</td>\n      <td>...</td>\n      <td>...</td>\n    </tr>\n    <tr>\n      <th>95</th>\n      <td>buick electra 225 custom</td>\n      <td>12.0</td>\n      <td>8.00000</td>\n      <td>455.0</td>\n      <td>225.0</td>\n      <td>4951.0</td>\n      <td>11.0</td>\n      <td>73</td>\n      <td>usa</td>\n      <td>2</td>\n      <td>0</td>\n      <td>0</td>\n      <td>1</td>\n    </tr>\n    <tr>\n      <th>96</th>\n      <td>amc ambassador brougham</td>\n      <td>13.0</td>\n      <td>8.00000</td>\n      <td>360.0</td>\n      <td>175.0</td>\n      <td>3821.0</td>\n      <td>11.0</td>\n      <td>73</td>\n      <td>usa</td>\n      <td>2</td>\n      <td>0</td>\n      <td>0</td>\n      <td>1</td>\n    </tr>\n    <tr>\n      <th>97</th>\n      <td>plymouth valiant</td>\n      <td>18.0</td>\n      <td>6.00000</td>\n      <td>225.0</td>\n      <td>105.0</td>\n      <td>3121.0</td>\n      <td>16.5</td>\n      <td>73</td>\n      <td>usa</td>\n      <td>2</td>\n      <td>0</td>\n      <td>0</td>\n      <td>1</td>\n    </tr>\n    <tr>\n      <th>98</th>\n      <td>chevrolet nova custom</td>\n      <td>16.0</td>\n      <td>6.00000</td>\n      <td>250.0</td>\n      <td>100.0</td>\n      <td>3278.0</td>\n      <td>18.0</td>\n      <td>73</td>\n      <td>usa</td>\n      <td>2</td>\n      <td>0</td>\n      <td>0</td>\n      <td>1</td>\n    </tr>\n    <tr>\n      <th>99</th>\n      <td>amc hornet</td>\n      <td>18.0</td>\n      <td>6.00000</td>\n      <td>232.0</td>\n      <td>100.0</td>\n      <td>2945.0</td>\n      <td>16.0</td>\n      <td>73</td>\n      <td>usa</td>\n      <td>2</td>\n      <td>0</td>\n      <td>0</td>\n      <td>1</td>\n    </tr>\n  </tbody>\n</table>\n<p>100 rows × 13 columns</p>\n</div>"
     },
     "execution_count": 29,
     "metadata": {},
     "output_type": "execute_result"
    }
   ],
   "source": [
    "from sklearn.preprocessing import OneHotEncoder\n",
    "one_hot = OneHotEncoder(dtype=int)\n",
    "one_hot_values = one_hot.fit_transform(auto[['origin']]).toarray()\n",
    "\n",
    "one_hot_df = pd.DataFrame(one_hot_values)\n",
    "encoded_df = pd.concat([auto, one_hot_df], axis=1)\n",
    "encoded_df.head(100)"
   ]
  },
  {
   "cell_type": "markdown",
   "metadata": {
    "id": "nD-pgSh1YHOD"
   },
   "source": [
    "## Scaling"
   ]
  },
  {
   "cell_type": "markdown",
   "metadata": {
    "id": "NLDX4QqkYJnG"
   },
   "source": [
    "10. Perform MinMax scaling for numerical features"
   ]
  },
  {
   "cell_type": "code",
   "outputs": [
    {
     "data": {
      "text/plain": "Index(['name', 'mpg', 'cylinders', 'displacement', 'horsepower', 'weight',\n       'acceleration', 'model_year', 'origin', 'origin_Label'],\n      dtype='object')"
     },
     "execution_count": 47,
     "metadata": {},
     "output_type": "execute_result"
    }
   ],
   "source": [
    "auto.columns"
   ],
   "metadata": {
    "collapsed": false,
    "ExecuteTime": {
     "end_time": "2024-03-18T16:29:09.215472Z",
     "start_time": "2024-03-18T16:29:09.206415Z"
    }
   },
   "execution_count": 47
  },
  {
   "cell_type": "code",
   "outputs": [],
   "source": [
    "new_auto = auto.loc[:, ~auto.columns.isin(['name', 'origin'])]"
   ],
   "metadata": {
    "collapsed": false,
    "ExecuteTime": {
     "end_time": "2024-03-18T16:28:57.794011Z",
     "start_time": "2024-03-18T16:28:57.787358Z"
    }
   },
   "execution_count": 44
  },
  {
   "cell_type": "code",
   "execution_count": 45,
   "metadata": {
    "id": "8YUUrhRdkqrR",
    "ExecuteTime": {
     "end_time": "2024-03-18T16:28:58.661351Z",
     "start_time": "2024-03-18T16:28:58.646859Z"
    }
   },
   "outputs": [],
   "source": [
    "from sklearn import preprocessing\n",
    "min_max=preprocessing.MinMaxScaler() \n",
    "auto_after=min_max.fit_transform(new_auto)"
   ]
  },
  {
   "cell_type": "code",
   "outputs": [],
   "source": [
    "auto_after = pd.DataFrame(auto_after, columns = ['mpg', 'cylinders', 'displacement', 'horsepower', 'weight',\n",
    "       'acceleration', 'model_year','origin_Label'])"
   ],
   "metadata": {
    "collapsed": false,
    "ExecuteTime": {
     "end_time": "2024-03-18T16:29:38.068802Z",
     "start_time": "2024-03-18T16:29:38.062106Z"
    }
   },
   "execution_count": 49
  },
  {
   "cell_type": "code",
   "outputs": [
    {
     "data": {
      "text/plain": "          mpg  cylinders  displacement  horsepower    weight  acceleration  \\\n0    0.239362   1.000000      0.617571    0.456522  0.536150      0.238095   \n1    0.159574   1.000000      0.728682    0.646739  0.589736      0.208333   \n2    0.239362   1.000000      0.645995    0.565217  0.516870      0.178571   \n3    0.186170   1.000000      0.609819    0.565217  0.516019      0.238095   \n4    0.212766   0.489114      0.604651    0.510870  0.520556      0.148810   \n..        ...        ...           ...         ...       ...           ...   \n393  0.478723   0.200000      0.186047    0.217391  0.333711      0.452381   \n394  0.930851   0.200000      0.074935    0.032609  0.146583      0.988095   \n395  0.611702   0.200000      0.173127    0.206522  0.193365      0.214286   \n396  0.505319   0.200000      0.134367    0.179348  0.286929      0.630952   \n397  0.585106   0.200000      0.131783    0.195652  0.313864      0.678571   \n\n     model_year  origin_Label  \n0           0.0           1.0  \n1           0.0           1.0  \n2           0.0           1.0  \n3           0.0           1.0  \n4           0.0           1.0  \n..          ...           ...  \n393         1.0           1.0  \n394         1.0           0.0  \n395         1.0           1.0  \n396         1.0           1.0  \n397         1.0           1.0  \n\n[398 rows x 8 columns]",
      "text/html": "<div>\n<style scoped>\n    .dataframe tbody tr th:only-of-type {\n        vertical-align: middle;\n    }\n\n    .dataframe tbody tr th {\n        vertical-align: top;\n    }\n\n    .dataframe thead th {\n        text-align: right;\n    }\n</style>\n<table border=\"1\" class=\"dataframe\">\n  <thead>\n    <tr style=\"text-align: right;\">\n      <th></th>\n      <th>mpg</th>\n      <th>cylinders</th>\n      <th>displacement</th>\n      <th>horsepower</th>\n      <th>weight</th>\n      <th>acceleration</th>\n      <th>model_year</th>\n      <th>origin_Label</th>\n    </tr>\n  </thead>\n  <tbody>\n    <tr>\n      <th>0</th>\n      <td>0.239362</td>\n      <td>1.000000</td>\n      <td>0.617571</td>\n      <td>0.456522</td>\n      <td>0.536150</td>\n      <td>0.238095</td>\n      <td>0.0</td>\n      <td>1.0</td>\n    </tr>\n    <tr>\n      <th>1</th>\n      <td>0.159574</td>\n      <td>1.000000</td>\n      <td>0.728682</td>\n      <td>0.646739</td>\n      <td>0.589736</td>\n      <td>0.208333</td>\n      <td>0.0</td>\n      <td>1.0</td>\n    </tr>\n    <tr>\n      <th>2</th>\n      <td>0.239362</td>\n      <td>1.000000</td>\n      <td>0.645995</td>\n      <td>0.565217</td>\n      <td>0.516870</td>\n      <td>0.178571</td>\n      <td>0.0</td>\n      <td>1.0</td>\n    </tr>\n    <tr>\n      <th>3</th>\n      <td>0.186170</td>\n      <td>1.000000</td>\n      <td>0.609819</td>\n      <td>0.565217</td>\n      <td>0.516019</td>\n      <td>0.238095</td>\n      <td>0.0</td>\n      <td>1.0</td>\n    </tr>\n    <tr>\n      <th>4</th>\n      <td>0.212766</td>\n      <td>0.489114</td>\n      <td>0.604651</td>\n      <td>0.510870</td>\n      <td>0.520556</td>\n      <td>0.148810</td>\n      <td>0.0</td>\n      <td>1.0</td>\n    </tr>\n    <tr>\n      <th>...</th>\n      <td>...</td>\n      <td>...</td>\n      <td>...</td>\n      <td>...</td>\n      <td>...</td>\n      <td>...</td>\n      <td>...</td>\n      <td>...</td>\n    </tr>\n    <tr>\n      <th>393</th>\n      <td>0.478723</td>\n      <td>0.200000</td>\n      <td>0.186047</td>\n      <td>0.217391</td>\n      <td>0.333711</td>\n      <td>0.452381</td>\n      <td>1.0</td>\n      <td>1.0</td>\n    </tr>\n    <tr>\n      <th>394</th>\n      <td>0.930851</td>\n      <td>0.200000</td>\n      <td>0.074935</td>\n      <td>0.032609</td>\n      <td>0.146583</td>\n      <td>0.988095</td>\n      <td>1.0</td>\n      <td>0.0</td>\n    </tr>\n    <tr>\n      <th>395</th>\n      <td>0.611702</td>\n      <td>0.200000</td>\n      <td>0.173127</td>\n      <td>0.206522</td>\n      <td>0.193365</td>\n      <td>0.214286</td>\n      <td>1.0</td>\n      <td>1.0</td>\n    </tr>\n    <tr>\n      <th>396</th>\n      <td>0.505319</td>\n      <td>0.200000</td>\n      <td>0.134367</td>\n      <td>0.179348</td>\n      <td>0.286929</td>\n      <td>0.630952</td>\n      <td>1.0</td>\n      <td>1.0</td>\n    </tr>\n    <tr>\n      <th>397</th>\n      <td>0.585106</td>\n      <td>0.200000</td>\n      <td>0.131783</td>\n      <td>0.195652</td>\n      <td>0.313864</td>\n      <td>0.678571</td>\n      <td>1.0</td>\n      <td>1.0</td>\n    </tr>\n  </tbody>\n</table>\n<p>398 rows × 8 columns</p>\n</div>"
     },
     "execution_count": 50,
     "metadata": {},
     "output_type": "execute_result"
    }
   ],
   "source": [
    "auto_after"
   ],
   "metadata": {
    "collapsed": false,
    "ExecuteTime": {
     "end_time": "2024-03-18T16:29:48.816992Z",
     "start_time": "2024-03-18T16:29:48.790284Z"
    }
   },
   "execution_count": 50
  },
  {
   "cell_type": "markdown",
   "metadata": {
    "id": "tu0_knAvYUfG"
   },
   "source": [
    "11. Perform Standardization for numarical features (not encoded categorical variables)"
   ]
  },
  {
   "cell_type": "code",
   "execution_count": 51,
   "metadata": {
    "id": "Fm4rClqxk2_C",
    "ExecuteTime": {
     "end_time": "2024-03-18T16:30:50.401075Z",
     "start_time": "2024-03-18T16:30:50.387552Z"
    }
   },
   "outputs": [],
   "source": [
    "from sklearn.preprocessing import StandardScaler\n",
    "\n",
    "scaler = StandardScaler()\n",
    "Y_scaled = scaler.fit_transform(new_auto)"
   ]
  },
  {
   "cell_type": "code",
   "outputs": [
    {
     "data": {
      "text/plain": "array([[-0.7064387 ,  1.51359459,  1.09393251, ..., -1.30180992,\n        -1.62742629,  0.71082544],\n       [-1.09075062,  1.51359459,  1.50779234, ..., -1.48453144,\n        -1.62742629,  0.71082544],\n       [-0.7064387 ,  1.51359459,  1.19980363, ..., -1.66725297,\n        -1.62742629,  0.71082544],\n       ...,\n       [ 1.08701694, -0.85655353, -0.56150678, ..., -1.44798714,\n         1.62198339,  0.71082544],\n       [ 0.57460104, -0.85655353, -0.70587649, ...,  1.11011422,\n         1.62198339,  0.71082544],\n       [ 0.95891297, -0.85655353, -0.71550114, ...,  1.40246866,\n         1.62198339,  0.71082544]])"
     },
     "execution_count": 52,
     "metadata": {},
     "output_type": "execute_result"
    }
   ],
   "source": [
    "Y_scaled"
   ],
   "metadata": {
    "collapsed": false,
    "ExecuteTime": {
     "end_time": "2024-03-18T16:30:57.637925Z",
     "start_time": "2024-03-18T16:30:57.631255Z"
    }
   },
   "execution_count": 52
  },
  {
   "cell_type": "code",
   "outputs": [],
   "source": [],
   "metadata": {
    "collapsed": false
   }
  }
 ],
 "metadata": {
  "colab": {
   "provenance": []
  },
  "kernelspec": {
   "display_name": "Python 3 (ipykernel)",
   "language": "python",
   "name": "python3"
  },
  "language_info": {
   "codemirror_mode": {
    "name": "ipython",
    "version": 3
   },
   "file_extension": ".py",
   "mimetype": "text/x-python",
   "name": "python",
   "nbconvert_exporter": "python",
   "pygments_lexer": "ipython3",
   "version": "3.11.5"
  }
 },
 "nbformat": 4,
 "nbformat_minor": 1
}
