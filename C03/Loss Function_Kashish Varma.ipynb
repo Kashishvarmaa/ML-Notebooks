{
 "cells": [
  {
   "cell_type": "code",
   "execution_count": 1,
   "id": "34abaea7",
   "metadata": {},
   "outputs": [],
   "source": [
    "import numpy as np "
   ]
  },
  {
   "cell_type": "code",
   "execution_count": 65,
   "id": "9225abd9",
   "metadata": {},
   "outputs": [],
   "source": [
    "#sample data \n",
    "x = np.array([1, 2, 3, 4, 5, 6, 7, 8, 9, 10])\n",
    "y = np.array([10, 25, 38, 45, 60, 70, 80, 85, 95, 100])"
   ]
  },
  {
   "cell_type": "code",
   "execution_count": 66,
   "id": "d2deef17",
   "metadata": {},
   "outputs": [],
   "source": [
    "#linear model \n",
    "def model(x,w,b):\n",
    "    return w*x+b # mx+c "
   ]
  },
  {
   "cell_type": "code",
   "execution_count": 67,
   "id": "481e4916",
   "metadata": {},
   "outputs": [],
   "source": [
    "#mean sqaured error function \n",
    "def mean_sqaure(y, y_pred): # y_true is what have, y_pred is what we will get \n",
    "    return np.mean((y - y_pred)**2)"
   ]
  },
  {
   "cell_type": "code",
   "execution_count": 128,
   "id": "53b8dafd",
   "metadata": {},
   "outputs": [],
   "source": [
    "#inital paramenter \n",
    "w = 10 #slope \n",
    "b = 6 #intercept "
   ]
  },
  {
   "cell_type": "code",
   "execution_count": 129,
   "id": "a96de0fc",
   "metadata": {},
   "outputs": [],
   "source": [
    "#calculate pred\n",
    "y_pred = model(x,w,b)"
   ]
  },
  {
   "cell_type": "code",
   "execution_count": 130,
   "id": "31da1d5b",
   "metadata": {},
   "outputs": [
    {
     "name": "stdout",
     "output_type": "stream",
     "text": [
      "initial loss:  365.9\n"
     ]
    }
   ],
   "source": [
    "#loss calculation\n",
    "loss = mean_sqaure(y,y_pred)\n",
    "print(\"initial loss: \", loss)"
   ]
  },
  {
   "cell_type": "code",
   "execution_count": null,
   "id": "b22fef83",
   "metadata": {},
   "outputs": [],
   "source": [
    "#graph \n"
   ]
  }
 ],
 "metadata": {
  "kernelspec": {
   "display_name": "Python 3 (ipykernel)",
   "language": "python",
   "name": "python3"
  },
  "language_info": {
   "codemirror_mode": {
    "name": "ipython",
    "version": 3
   },
   "file_extension": ".py",
   "mimetype": "text/x-python",
   "name": "python",
   "nbconvert_exporter": "python",
   "pygments_lexer": "ipython3",
   "version": "3.11.5"
  }
 },
 "nbformat": 4,
 "nbformat_minor": 5
}
