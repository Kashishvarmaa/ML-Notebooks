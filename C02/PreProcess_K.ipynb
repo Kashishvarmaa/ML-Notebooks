{
 "cells": [
  {
   "cell_type": "markdown",
   "source": [
    "# Data Pre Processing\n",
    "## My notes\n",
    " "
   ],
   "metadata": {
    "collapsed": false
   },
   "id": "f67000731f00a4ca"
  },
  {
   "cell_type": "code",
   "outputs": [],
   "source": [
    "import pandas as pd\n",
    "import seaborn as sns\n",
    "import matplotlib.pyplot as mlp"
   ],
   "metadata": {
    "ExecuteTime": {
     "end_time": "2024-03-16T18:48:34.436556Z",
     "start_time": "2024-03-16T18:48:34.426348Z"
    }
   },
   "id": "aaff08d7",
   "execution_count": 3
  },
  {
   "cell_type": "code",
   "execution_count": 4,
   "id": "fab4b0fa",
   "metadata": {
    "ExecuteTime": {
     "end_time": "2024-03-16T18:48:35.813Z",
     "start_time": "2024-03-16T18:48:35.611417Z"
    }
   },
   "outputs": [],
   "source": [
    "data = pd.read_csv('/Users/kashishvarma/Documents/SEM-4/Machine Learning /csv/Iris.csv')"
   ]
  },
  {
   "cell_type": "code",
   "execution_count": 5,
   "id": "c9e70a29",
   "metadata": {
    "ExecuteTime": {
     "end_time": "2024-03-16T18:48:37.256677Z",
     "start_time": "2024-03-16T18:48:37.223924Z"
    }
   },
   "outputs": [
    {
     "data": {
      "text/plain": "(150, 6)"
     },
     "execution_count": 5,
     "metadata": {},
     "output_type": "execute_result"
    }
   ],
   "source": [
    "#this gives the no. of rows and column in the dataset\n",
    "data.shape"
   ]
  },
  {
   "cell_type": "code",
   "execution_count": 6,
   "id": "5ae2d3f8",
   "metadata": {
    "ExecuteTime": {
     "end_time": "2024-03-16T18:48:39.397233Z",
     "start_time": "2024-03-16T18:48:39.381562Z"
    }
   },
   "outputs": [
    {
     "data": {
      "text/plain": "Index(['Id', 'SepalLengthCm', 'SepalWidthCm', 'PetalLengthCm', 'PetalWidthCm',\n       'Species'],\n      dtype='object')"
     },
     "execution_count": 6,
     "metadata": {},
     "output_type": "execute_result"
    }
   ],
   "source": [
    "#gives all the columns \n",
    "data.columns"
   ]
  },
  {
   "cell_type": "code",
   "execution_count": 7,
   "id": "1da83329",
   "metadata": {
    "ExecuteTime": {
     "end_time": "2024-03-16T18:48:41.041025Z",
     "start_time": "2024-03-16T18:48:41.014344Z"
    }
   },
   "outputs": [
    {
     "data": {
      "text/plain": "   Id  SepalLengthCm  SepalWidthCm  PetalLengthCm  PetalWidthCm      Species\n0   1            5.1           3.5            1.4           0.2  Iris-setosa\n1   2            4.9           3.0            1.4           0.2  Iris-setosa\n2   3            4.7           3.2            1.3           0.2  Iris-setosa\n3   4            4.6           3.1            1.5           0.2  Iris-setosa\n4   5            5.0           3.6            1.4           0.2  Iris-setosa",
      "text/html": "<div>\n<style scoped>\n    .dataframe tbody tr th:only-of-type {\n        vertical-align: middle;\n    }\n\n    .dataframe tbody tr th {\n        vertical-align: top;\n    }\n\n    .dataframe thead th {\n        text-align: right;\n    }\n</style>\n<table border=\"1\" class=\"dataframe\">\n  <thead>\n    <tr style=\"text-align: right;\">\n      <th></th>\n      <th>Id</th>\n      <th>SepalLengthCm</th>\n      <th>SepalWidthCm</th>\n      <th>PetalLengthCm</th>\n      <th>PetalWidthCm</th>\n      <th>Species</th>\n    </tr>\n  </thead>\n  <tbody>\n    <tr>\n      <th>0</th>\n      <td>1</td>\n      <td>5.1</td>\n      <td>3.5</td>\n      <td>1.4</td>\n      <td>0.2</td>\n      <td>Iris-setosa</td>\n    </tr>\n    <tr>\n      <th>1</th>\n      <td>2</td>\n      <td>4.9</td>\n      <td>3.0</td>\n      <td>1.4</td>\n      <td>0.2</td>\n      <td>Iris-setosa</td>\n    </tr>\n    <tr>\n      <th>2</th>\n      <td>3</td>\n      <td>4.7</td>\n      <td>3.2</td>\n      <td>1.3</td>\n      <td>0.2</td>\n      <td>Iris-setosa</td>\n    </tr>\n    <tr>\n      <th>3</th>\n      <td>4</td>\n      <td>4.6</td>\n      <td>3.1</td>\n      <td>1.5</td>\n      <td>0.2</td>\n      <td>Iris-setosa</td>\n    </tr>\n    <tr>\n      <th>4</th>\n      <td>5</td>\n      <td>5.0</td>\n      <td>3.6</td>\n      <td>1.4</td>\n      <td>0.2</td>\n      <td>Iris-setosa</td>\n    </tr>\n  </tbody>\n</table>\n</div>"
     },
     "execution_count": 7,
     "metadata": {},
     "output_type": "execute_result"
    }
   ],
   "source": [
    "#gives the first 5 rows\n",
    "data.head()"
   ]
  },
  {
   "cell_type": "code",
   "execution_count": 8,
   "id": "5c66e11d",
   "metadata": {
    "ExecuteTime": {
     "end_time": "2024-03-16T18:48:42.567868Z",
     "start_time": "2024-03-16T18:48:42.551881Z"
    }
   },
   "outputs": [
    {
     "data": {
      "text/plain": "(150, 5)"
     },
     "execution_count": 8,
     "metadata": {},
     "output_type": "execute_result"
    }
   ],
   "source": [
    "#This prints all the columns except 'Species' column \n",
    "new_data = data.loc[:, data.columns != 'Species']\n",
    "new_data.shape"
   ]
  },
  {
   "cell_type": "code",
   "execution_count": 9,
   "id": "0c7de36a",
   "metadata": {
    "ExecuteTime": {
     "end_time": "2024-03-16T18:48:43.715155Z",
     "start_time": "2024-03-16T18:48:43.664606Z"
    }
   },
   "outputs": [
    {
     "data": {
      "text/plain": "               Id  SepalLengthCm  SepalWidthCm  PetalLengthCm  PetalWidthCm\ncount  150.000000     150.000000    150.000000     150.000000    150.000000\nmean    75.500000       5.843333      3.054000       3.758667      1.198667\nstd     43.445368       0.828066      0.433594       1.764420      0.763161\nmin      1.000000       4.300000      2.000000       1.000000      0.100000\n25%     38.250000       5.100000      2.800000       1.600000      0.300000\n50%     75.500000       5.800000      3.000000       4.350000      1.300000\n75%    112.750000       6.400000      3.300000       5.100000      1.800000\nmax    150.000000       7.900000      4.400000       6.900000      2.500000",
      "text/html": "<div>\n<style scoped>\n    .dataframe tbody tr th:only-of-type {\n        vertical-align: middle;\n    }\n\n    .dataframe tbody tr th {\n        vertical-align: top;\n    }\n\n    .dataframe thead th {\n        text-align: right;\n    }\n</style>\n<table border=\"1\" class=\"dataframe\">\n  <thead>\n    <tr style=\"text-align: right;\">\n      <th></th>\n      <th>Id</th>\n      <th>SepalLengthCm</th>\n      <th>SepalWidthCm</th>\n      <th>PetalLengthCm</th>\n      <th>PetalWidthCm</th>\n    </tr>\n  </thead>\n  <tbody>\n    <tr>\n      <th>count</th>\n      <td>150.000000</td>\n      <td>150.000000</td>\n      <td>150.000000</td>\n      <td>150.000000</td>\n      <td>150.000000</td>\n    </tr>\n    <tr>\n      <th>mean</th>\n      <td>75.500000</td>\n      <td>5.843333</td>\n      <td>3.054000</td>\n      <td>3.758667</td>\n      <td>1.198667</td>\n    </tr>\n    <tr>\n      <th>std</th>\n      <td>43.445368</td>\n      <td>0.828066</td>\n      <td>0.433594</td>\n      <td>1.764420</td>\n      <td>0.763161</td>\n    </tr>\n    <tr>\n      <th>min</th>\n      <td>1.000000</td>\n      <td>4.300000</td>\n      <td>2.000000</td>\n      <td>1.000000</td>\n      <td>0.100000</td>\n    </tr>\n    <tr>\n      <th>25%</th>\n      <td>38.250000</td>\n      <td>5.100000</td>\n      <td>2.800000</td>\n      <td>1.600000</td>\n      <td>0.300000</td>\n    </tr>\n    <tr>\n      <th>50%</th>\n      <td>75.500000</td>\n      <td>5.800000</td>\n      <td>3.000000</td>\n      <td>4.350000</td>\n      <td>1.300000</td>\n    </tr>\n    <tr>\n      <th>75%</th>\n      <td>112.750000</td>\n      <td>6.400000</td>\n      <td>3.300000</td>\n      <td>5.100000</td>\n      <td>1.800000</td>\n    </tr>\n    <tr>\n      <th>max</th>\n      <td>150.000000</td>\n      <td>7.900000</td>\n      <td>4.400000</td>\n      <td>6.900000</td>\n      <td>2.500000</td>\n    </tr>\n  </tbody>\n</table>\n</div>"
     },
     "execution_count": 9,
     "metadata": {},
     "output_type": "execute_result"
    }
   ],
   "source": [
    "# To get the all basic values (mean, avg, mode, etc)\n",
    "data.describe()"
   ]
  },
  {
   "cell_type": "code",
   "execution_count": 10,
   "id": "de17bcee",
   "metadata": {
    "ExecuteTime": {
     "end_time": "2024-03-16T18:48:47.328320Z",
     "start_time": "2024-03-16T18:48:44.665605Z"
    }
   },
   "outputs": [
    {
     "data": {
      "text/plain": "<Axes: >"
     },
     "execution_count": 10,
     "metadata": {},
     "output_type": "execute_result"
    },
    {
     "data": {
      "text/plain": "<Figure size 640x480 with 1 Axes>",
      "image/png": "[encoded data removed]"
     },
     "metadata": {},
     "output_type": "display_data"
    }
   ],
   "source": [
    "# Plotting the graphs for the dataset\n",
    "sns.boxplot(data)"
   ]
  },
  {
   "cell_type": "code",
   "execution_count": 11,
   "id": "53cde383",
   "metadata": {
    "scrolled": true,
    "ExecuteTime": {
     "end_time": "2024-03-16T18:48:47.508847Z",
     "start_time": "2024-03-16T18:48:47.463529Z"
    }
   },
   "outputs": [],
   "source": [
    "wine = pd.read_csv('/Users/kashishvarma/Documents/SEM-4/Machine Learning /csv/winequality.csv')"
   ]
  },
  {
   "cell_type": "code",
   "execution_count": 12,
   "id": "fb9c0caf",
   "metadata": {
    "ExecuteTime": {
     "end_time": "2024-03-16T18:48:47.527270Z",
     "start_time": "2024-03-16T18:48:47.517526Z"
    }
   },
   "outputs": [
    {
     "data": {
      "text/plain": "(6497, 13)"
     },
     "execution_count": 12,
     "metadata": {},
     "output_type": "execute_result"
    }
   ],
   "source": [
    "wine.shape"
   ]
  },
  {
   "cell_type": "code",
   "execution_count": 13,
   "id": "5162a747",
   "metadata": {
    "scrolled": true,
    "ExecuteTime": {
     "end_time": "2024-03-16T18:48:47.670446Z",
     "start_time": "2024-03-16T18:48:47.531036Z"
    }
   },
   "outputs": [
    {
     "data": {
      "text/plain": "       fixed acidity  volatile acidity  citric acid  residual sugar  \\\ncount    6487.000000       6489.000000  6494.000000     6495.000000   \nmean        7.216579          0.339691     0.318722        5.444326   \nstd         1.296750          0.164649     0.145265        4.758125   \nmin         3.800000          0.080000     0.000000        0.600000   \n25%         6.400000          0.230000     0.250000        1.800000   \n50%         7.000000          0.290000     0.310000        3.000000   \n75%         7.700000          0.400000     0.390000        8.100000   \nmax        15.900000          1.580000     1.660000       65.800000   \n\n         chlorides  free sulfur dioxide  total sulfur dioxide      density  \\\ncount  6495.000000          6497.000000           6497.000000  6497.000000   \nmean      0.056042            30.525319            115.744574     0.994697   \nstd       0.035036            17.749400             56.521855     0.002999   \nmin       0.009000             1.000000              6.000000     0.987110   \n25%       0.038000            17.000000             77.000000     0.992340   \n50%       0.047000            29.000000            118.000000     0.994890   \n75%       0.065000            41.000000            156.000000     0.996990   \nmax       0.611000           289.000000            440.000000     1.038980   \n\n                pH    sulphates      alcohol      quality  \ncount  6488.000000  6493.000000  6497.000000  6497.000000  \nmean      3.218395     0.531215    10.491801     5.818378  \nstd       0.160748     0.148814     1.192712     0.873255  \nmin       2.720000     0.220000     8.000000     3.000000  \n25%       3.110000     0.430000     9.500000     5.000000  \n50%       3.210000     0.510000    10.300000     6.000000  \n75%       3.320000     0.600000    11.300000     6.000000  \nmax       4.010000     2.000000    14.900000     9.000000  ",
      "text/html": "<div>\n<style scoped>\n    .dataframe tbody tr th:only-of-type {\n        vertical-align: middle;\n    }\n\n    .dataframe tbody tr th {\n        vertical-align: top;\n    }\n\n    .dataframe thead th {\n        text-align: right;\n    }\n</style>\n<table border=\"1\" class=\"dataframe\">\n  <thead>\n    <tr style=\"text-align: right;\">\n      <th></th>\n      <th>fixed acidity</th>\n      <th>volatile acidity</th>\n      <th>citric acid</th>\n      <th>residual sugar</th>\n      <th>chlorides</th>\n      <th>free sulfur dioxide</th>\n      <th>total sulfur dioxide</th>\n      <th>density</th>\n      <th>pH</th>\n      <th>sulphates</th>\n      <th>alcohol</th>\n      <th>quality</th>\n    </tr>\n  </thead>\n  <tbody>\n    <tr>\n      <th>count</th>\n      <td>6487.000000</td>\n      <td>6489.000000</td>\n      <td>6494.000000</td>\n      <td>6495.000000</td>\n      <td>6495.000000</td>\n      <td>6497.000000</td>\n      <td>6497.000000</td>\n      <td>6497.000000</td>\n      <td>6488.000000</td>\n      <td>6493.000000</td>\n      <td>6497.000000</td>\n      <td>6497.000000</td>\n    </tr>\n    <tr>\n      <th>mean</th>\n      <td>7.216579</td>\n      <td>0.339691</td>\n      <td>0.318722</td>\n      <td>5.444326</td>\n      <td>0.056042</td>\n      <td>30.525319</td>\n      <td>115.744574</td>\n      <td>0.994697</td>\n      <td>3.218395</td>\n      <td>0.531215</td>\n      <td>10.491801</td>\n      <td>5.818378</td>\n    </tr>\n    <tr>\n      <th>std</th>\n      <td>1.296750</td>\n      <td>0.164649</td>\n      <td>0.145265</td>\n      <td>4.758125</td>\n      <td>0.035036</td>\n      <td>17.749400</td>\n      <td>56.521855</td>\n      <td>0.002999</td>\n      <td>0.160748</td>\n      <td>0.148814</td>\n      <td>1.192712</td>\n      <td>0.873255</td>\n    </tr>\n    <tr>\n      <th>min</th>\n      <td>3.800000</td>\n      <td>0.080000</td>\n      <td>0.000000</td>\n      <td>0.600000</td>\n      <td>0.009000</td>\n      <td>1.000000</td>\n      <td>6.000000</td>\n      <td>0.987110</td>\n      <td>2.720000</td>\n      <td>0.220000</td>\n      <td>8.000000</td>\n      <td>3.000000</td>\n    </tr>\n    <tr>\n      <th>25%</th>\n      <td>6.400000</td>\n      <td>0.230000</td>\n      <td>0.250000</td>\n      <td>1.800000</td>\n      <td>0.038000</td>\n      <td>17.000000</td>\n      <td>77.000000</td>\n      <td>0.992340</td>\n      <td>3.110000</td>\n      <td>0.430000</td>\n      <td>9.500000</td>\n      <td>5.000000</td>\n    </tr>\n    <tr>\n      <th>50%</th>\n      <td>7.000000</td>\n      <td>0.290000</td>\n      <td>0.310000</td>\n      <td>3.000000</td>\n      <td>0.047000</td>\n      <td>29.000000</td>\n      <td>118.000000</td>\n      <td>0.994890</td>\n      <td>3.210000</td>\n      <td>0.510000</td>\n      <td>10.300000</td>\n      <td>6.000000</td>\n    </tr>\n    <tr>\n      <th>75%</th>\n      <td>7.700000</td>\n      <td>0.400000</td>\n      <td>0.390000</td>\n      <td>8.100000</td>\n      <td>0.065000</td>\n      <td>41.000000</td>\n      <td>156.000000</td>\n      <td>0.996990</td>\n      <td>3.320000</td>\n      <td>0.600000</td>\n      <td>11.300000</td>\n      <td>6.000000</td>\n    </tr>\n    <tr>\n      <th>max</th>\n      <td>15.900000</td>\n      <td>1.580000</td>\n      <td>1.660000</td>\n      <td>65.800000</td>\n      <td>0.611000</td>\n      <td>289.000000</td>\n      <td>440.000000</td>\n      <td>1.038980</td>\n      <td>4.010000</td>\n      <td>2.000000</td>\n      <td>14.900000</td>\n      <td>9.000000</td>\n    </tr>\n  </tbody>\n</table>\n</div>"
     },
     "execution_count": 13,
     "metadata": {},
     "output_type": "execute_result"
    }
   ],
   "source": [
    "wine.describe()"
   ]
  },
  {
   "cell_type": "code",
   "execution_count": 14,
   "id": "9bcf922b",
   "metadata": {
    "scrolled": true,
    "ExecuteTime": {
     "end_time": "2024-03-16T18:48:47.921489Z",
     "start_time": "2024-03-16T18:48:47.875593Z"
    }
   },
   "outputs": [
    {
     "data": {
      "text/plain": "    type  fixed acidity  volatile acidity  citric acid  residual sugar  \\\n0  white            7.0              0.27         0.36            20.7   \n1  white            6.3              0.30         0.34             1.6   \n2  white            8.1              0.28         0.40             6.9   \n3  white            7.2              0.23         0.32             8.5   \n4  white            7.2              0.23         0.32             8.5   \n\n   chlorides  free sulfur dioxide  total sulfur dioxide  density    pH  \\\n0      0.045                 45.0                 170.0   1.0010  3.00   \n1      0.049                 14.0                 132.0   0.9940  3.30   \n2      0.050                 30.0                  97.0   0.9951  3.26   \n3      0.058                 47.0                 186.0   0.9956  3.19   \n4      0.058                 47.0                 186.0   0.9956  3.19   \n\n   sulphates  alcohol  quality  \n0       0.45      8.8        6  \n1       0.49      9.5        6  \n2       0.44     10.1        6  \n3       0.40      9.9        6  \n4       0.40      9.9        6  ",
      "text/html": "<div>\n<style scoped>\n    .dataframe tbody tr th:only-of-type {\n        vertical-align: middle;\n    }\n\n    .dataframe tbody tr th {\n        vertical-align: top;\n    }\n\n    .dataframe thead th {\n        text-align: right;\n    }\n</style>\n<table border=\"1\" class=\"dataframe\">\n  <thead>\n    <tr style=\"text-align: right;\">\n      <th></th>\n      <th>type</th>\n      <th>fixed acidity</th>\n      <th>volatile acidity</th>\n      <th>citric acid</th>\n      <th>residual sugar</th>\n      <th>chlorides</th>\n      <th>free sulfur dioxide</th>\n      <th>total sulfur dioxide</th>\n      <th>density</th>\n      <th>pH</th>\n      <th>sulphates</th>\n      <th>alcohol</th>\n      <th>quality</th>\n    </tr>\n  </thead>\n  <tbody>\n    <tr>\n      <th>0</th>\n      <td>white</td>\n      <td>7.0</td>\n      <td>0.27</td>\n      <td>0.36</td>\n      <td>20.7</td>\n      <td>0.045</td>\n      <td>45.0</td>\n      <td>170.0</td>\n      <td>1.0010</td>\n      <td>3.00</td>\n      <td>0.45</td>\n      <td>8.8</td>\n      <td>6</td>\n    </tr>\n    <tr>\n      <th>1</th>\n      <td>white</td>\n      <td>6.3</td>\n      <td>0.30</td>\n      <td>0.34</td>\n      <td>1.6</td>\n      <td>0.049</td>\n      <td>14.0</td>\n      <td>132.0</td>\n      <td>0.9940</td>\n      <td>3.30</td>\n      <td>0.49</td>\n      <td>9.5</td>\n      <td>6</td>\n    </tr>\n    <tr>\n      <th>2</th>\n      <td>white</td>\n      <td>8.1</td>\n      <td>0.28</td>\n      <td>0.40</td>\n      <td>6.9</td>\n      <td>0.050</td>\n      <td>30.0</td>\n      <td>97.0</td>\n      <td>0.9951</td>\n      <td>3.26</td>\n      <td>0.44</td>\n      <td>10.1</td>\n      <td>6</td>\n    </tr>\n    <tr>\n      <th>3</th>\n      <td>white</td>\n      <td>7.2</td>\n      <td>0.23</td>\n      <td>0.32</td>\n      <td>8.5</td>\n      <td>0.058</td>\n      <td>47.0</td>\n      <td>186.0</td>\n      <td>0.9956</td>\n      <td>3.19</td>\n      <td>0.40</td>\n      <td>9.9</td>\n      <td>6</td>\n    </tr>\n    <tr>\n      <th>4</th>\n      <td>white</td>\n      <td>7.2</td>\n      <td>0.23</td>\n      <td>0.32</td>\n      <td>8.5</td>\n      <td>0.058</td>\n      <td>47.0</td>\n      <td>186.0</td>\n      <td>0.9956</td>\n      <td>3.19</td>\n      <td>0.40</td>\n      <td>9.9</td>\n      <td>6</td>\n    </tr>\n  </tbody>\n</table>\n</div>"
     },
     "execution_count": 14,
     "metadata": {},
     "output_type": "execute_result"
    }
   ],
   "source": [
    "wine.head()"
   ]
  },
  {
   "cell_type": "markdown",
   "id": "9b3f2110",
   "metadata": {},
   "source": [
    "## Handling Missing Values "
   ]
  },
  {
   "cell_type": "raw",
   "id": "3943014a",
   "metadata": {},
   "source": [
    "We first calculate the nuumber of missing values in the dataset"
   ]
  },
  {
   "cell_type": "code",
   "execution_count": 15,
   "id": "b85f02bb",
   "metadata": {
    "ExecuteTime": {
     "end_time": "2024-03-16T18:48:48.414678Z",
     "start_time": "2024-03-16T18:48:48.391292Z"
    }
   },
   "outputs": [
    {
     "data": {
      "text/plain": "Id               0\nSepalLengthCm    0\nSepalWidthCm     0\nPetalLengthCm    0\nPetalWidthCm     0\nSpecies          0\ndtype: int64"
     },
     "execution_count": 15,
     "metadata": {},
     "output_type": "execute_result"
    }
   ],
   "source": [
    "data.isnull().sum()"
   ]
  },
  {
   "cell_type": "code",
   "execution_count": 16,
   "id": "a0672093",
   "metadata": {
    "scrolled": true,
    "ExecuteTime": {
     "end_time": "2024-03-16T18:48:49.313713Z",
     "start_time": "2024-03-16T18:48:49.280292Z"
    }
   },
   "outputs": [
    {
     "data": {
      "text/plain": "type                     0\nfixed acidity           10\nvolatile acidity         8\ncitric acid              3\nresidual sugar           2\nchlorides                2\nfree sulfur dioxide      0\ntotal sulfur dioxide     0\ndensity                  0\npH                       9\nsulphates                4\nalcohol                  0\nquality                  0\ndtype: int64"
     },
     "execution_count": 16,
     "metadata": {},
     "output_type": "execute_result"
    }
   ],
   "source": [
    "wine.isnull().sum()"
   ]
  },
  {
   "cell_type": "raw",
   "id": "4d8902f3",
   "metadata": {},
   "source": [
    "We here see that there is 10 missing vlaues in 'fixed acidity' and 8 missing values in 'volatile acidity' etc"
   ]
  },
  {
   "cell_type": "raw",
   "id": "67961b69",
   "metadata": {},
   "source": [
    "To get riid of these null values we can do 2 things:\n",
    "    - replace them (less than 20%)\n",
    "    - delete them (more than 20%)"
   ]
  },
  {
   "cell_type": "raw",
   "id": "a6b100f3",
   "metadata": {},
   "source": [
    "Here we dont have to delete anyhitng as all the missing vlaues are less than 20%\n",
    "So we will replace them instead \n",
    "We will here replace it with the mean of that feature "
   ]
  },
  {
   "cell_type": "code",
   "execution_count": 17,
   "id": "ad7cc5d3",
   "metadata": {
    "ExecuteTime": {
     "end_time": "2024-03-16T18:48:50.365613Z",
     "start_time": "2024-03-16T18:48:50.350015Z"
    }
   },
   "outputs": [],
   "source": [
    "fixed_acidity_mean = wine['fixed acidity'].mean()\n",
    "volatile_acidity_mean = wine['volatile acidity'].mean()\n",
    "citric_acid_mean = wine['citric acid'].mean()\n",
    "residual_sugar_mean = wine['residual sugar'].mean()\n",
    "chlorides_mean = wine['chlorides'].mean()\n",
    "ph_mean = wine['pH'].mean()\n",
    "sulphates_mean = wine['sulphates'].mean()"
   ]
  },
  {
   "cell_type": "code",
   "execution_count": 18,
   "id": "9c661431",
   "metadata": {
    "ExecuteTime": {
     "end_time": "2024-03-16T18:48:56.836878Z",
     "start_time": "2024-03-16T18:48:51.670210Z"
    }
   },
   "outputs": [
    {
     "ename": "KeyError",
     "evalue": "'fixed acidity'",
     "output_type": "error",
     "traceback": [
      "\u001B[0;31m---------------------------------------------------------------------------\u001B[0m",
      "\u001B[0;31mKeyError\u001B[0m                                  Traceback (most recent call last)",
      "File \u001B[0;32m~/anaconda3/lib/python3.11/site-packages/pandas/core/indexes/base.py:3653\u001B[0m, in \u001B[0;36mIndex.get_loc\u001B[0;34m(self, key)\u001B[0m\n\u001B[1;32m   3652\u001B[0m \u001B[38;5;28;01mtry\u001B[39;00m:\n\u001B[0;32m-> 3653\u001B[0m     \u001B[38;5;28;01mreturn\u001B[39;00m \u001B[38;5;28mself\u001B[39m\u001B[38;5;241m.\u001B[39m_engine\u001B[38;5;241m.\u001B[39mget_loc(casted_key)\n\u001B[1;32m   3654\u001B[0m \u001B[38;5;28;01mexcept\u001B[39;00m \u001B[38;5;167;01mKeyError\u001B[39;00m \u001B[38;5;28;01mas\u001B[39;00m err:\n",
      "File \u001B[0;32m~/anaconda3/lib/python3.11/site-packages/pandas/_libs/index.pyx:147\u001B[0m, in \u001B[0;36mpandas._libs.index.IndexEngine.get_loc\u001B[0;34m()\u001B[0m\n",
      "File \u001B[0;32m~/anaconda3/lib/python3.11/site-packages/pandas/_libs/index.pyx:176\u001B[0m, in \u001B[0;36mpandas._libs.index.IndexEngine.get_loc\u001B[0;34m()\u001B[0m\n",
      "File \u001B[0;32mpandas/_libs/hashtable_class_helper.pxi:7080\u001B[0m, in \u001B[0;36mpandas._libs.hashtable.PyObjectHashTable.get_item\u001B[0;34m()\u001B[0m\n",
      "File \u001B[0;32mpandas/_libs/hashtable_class_helper.pxi:7088\u001B[0m, in \u001B[0;36mpandas._libs.hashtable.PyObjectHashTable.get_item\u001B[0;34m()\u001B[0m\n",
      "\u001B[0;31mKeyError\u001B[0m: 'fixed acidity'",
      "\nThe above exception was the direct cause of the following exception:\n",
      "\u001B[0;31mKeyError\u001B[0m                                  Traceback (most recent call last)",
      "Cell \u001B[0;32mIn[18], line 1\u001B[0m\n\u001B[0;32m----> 1\u001B[0m data[\u001B[38;5;124m'\u001B[39m\u001B[38;5;124mfixed acidity\u001B[39m\u001B[38;5;124m'\u001B[39m]\u001B[38;5;241m.\u001B[39mfillna(fixed_acidity_mean, inplace\u001B[38;5;241m=\u001B[39m\u001B[38;5;28;01mTrue\u001B[39;00m)\n\u001B[1;32m      2\u001B[0m data[\u001B[38;5;124m'\u001B[39m\u001B[38;5;124mvolatile acidity\u001B[39m\u001B[38;5;124m'\u001B[39m]\u001B[38;5;241m.\u001B[39mfillna(volatile_acidity_mean, inplace\u001B[38;5;241m=\u001B[39m\u001B[38;5;28;01mTrue\u001B[39;00m)\n\u001B[1;32m      3\u001B[0m data[\u001B[38;5;124m'\u001B[39m\u001B[38;5;124mcitric acid\u001B[39m\u001B[38;5;124m'\u001B[39m]\u001B[38;5;241m.\u001B[39mfillna(citric_acid_mean, inplace\u001B[38;5;241m=\u001B[39m\u001B[38;5;28;01mTrue\u001B[39;00m)\n",
      "File \u001B[0;32m~/anaconda3/lib/python3.11/site-packages/pandas/core/frame.py:3761\u001B[0m, in \u001B[0;36mDataFrame.__getitem__\u001B[0;34m(self, key)\u001B[0m\n\u001B[1;32m   3759\u001B[0m \u001B[38;5;28;01mif\u001B[39;00m \u001B[38;5;28mself\u001B[39m\u001B[38;5;241m.\u001B[39mcolumns\u001B[38;5;241m.\u001B[39mnlevels \u001B[38;5;241m>\u001B[39m \u001B[38;5;241m1\u001B[39m:\n\u001B[1;32m   3760\u001B[0m     \u001B[38;5;28;01mreturn\u001B[39;00m \u001B[38;5;28mself\u001B[39m\u001B[38;5;241m.\u001B[39m_getitem_multilevel(key)\n\u001B[0;32m-> 3761\u001B[0m indexer \u001B[38;5;241m=\u001B[39m \u001B[38;5;28mself\u001B[39m\u001B[38;5;241m.\u001B[39mcolumns\u001B[38;5;241m.\u001B[39mget_loc(key)\n\u001B[1;32m   3762\u001B[0m \u001B[38;5;28;01mif\u001B[39;00m is_integer(indexer):\n\u001B[1;32m   3763\u001B[0m     indexer \u001B[38;5;241m=\u001B[39m [indexer]\n",
      "File \u001B[0;32m~/anaconda3/lib/python3.11/site-packages/pandas/core/indexes/base.py:3655\u001B[0m, in \u001B[0;36mIndex.get_loc\u001B[0;34m(self, key)\u001B[0m\n\u001B[1;32m   3653\u001B[0m     \u001B[38;5;28;01mreturn\u001B[39;00m \u001B[38;5;28mself\u001B[39m\u001B[38;5;241m.\u001B[39m_engine\u001B[38;5;241m.\u001B[39mget_loc(casted_key)\n\u001B[1;32m   3654\u001B[0m \u001B[38;5;28;01mexcept\u001B[39;00m \u001B[38;5;167;01mKeyError\u001B[39;00m \u001B[38;5;28;01mas\u001B[39;00m err:\n\u001B[0;32m-> 3655\u001B[0m     \u001B[38;5;28;01mraise\u001B[39;00m \u001B[38;5;167;01mKeyError\u001B[39;00m(key) \u001B[38;5;28;01mfrom\u001B[39;00m \u001B[38;5;21;01merr\u001B[39;00m\n\u001B[1;32m   3656\u001B[0m \u001B[38;5;28;01mexcept\u001B[39;00m \u001B[38;5;167;01mTypeError\u001B[39;00m:\n\u001B[1;32m   3657\u001B[0m     \u001B[38;5;66;03m# If we have a listlike key, _check_indexing_error will raise\u001B[39;00m\n\u001B[1;32m   3658\u001B[0m     \u001B[38;5;66;03m#  InvalidIndexError. Otherwise we fall through and re-raise\u001B[39;00m\n\u001B[1;32m   3659\u001B[0m     \u001B[38;5;66;03m#  the TypeError.\u001B[39;00m\n\u001B[1;32m   3660\u001B[0m     \u001B[38;5;28mself\u001B[39m\u001B[38;5;241m.\u001B[39m_check_indexing_error(key)\n",
      "\u001B[0;31mKeyError\u001B[0m: 'fixed acidity'"
     ]
    }
   ],
   "source": [
    "data['fixed acidity'].fillna(fixed_acidity_mean, inplace=True)\n",
    "data['volatile acidity'].fillna(volatile_acidity_mean, inplace=True)\n",
    "data['citric acid'].fillna(citric_acid_mean, inplace=True)\n",
    "data['residual sugar'].fillna(residual_sugar_mean, inplace=True)\n",
    "data['chlorides'].fillna(chlorides_mean, inplace=True)\n",
    "data['pH'].fillna(ph_mean, inplace=True)\n",
    "data['fixed acidity'].fillna(sulphates_mean, inplace=True)"
   ]
  },
  {
   "cell_type": "markdown",
   "id": "0c59cc93",
   "metadata": {},
   "source": [
    "## Feature Scaling "
   ]
  },
  {
   "cell_type": "raw",
   "id": "5c580572",
   "metadata": {},
   "source": [
    "It is the technique that is used to transform the values of features in the dataset to a similar scale \n",
    "There are several types:\n",
    "a. Min-max scaling\n",
    "b. Z-score normalisation\n",
    "c. Robust scaling \n",
    "d. Unit Vector scaling \n",
    "For this we import 'from sklearn import preprocessing'"
   ]
  },
  {
   "cell_type": "code",
   "execution_count": null,
   "id": "2f3272d4",
   "metadata": {},
   "outputs": [],
   "source": [
    "from sklearn import preprocessing"
   ]
  },
  {
   "cell_type": "markdown",
   "id": "2438b4ef",
   "metadata": {},
   "source": [
    "### Min-max scaling:It transoms features value from their range to a standard range (0-1) "
   ]
  },
  {
   "cell_type": "raw",
   "id": "61d4b095",
   "metadata": {},
   "source": [
    " - Here this performs min-max scalling on the data - converts it inot 0, 1 \n",
    " - MinMaxScaler is an instance of preprocessing and this is assigned to min_max \n",
    " - fit_transfrom applies min max scaling to the data min_max \n",
    " - this will first find out the min and the max from the data and then scale the data \n",
    " - data_after will have the scaled data "
   ]
  },
  {
   "cell_type": "code",
   "execution_count": null,
   "id": "e3ae52f3",
   "metadata": {},
   "outputs": [],
   "source": [
    "min_max=preprocessing.MinMaxScaler() \n",
    "data_after=min_max.fit_transform(new_data)"
   ]
  },
  {
   "cell_type": "code",
   "execution_count": null,
   "id": "28c4b703",
   "metadata": {},
   "outputs": [],
   "source": [
    "type(data_after)"
   ]
  },
  {
   "cell_type": "raw",
   "id": "66343950",
   "metadata": {},
   "source": [
    "The datatype of 'data_after' is numpy but we are working with pandas \n",
    "so we convert the numpy into a dataframe "
   ]
  },
  {
   "cell_type": "code",
   "execution_count": null,
   "id": "540d4eda",
   "metadata": {},
   "outputs": [],
   "source": [
    "# Converting numpy into dataframe \n",
    "data_after = pd.DataFrame(data_after, columns = ['Id','SepalLengthCm', 'SepalWidthCm', 'PetalLengthCm','PetalWidthCm'])"
   ]
  },
  {
   "cell_type": "code",
   "execution_count": null,
   "id": "8672b88e",
   "metadata": {},
   "outputs": [],
   "source": [
    "data_after.describe()"
   ]
  },
  {
   "cell_type": "markdown",
   "id": "0f08c983",
   "metadata": {},
   "source": [
    "### z-score normalisation: here each feature will have a mean=0, and std deviation= 1"
   ]
  },
  {
   "cell_type": "raw",
   "id": "d82bf52b",
   "metadata": {},
   "source": [
    " - Preprocessing creates an instance of StanderdScaler()\n",
    " - This instance is a method used transforms the data to have a mean=0 and std deviation= 1\n",
    " - This instance is assigned to z_scaler\n",
    " - 'fit_transform': finds out the mean and std deviattion of the data and applies z-score normalisation to the data\n",
    " - normalised data is sttored in data_after"
   ]
  },
  {
   "cell_type": "code",
   "execution_count": null,
   "id": "55039a8a",
   "metadata": {},
   "outputs": [],
   "source": [
    "z_scaler=preprocessing.StandardScaler()\n",
    "data_after_znorm=z_scaler.fit_transform(new_data)"
   ]
  },
  {
   "cell_type": "raw",
   "id": "9d13433d",
   "metadata": {},
   "source": [
    "'data_after' is of the type numpy we have to convert it into a dataframe"
   ]
  },
  {
   "cell_type": "code",
   "execution_count": null,
   "id": "ffe104e7",
   "metadata": {},
   "outputs": [],
   "source": [
    "data_after_znorm = pd.DataFrame(data_after_znorm , columns = ['Id','SepalLengthCm', 'SepalWidthCm', 'PetalLengthCm','PetalWidthCm'])"
   ]
  },
  {
   "cell_type": "code",
   "execution_count": 19,
   "id": "ff6f059d",
   "metadata": {
    "ExecuteTime": {
     "end_time": "2024-03-16T18:48:56.967733Z",
     "start_time": "2024-03-16T18:48:56.904606Z"
    }
   },
   "outputs": [
    {
     "ename": "NameError",
     "evalue": "name 'data_after_znorm' is not defined",
     "output_type": "error",
     "traceback": [
      "\u001B[0;31m---------------------------------------------------------------------------\u001B[0m",
      "\u001B[0;31mNameError\u001B[0m                                 Traceback (most recent call last)",
      "Cell \u001B[0;32mIn[19], line 1\u001B[0m\n\u001B[0;32m----> 1\u001B[0m data_after_znorm\u001B[38;5;241m.\u001B[39mdescribe()\u001B[38;5;241m.\u001B[39mround(\u001B[38;5;241m2\u001B[39m)\n",
      "\u001B[0;31mNameError\u001B[0m: name 'data_after_znorm' is not defined"
     ]
    }
   ],
   "source": [
    "data_after_znorm.describe().round(2)"
   ]
  },
  {
   "cell_type": "markdown",
   "id": "efe659a4",
   "metadata": {},
   "source": [
    "## Detection and Removal of Outliners "
   ]
  },
  {
   "cell_type": "markdown",
   "id": "2361b988",
   "metadata": {},
   "source": [
    "## Detecting Outliers"
   ]
  },
  {
   "cell_type": "markdown",
   "id": "e7d188f9",
   "metadata": {},
   "source": [
    "### Detecting using Graphs "
   ]
  },
  {
   "cell_type": "code",
   "execution_count": 20,
   "id": "ff332760",
   "metadata": {
    "ExecuteTime": {
     "end_time": "2024-03-16T18:48:58.119296Z",
     "start_time": "2024-03-16T18:48:57.026632Z"
    }
   },
   "outputs": [
    {
     "name": "stderr",
     "output_type": "stream",
     "text": [
      "/var/folders/mb/z07st34d13n9vg93pwyswy0c0000gp/T/ipykernel_6010/2346868151.py:2: UserWarning: \n",
      "\n",
      "`distplot` is a deprecated function and will be removed in seaborn v0.14.0.\n",
      "\n",
      "Please adapt your code to use either `displot` (a figure-level function with\n",
      "similar flexibility) or `histplot` (an axes-level function for histograms).\n",
      "\n",
      "For a guide to updating your code to use the new functions, please see\n",
      "https://gist.github.com/mwaskom/de44147ed2974457ad6372750bbe5751\n",
      "\n",
      "  sns.distplot(wine['free sulfur dioxide'])\n"
     ]
    },
    {
     "data": {
      "text/plain": "<Axes: xlabel='free sulfur dioxide', ylabel='Density'>"
     },
     "execution_count": 20,
     "metadata": {},
     "output_type": "execute_result"
    },
    {
     "data": {
      "text/plain": "<Figure size 640x480 with 1 Axes>",
      "image/png": "[encoded data removed]"
     },
     "metadata": {},
     "output_type": "display_data"
    }
   ],
   "source": [
    "# Detect using displot\n",
    "sns.distplot(wine['free sulfur dioxide'])"
   ]
  },
  {
   "cell_type": "code",
   "execution_count": 21,
   "id": "f6197368",
   "metadata": {
    "ExecuteTime": {
     "end_time": "2024-03-16T18:48:58.797416Z",
     "start_time": "2024-03-16T18:48:58.135048Z"
    }
   },
   "outputs": [
    {
     "data": {
      "text/plain": "<Axes: xlabel='free sulfur dioxide'>"
     },
     "execution_count": 21,
     "metadata": {},
     "output_type": "execute_result"
    },
    {
     "data": {
      "text/plain": "<Figure size 640x480 with 1 Axes>",
      "image/png": "[encoded data removed]"
     },
     "metadata": {},
     "output_type": "display_data"
    }
   ],
   "source": [
    "#detect outliers using boxplot\n",
    "sns.boxplot(x= wine['free sulfur dioxide'])"
   ]
  },
  {
   "cell_type": "code",
   "execution_count": 22,
   "id": "fdcfd2b0",
   "metadata": {
    "ExecuteTime": {
     "end_time": "2024-03-16T18:48:59.395171Z",
     "start_time": "2024-03-16T18:48:58.802732Z"
    }
   },
   "outputs": [
    {
     "data": {
      "text/plain": "<Axes: xlabel='SepalWidthCm'>"
     },
     "execution_count": 22,
     "metadata": {},
     "output_type": "execute_result"
    },
    {
     "data": {
      "text/plain": "<Figure size 640x480 with 1 Axes>",
      "image/png": "[encoded data removed]"
     },
     "metadata": {},
     "output_type": "display_data"
    }
   ],
   "source": [
    "# Detecting outliers in Iris.csv\n",
    "sns.boxplot(x=data['SepalWidthCm'])"
   ]
  },
  {
   "cell_type": "code",
   "execution_count": 23,
   "id": "f40282f4",
   "metadata": {
    "ExecuteTime": {
     "end_time": "2024-03-16T18:48:59.413497Z",
     "start_time": "2024-03-16T18:48:59.402032Z"
    }
   },
   "outputs": [
    {
     "ename": "SyntaxError",
     "evalue": "invalid syntax (3209498637.py, line 1)",
     "output_type": "error",
     "traceback": [
      "\u001B[0;36m  Cell \u001B[0;32mIn[23], line 1\u001B[0;36m\u001B[0m\n\u001B[0;31m    total sulfur dioxide\tdensity\tpH\tsulphates\talcohol\tquality\u001B[0m\n\u001B[0m          ^\u001B[0m\n\u001B[0;31mSyntaxError\u001B[0m\u001B[0;31m:\u001B[0m invalid syntax\n"
     ]
    }
   ],
   "source": [
    "\t\ttotal sulfur dioxide\tdensity\tpH\tsulphates\talcohol\tquality"
   ]
  },
  {
   "cell_type": "code",
   "execution_count": 24,
   "id": "80c636b8",
   "metadata": {
    "ExecuteTime": {
     "end_time": "2024-03-16T18:49:00.257762Z",
     "start_time": "2024-03-16T18:48:59.503143Z"
    }
   },
   "outputs": [
    {
     "data": {
      "text/plain": "<Axes: xlabel='fixed acidity'>"
     },
     "execution_count": 24,
     "metadata": {},
     "output_type": "execute_result"
    },
    {
     "data": {
      "text/plain": "<Figure size 640x480 with 1 Axes>",
      "image/png": "[encoded data removed]"
     },
     "metadata": {},
     "output_type": "display_data"
    }
   ],
   "source": [
    "sns.boxplot(x=wine['fixed acidity'])"
   ]
  },
  {
   "cell_type": "markdown",
   "id": "059afb02",
   "metadata": {},
   "source": [
    "### Dectecting Through Upper Bond and Lower Bond (basically z-score) "
   ]
  },
  {
   "cell_type": "code",
   "execution_count": 25,
   "id": "24ceca05",
   "metadata": {
    "ExecuteTime": {
     "end_time": "2024-03-16T18:49:00.282956Z",
     "start_time": "2024-03-16T18:49:00.267199Z"
    }
   },
   "outputs": [],
   "source": [
    "# Calculation of Ub and Lb for outliner detection using mean and std deviation \n",
    "ub = wine['free sulfur dioxide'].mean() + 2 * wine['free sulfur dioxide'].std()\n",
    "lb = wine['free sulfur dioxide'].mean() - 2 *  wine['free sulfur dioxide'].std()"
   ]
  },
  {
   "cell_type": "code",
   "execution_count": 26,
   "id": "d58617a3",
   "metadata": {
    "ExecuteTime": {
     "end_time": "2024-03-16T18:49:00.630647Z",
     "start_time": "2024-03-16T18:49:00.619084Z"
    }
   },
   "outputs": [
    {
     "name": "stdout",
     "output_type": "stream",
     "text": [
      "ub 66.02411892217967\n",
      "lb -4.973480165830587\n"
     ]
    }
   ],
   "source": [
    "print('ub',ub)\n",
    "print('lb',lb)"
   ]
  },
  {
   "cell_type": "code",
   "execution_count": 27,
   "id": "a56436b8",
   "metadata": {
    "ExecuteTime": {
     "end_time": "2024-03-16T18:49:00.837001Z",
     "start_time": "2024-03-16T18:49:00.816970Z"
    }
   },
   "outputs": [
    {
     "data": {
      "text/plain": "(6497, 13)"
     },
     "execution_count": 27,
     "metadata": {},
     "output_type": "execute_result"
    }
   ],
   "source": [
    "wine.shape"
   ]
  },
  {
   "cell_type": "raw",
   "id": "5520c7fd",
   "metadata": {},
   "source": [
    "To find out all the outlier we choose all the values that are greater than the ub and lesser than the lb\n",
    "Everything more than the ub and less than the lb are basically outliers"
   ]
  },
  {
   "cell_type": "code",
   "execution_count": 28,
   "id": "1047ef3d",
   "metadata": {
    "ExecuteTime": {
     "end_time": "2024-03-16T18:49:01.207134Z",
     "start_time": "2024-03-16T18:49:01.192289Z"
    }
   },
   "outputs": [
    {
     "data": {
      "text/plain": "185"
     },
     "execution_count": 28,
     "metadata": {},
     "output_type": "execute_result"
    }
   ],
   "source": [
    "# Find the outliners\n",
    "len(wine.loc[(wine['free sulfur dioxide']>ub) | (wine['free sulfur dioxide']<lb)])"
   ]
  },
  {
   "cell_type": "raw",
   "id": "fb39e63e",
   "metadata": {},
   "source": [
    "So here 185 is the number of outliers and now we have to handle - here we will delete "
   ]
  },
  {
   "cell_type": "code",
   "execution_count": 29,
   "id": "a352ceed",
   "metadata": {
    "ExecuteTime": {
     "end_time": "2024-03-16T18:49:01.357508Z",
     "start_time": "2024-03-16T18:49:01.340652Z"
    }
   },
   "outputs": [
    {
     "name": "stdout",
     "output_type": "stream",
     "text": [
      "ub 3.9211886227243475\n",
      "lb 2.186811377275653\n"
     ]
    }
   ],
   "source": [
    "#Calculation of Ub and Lb for iris - SepalWidthCm \n",
    "ub = data['SepalWidthCm'].mean() + 2 * data['SepalWidthCm'].std()\n",
    "lb = data['SepalWidthCm'].mean() - 2 * data['SepalWidthCm'].std()\n",
    "print('ub',ub)\n",
    "print('lb',lb)"
   ]
  },
  {
   "cell_type": "code",
   "execution_count": 30,
   "id": "6bbe5250",
   "metadata": {
    "ExecuteTime": {
     "end_time": "2024-03-16T18:49:01.750482Z",
     "start_time": "2024-03-16T18:49:01.728409Z"
    }
   },
   "outputs": [
    {
     "data": {
      "text/plain": "5"
     },
     "execution_count": 30,
     "metadata": {},
     "output_type": "execute_result"
    }
   ],
   "source": [
    "#Find the Outlier in the data\n",
    "len(data.loc[(data['SepalWidthCm'] > ub) | (data['SepalWidthCm'] < lb)])"
   ]
  },
  {
   "cell_type": "markdown",
   "id": "45f501f8",
   "metadata": {},
   "source": [
    "### Detecting through Inter Quantile Range Method"
   ]
  },
  {
   "cell_type": "raw",
   "id": "7a6e325f",
   "metadata": {},
   "source": [
    "It is a method to remove the outliers by calculating the first and the third quartile \n",
    "Quartile - 25% of the data is 1st Quartile and so on \n",
    "Therefore 1st Quartile - 25% and 3rd Quartile - 75% \n",
    "we find the range using these "
   ]
  },
  {
   "cell_type": "code",
   "execution_count": 31,
   "id": "44f2d283",
   "metadata": {
    "ExecuteTime": {
     "end_time": "2024-03-16T18:49:04.433128Z",
     "start_time": "2024-03-16T18:49:04.418592Z"
    }
   },
   "outputs": [],
   "source": [
    "Q1 = wine['fixed acidity'].quantile(0.25)\n",
    "Q3 = wine['fixed acidity'].quantile(0.75)"
   ]
  },
  {
   "cell_type": "code",
   "execution_count": 32,
   "id": "52cfc8b8",
   "metadata": {
    "ExecuteTime": {
     "end_time": "2024-03-16T18:49:05.252109Z",
     "start_time": "2024-03-16T18:49:05.237797Z"
    }
   },
   "outputs": [
    {
     "name": "stdout",
     "output_type": "stream",
     "text": [
      "Q1 6.4\n",
      "Q3 7.7\n",
      "IQM 1.2999999999999998\n"
     ]
    }
   ],
   "source": [
    "IQM = Q3 - Q1\n",
    "print('Q1',Q1)\n",
    "print('Q3',Q3)\n",
    "print('IQM',IQM)"
   ]
  },
  {
   "cell_type": "raw",
   "id": "8ab3cca0",
   "metadata": {},
   "source": [
    "Based on the quantiles we have got we now have to set the upper limit and lower limit "
   ]
  },
  {
   "cell_type": "code",
   "execution_count": 33,
   "id": "5f39611f",
   "metadata": {
    "ExecuteTime": {
     "end_time": "2024-03-16T18:49:06.015780Z",
     "start_time": "2024-03-16T18:49:05.956958Z"
    }
   },
   "outputs": [
    {
     "name": "stdout",
     "output_type": "stream",
     "text": [
      "Upper limit 9.65\n",
      "lower limit 8.35\n"
     ]
    }
   ],
   "source": [
    "Ul = Q3 + (1.5 * IQM)\n",
    "Ll = Q1 + (1.5 * IQM)\n",
    "print(\"Upper limit\",Ul)\n",
    "print(\"lower limit\",Ll)"
   ]
  },
  {
   "cell_type": "raw",
   "id": "f603f329",
   "metadata": {},
   "source": [
    "Detect the outliers"
   ]
  },
  {
   "cell_type": "code",
   "execution_count": 34,
   "id": "f27ccd64",
   "metadata": {
    "ExecuteTime": {
     "end_time": "2024-03-16T18:49:06.906327Z",
     "start_time": "2024-03-16T18:49:06.887369Z"
    }
   },
   "outputs": [
    {
     "data": {
      "text/plain": "5977"
     },
     "execution_count": 34,
     "metadata": {},
     "output_type": "execute_result"
    }
   ],
   "source": [
    "len(wine.loc[(wine['fixed acidity']>Ul)| (wine['fixed acidity']<Ll)])"
   ]
  },
  {
   "cell_type": "markdown",
   "id": "e3e15937",
   "metadata": {},
   "source": [
    "## Removing the outliers"
   ]
  },
  {
   "cell_type": "markdown",
   "id": "170f1fff",
   "metadata": {},
   "source": [
    "### Deleting the outliers"
   ]
  },
  {
   "cell_type": "code",
   "execution_count": 34,
   "id": "e0c41222",
   "metadata": {
    "ExecuteTime": {
     "end_time": "2024-03-16T18:49:07.808321Z",
     "start_time": "2024-03-16T18:49:07.802714Z"
    }
   },
   "outputs": [],
   "source": []
  },
  {
   "cell_type": "code",
   "execution_count": 35,
   "id": "27adf9cf",
   "metadata": {
    "ExecuteTime": {
     "end_time": "2024-03-16T18:49:08.067442Z",
     "start_time": "2024-03-16T18:49:08.049086Z"
    }
   },
   "outputs": [],
   "source": [
    "# Deleting the outliers after upper bond and lower bond (free sulfur dioxide)\n",
    "wine_new = wine.loc[(wine['free sulfur dioxide']<=ub) & (wine['free sulfur dioxide']>=lb)]\n"
   ]
  },
  {
   "cell_type": "code",
   "execution_count": 36,
   "id": "ed592acd",
   "metadata": {
    "ExecuteTime": {
     "end_time": "2024-03-16T18:49:08.545812Z",
     "start_time": "2024-03-16T18:49:08.531680Z"
    }
   },
   "outputs": [
    {
     "name": "stdout",
     "output_type": "stream",
     "text": [
      "(6497, 13)\n",
      "(59, 13)\n"
     ]
    }
   ],
   "source": [
    "print(wine.shape)\n",
    "print(wine_new.shape)"
   ]
  },
  {
   "cell_type": "raw",
   "id": "46eedf32",
   "metadata": {},
   "source": [
    "You can see that 6497 has reduced to 6312 --> outliers are deleted "
   ]
  },
  {
   "cell_type": "code",
   "execution_count": 37,
   "id": "35bfc065",
   "metadata": {
    "scrolled": true,
    "ExecuteTime": {
     "end_time": "2024-03-16T18:49:09.914484Z",
     "start_time": "2024-03-16T18:49:09.063138Z"
    }
   },
   "outputs": [
    {
     "data": {
      "text/plain": "<Axes: xlabel='free sulfur dioxide'>"
     },
     "execution_count": 37,
     "metadata": {},
     "output_type": "execute_result"
    },
    {
     "data": {
      "text/plain": "<Figure size 640x480 with 1 Axes>",
      "image/png": "[encoded data removed]"
     },
     "metadata": {},
     "output_type": "display_data"
    }
   ],
   "source": [
    "sns.boxplot(x=wine_new['free sulfur dioxide'])"
   ]
  },
  {
   "cell_type": "code",
   "execution_count": 38,
   "id": "c0272c6c",
   "metadata": {
    "ExecuteTime": {
     "end_time": "2024-03-16T18:49:09.953629Z",
     "start_time": "2024-03-16T18:49:09.943795Z"
    }
   },
   "outputs": [],
   "source": [
    "# Deleting the outliers in the iris - SepalWidthCm \n",
    "data_new = data.loc[(data['SepalWidthCm']<=ub) & (data['SepalWidthCm']>=lb)]"
   ]
  },
  {
   "cell_type": "code",
   "execution_count": 39,
   "id": "7394b1d3",
   "metadata": {
    "ExecuteTime": {
     "end_time": "2024-03-16T18:49:10.515312Z",
     "start_time": "2024-03-16T18:49:10.505646Z"
    }
   },
   "outputs": [
    {
     "name": "stdout",
     "output_type": "stream",
     "text": [
      "New data: 145\n",
      "Old data: 150\n"
     ]
    }
   ],
   "source": [
    "print('New data:',len(data_new))\n",
    "print('Old data:',len(data))"
   ]
  },
  {
   "cell_type": "code",
   "execution_count": 40,
   "id": "6d4ca406",
   "metadata": {
    "ExecuteTime": {
     "end_time": "2024-03-16T18:49:11.785511Z",
     "start_time": "2024-03-16T18:49:11.136892Z"
    }
   },
   "outputs": [
    {
     "data": {
      "text/plain": "<Axes: xlabel='SepalWidthCm'>"
     },
     "execution_count": 40,
     "metadata": {},
     "output_type": "execute_result"
    },
    {
     "data": {
      "text/plain": "<Figure size 640x480 with 1 Axes>",
      "image/png": "[encoded data removed]"
     },
     "metadata": {},
     "output_type": "display_data"
    }
   ],
   "source": [
    "sns.boxplot(x=data_new['SepalWidthCm'])"
   ]
  },
  {
   "cell_type": "code",
   "execution_count": 41,
   "id": "4a1456ad",
   "metadata": {
    "ExecuteTime": {
     "end_time": "2024-03-16T18:49:11.807259Z",
     "start_time": "2024-03-16T18:49:11.797594Z"
    }
   },
   "outputs": [],
   "source": [
    "# Deleting the outliers after Inter Quantile Method (fixed acidity)\n",
    "new_quantile = wine.loc[(wine['fixed acidity']<=Ul) & (wine['fixed acidity']>=Ll)]"
   ]
  },
  {
   "cell_type": "code",
   "execution_count": 42,
   "id": "82ab74d3",
   "metadata": {
    "ExecuteTime": {
     "end_time": "2024-03-16T18:49:12.008341Z",
     "start_time": "2024-03-16T18:49:11.997607Z"
    }
   },
   "outputs": [
    {
     "name": "stdout",
     "output_type": "stream",
     "text": [
      "Old data: 6497\n",
      "New data: 510\n"
     ]
    }
   ],
   "source": [
    "print(\"Old data:\",len(wine))\n",
    "print('New data:',len(new_quantile))"
   ]
  },
  {
   "cell_type": "code",
   "execution_count": 43,
   "id": "37e1072c",
   "metadata": {
    "ExecuteTime": {
     "end_time": "2024-03-16T18:49:12.992239Z",
     "start_time": "2024-03-16T18:49:12.282025Z"
    }
   },
   "outputs": [
    {
     "data": {
      "text/plain": "<Axes: xlabel='fixed acidity'>"
     },
     "execution_count": 43,
     "metadata": {},
     "output_type": "execute_result"
    },
    {
     "data": {
      "text/plain": "<Figure size 640x480 with 1 Axes>",
      "image/png": "[encoded data removed]"
     },
     "metadata": {},
     "output_type": "display_data"
    }
   ],
   "source": [
    "sns.boxplot(x=new_quantile['fixed acidity'])"
   ]
  },
  {
   "cell_type": "markdown",
   "id": "dadc9982",
   "metadata": {},
   "source": [
    "### Removing the outlier using Quantile based Capping and Flooring "
   ]
  },
  {
   "cell_type": "raw",
   "id": "e9fe9ee2",
   "metadata": {},
   "source": [
    "We here change the outliers values as the Upper Bond / Lower Bond "
   ]
  },
  {
   "cell_type": "code",
   "execution_count": 44,
   "id": "95c82b50",
   "metadata": {
    "ExecuteTime": {
     "end_time": "2024-03-16T18:49:13.142935Z",
     "start_time": "2024-03-16T18:49:13.113170Z"
    }
   },
   "outputs": [],
   "source": [
    "new_wine_copy = wine.copy()\n",
    "new_wine_copy.loc[(new_wine_copy['free sulfur dioxide']>ub), 'free sulfur dioxide'] = ub\n",
    "new_wine_copy.loc[(new_wine_copy['free sulfur dioxide']<lb), 'free sulfur dioxide'] = lb"
   ]
  },
  {
   "cell_type": "code",
   "execution_count": 45,
   "id": "7f182c3c",
   "metadata": {
    "ExecuteTime": {
     "end_time": "2024-03-16T18:49:14.408565Z",
     "start_time": "2024-03-16T18:49:13.582566Z"
    }
   },
   "outputs": [
    {
     "data": {
      "text/plain": "<Axes: xlabel='free sulfur dioxide'>"
     },
     "execution_count": 45,
     "metadata": {},
     "output_type": "execute_result"
    },
    {
     "data": {
      "text/plain": "<Figure size 640x480 with 1 Axes>",
      "image/png": "[encoded data removed]"
     },
     "metadata": {},
     "output_type": "display_data"
    }
   ],
   "source": [
    "sns.boxplot(x=new_wine_copy['free sulfur dioxide'])"
   ]
  },
  {
   "cell_type": "markdown",
   "id": "3bd07fe4",
   "metadata": {},
   "source": [
    "## Encoding Categorical Values "
   ]
  },
  {
   "cell_type": "raw",
   "id": "2736c048",
   "metadata": {},
   "source": [
    "The process of converting categorical data into numarical data \n",
    "This helps the ML to work efficiently "
   ]
  },
  {
   "cell_type": "markdown",
   "id": "b83afd26",
   "metadata": {},
   "source": [
    "### Label Encoding "
   ]
  },
  {
   "cell_type": "raw",
   "id": "523b346f",
   "metadata": {},
   "source": [
    "Each value is converted into an integer like 1,2,3 for low,mid,high etc"
   ]
  },
  {
   "cell_type": "raw",
   "id": "7da96c4c",
   "metadata": {},
   "source": [
    "- We are creatting an instance for LabelEncoder\n",
    "- We are converting all the values in the column 'Species' into integers and this will be stored in 'Sepcies_Label'\n",
    "- you can see 'Sepcies_Label' will have integers "
   ]
  },
  {
   "cell_type": "code",
   "execution_count": 46,
   "id": "6299f3b7",
   "metadata": {
    "ExecuteTime": {
     "end_time": "2024-03-16T18:49:16.686272Z",
     "start_time": "2024-03-16T18:49:15.220561Z"
    }
   },
   "outputs": [],
   "source": [
    "from sklearn.preprocessing import LabelEncoder\n",
    "label_encode = LabelEncoder()\n",
    "data['Species_Label'] = label_encode.fit_transform(data['Species'])"
   ]
  },
  {
   "cell_type": "code",
   "execution_count": 47,
   "id": "f4697c5a",
   "metadata": {
    "ExecuteTime": {
     "end_time": "2024-03-16T18:49:16.746509Z",
     "start_time": "2024-03-16T18:49:16.693011Z"
    }
   },
   "outputs": [
    {
     "data": {
      "text/plain": "      Id  SepalLengthCm  SepalWidthCm  PetalLengthCm  PetalWidthCm  \\\n0      1            5.1           3.5            1.4           0.2   \n1      2            4.9           3.0            1.4           0.2   \n2      3            4.7           3.2            1.3           0.2   \n3      4            4.6           3.1            1.5           0.2   \n4      5            5.0           3.6            1.4           0.2   \n..   ...            ...           ...            ...           ...   \n145  146            6.7           3.0            5.2           2.3   \n146  147            6.3           2.5            5.0           1.9   \n147  148            6.5           3.0            5.2           2.0   \n148  149            6.2           3.4            5.4           2.3   \n149  150            5.9           3.0            5.1           1.8   \n\n            Species  Species_Label  \n0       Iris-setosa              0  \n1       Iris-setosa              0  \n2       Iris-setosa              0  \n3       Iris-setosa              0  \n4       Iris-setosa              0  \n..              ...            ...  \n145  Iris-virginica              2  \n146  Iris-virginica              2  \n147  Iris-virginica              2  \n148  Iris-virginica              2  \n149  Iris-virginica              2  \n\n[150 rows x 7 columns]",
      "text/html": "<div>\n<style scoped>\n    .dataframe tbody tr th:only-of-type {\n        vertical-align: middle;\n    }\n\n    .dataframe tbody tr th {\n        vertical-align: top;\n    }\n\n    .dataframe thead th {\n        text-align: right;\n    }\n</style>\n<table border=\"1\" class=\"dataframe\">\n  <thead>\n    <tr style=\"text-align: right;\">\n      <th></th>\n      <th>Id</th>\n      <th>SepalLengthCm</th>\n      <th>SepalWidthCm</th>\n      <th>PetalLengthCm</th>\n      <th>PetalWidthCm</th>\n      <th>Species</th>\n      <th>Species_Label</th>\n    </tr>\n  </thead>\n  <tbody>\n    <tr>\n      <th>0</th>\n      <td>1</td>\n      <td>5.1</td>\n      <td>3.5</td>\n      <td>1.4</td>\n      <td>0.2</td>\n      <td>Iris-setosa</td>\n      <td>0</td>\n    </tr>\n    <tr>\n      <th>1</th>\n      <td>2</td>\n      <td>4.9</td>\n      <td>3.0</td>\n      <td>1.4</td>\n      <td>0.2</td>\n      <td>Iris-setosa</td>\n      <td>0</td>\n    </tr>\n    <tr>\n      <th>2</th>\n      <td>3</td>\n      <td>4.7</td>\n      <td>3.2</td>\n      <td>1.3</td>\n      <td>0.2</td>\n      <td>Iris-setosa</td>\n      <td>0</td>\n    </tr>\n    <tr>\n      <th>3</th>\n      <td>4</td>\n      <td>4.6</td>\n      <td>3.1</td>\n      <td>1.5</td>\n      <td>0.2</td>\n      <td>Iris-setosa</td>\n      <td>0</td>\n    </tr>\n    <tr>\n      <th>4</th>\n      <td>5</td>\n      <td>5.0</td>\n      <td>3.6</td>\n      <td>1.4</td>\n      <td>0.2</td>\n      <td>Iris-setosa</td>\n      <td>0</td>\n    </tr>\n    <tr>\n      <th>...</th>\n      <td>...</td>\n      <td>...</td>\n      <td>...</td>\n      <td>...</td>\n      <td>...</td>\n      <td>...</td>\n      <td>...</td>\n    </tr>\n    <tr>\n      <th>145</th>\n      <td>146</td>\n      <td>6.7</td>\n      <td>3.0</td>\n      <td>5.2</td>\n      <td>2.3</td>\n      <td>Iris-virginica</td>\n      <td>2</td>\n    </tr>\n    <tr>\n      <th>146</th>\n      <td>147</td>\n      <td>6.3</td>\n      <td>2.5</td>\n      <td>5.0</td>\n      <td>1.9</td>\n      <td>Iris-virginica</td>\n      <td>2</td>\n    </tr>\n    <tr>\n      <th>147</th>\n      <td>148</td>\n      <td>6.5</td>\n      <td>3.0</td>\n      <td>5.2</td>\n      <td>2.0</td>\n      <td>Iris-virginica</td>\n      <td>2</td>\n    </tr>\n    <tr>\n      <th>148</th>\n      <td>149</td>\n      <td>6.2</td>\n      <td>3.4</td>\n      <td>5.4</td>\n      <td>2.3</td>\n      <td>Iris-virginica</td>\n      <td>2</td>\n    </tr>\n    <tr>\n      <th>149</th>\n      <td>150</td>\n      <td>5.9</td>\n      <td>3.0</td>\n      <td>5.1</td>\n      <td>1.8</td>\n      <td>Iris-virginica</td>\n      <td>2</td>\n    </tr>\n  </tbody>\n</table>\n<p>150 rows × 7 columns</p>\n</div>"
     },
     "execution_count": 47,
     "metadata": {},
     "output_type": "execute_result"
    }
   ],
   "source": [
    "data.head(500)"
   ]
  },
  {
   "cell_type": "raw",
   "id": "18cc090f",
   "metadata": {},
   "source": [
    "To get an array of all the unique values that is used "
   ]
  },
  {
   "cell_type": "code",
   "execution_count": 48,
   "id": "683ae80c",
   "metadata": {
    "ExecuteTime": {
     "end_time": "2024-03-16T18:49:17.476939Z",
     "start_time": "2024-03-16T18:49:17.460654Z"
    }
   },
   "outputs": [
    {
     "data": {
      "text/plain": "array(['Iris-setosa', 'Iris-versicolor', 'Iris-virginica'], dtype=object)"
     },
     "execution_count": 48,
     "metadata": {},
     "output_type": "execute_result"
    }
   ],
   "source": [
    "data.Species.unique()"
   ]
  },
  {
   "cell_type": "markdown",
   "id": "fcac5563",
   "metadata": {},
   "source": [
    "### Manual Mapping "
   ]
  },
  {
   "cell_type": "code",
   "execution_count": 49,
   "id": "ec5bb01b",
   "metadata": {
    "ExecuteTime": {
     "end_time": "2024-03-16T18:49:17.973910Z",
     "start_time": "2024-03-16T18:49:17.941805Z"
    }
   },
   "outputs": [
    {
     "data": {
      "text/plain": "   Id  SepalLengthCm  SepalWidthCm  PetalLengthCm  PetalWidthCm      Species  \\\n0   1            5.1           3.5            1.4           0.2  Iris-setosa   \n1   2            4.9           3.0            1.4           0.2  Iris-setosa   \n2   3            4.7           3.2            1.3           0.2  Iris-setosa   \n3   4            4.6           3.1            1.5           0.2  Iris-setosa   \n4   5            5.0           3.6            1.4           0.2  Iris-setosa   \n\n   Species_Label  Species_Label2  \n0              0               1  \n1              0               1  \n2              0               1  \n3              0               1  \n4              0               1  ",
      "text/html": "<div>\n<style scoped>\n    .dataframe tbody tr th:only-of-type {\n        vertical-align: middle;\n    }\n\n    .dataframe tbody tr th {\n        vertical-align: top;\n    }\n\n    .dataframe thead th {\n        text-align: right;\n    }\n</style>\n<table border=\"1\" class=\"dataframe\">\n  <thead>\n    <tr style=\"text-align: right;\">\n      <th></th>\n      <th>Id</th>\n      <th>SepalLengthCm</th>\n      <th>SepalWidthCm</th>\n      <th>PetalLengthCm</th>\n      <th>PetalWidthCm</th>\n      <th>Species</th>\n      <th>Species_Label</th>\n      <th>Species_Label2</th>\n    </tr>\n  </thead>\n  <tbody>\n    <tr>\n      <th>0</th>\n      <td>1</td>\n      <td>5.1</td>\n      <td>3.5</td>\n      <td>1.4</td>\n      <td>0.2</td>\n      <td>Iris-setosa</td>\n      <td>0</td>\n      <td>1</td>\n    </tr>\n    <tr>\n      <th>1</th>\n      <td>2</td>\n      <td>4.9</td>\n      <td>3.0</td>\n      <td>1.4</td>\n      <td>0.2</td>\n      <td>Iris-setosa</td>\n      <td>0</td>\n      <td>1</td>\n    </tr>\n    <tr>\n      <th>2</th>\n      <td>3</td>\n      <td>4.7</td>\n      <td>3.2</td>\n      <td>1.3</td>\n      <td>0.2</td>\n      <td>Iris-setosa</td>\n      <td>0</td>\n      <td>1</td>\n    </tr>\n    <tr>\n      <th>3</th>\n      <td>4</td>\n      <td>4.6</td>\n      <td>3.1</td>\n      <td>1.5</td>\n      <td>0.2</td>\n      <td>Iris-setosa</td>\n      <td>0</td>\n      <td>1</td>\n    </tr>\n    <tr>\n      <th>4</th>\n      <td>5</td>\n      <td>5.0</td>\n      <td>3.6</td>\n      <td>1.4</td>\n      <td>0.2</td>\n      <td>Iris-setosa</td>\n      <td>0</td>\n      <td>1</td>\n    </tr>\n  </tbody>\n</table>\n</div>"
     },
     "execution_count": 49,
     "metadata": {},
     "output_type": "execute_result"
    }
   ],
   "source": [
    "dic = {'Iris-setosa':1, 'Iris-versicolor':0, 'Iris-virginica':2}\n",
    "data['Species_Label2'] = data['Species'].map(dic)\n",
    "data.head()"
   ]
  },
  {
   "cell_type": "markdown",
   "id": "1626616a",
   "metadata": {},
   "source": [
    "### One Hot Encoding "
   ]
  },
  {
   "cell_type": "raw",
   "id": "f7a5d6b1",
   "metadata": {},
   "source": [
    "Here each label is converted into a binary value "
   ]
  },
  {
   "cell_type": "raw",
   "id": "0c79a4d7",
   "metadata": {},
   "source": [
    "- We create an instance of OneHotEncoder \n",
    "- The dtype=int mentions that the result should be an integer \n",
    "- fit_transform performs one hpt encoding \n",
    "- .toarray() - converts it into numpy \n",
    "- We then convert the numpy into dataframe \n",
    "- We then concat the original df-data and our new df-encoded_df on the column(axis=1)"
   ]
  },
  {
   "cell_type": "code",
   "execution_count": 50,
   "id": "d3e44b8c",
   "metadata": {
    "ExecuteTime": {
     "end_time": "2024-03-16T18:49:18.637226Z",
     "start_time": "2024-03-16T18:49:18.556348Z"
    }
   },
   "outputs": [
    {
     "data": {
      "text/plain": "     Id  SepalLengthCm  SepalWidthCm  PetalLengthCm  PetalWidthCm  \\\n0     1            5.1           3.5            1.4           0.2   \n1     2            4.9           3.0            1.4           0.2   \n2     3            4.7           3.2            1.3           0.2   \n3     4            4.6           3.1            1.5           0.2   \n4     5            5.0           3.6            1.4           0.2   \n..  ...            ...           ...            ...           ...   \n95   96            5.7           3.0            4.2           1.2   \n96   97            5.7           2.9            4.2           1.3   \n97   98            6.2           2.9            4.3           1.3   \n98   99            5.1           2.5            3.0           1.1   \n99  100            5.7           2.8            4.1           1.3   \n\n            Species  Species_Label  Species_Label2  0  1  2  \n0       Iris-setosa              0               1  1  0  0  \n1       Iris-setosa              0               1  1  0  0  \n2       Iris-setosa              0               1  1  0  0  \n3       Iris-setosa              0               1  1  0  0  \n4       Iris-setosa              0               1  1  0  0  \n..              ...            ...             ... .. .. ..  \n95  Iris-versicolor              1               0  0  1  0  \n96  Iris-versicolor              1               0  0  1  0  \n97  Iris-versicolor              1               0  0  1  0  \n98  Iris-versicolor              1               0  0  1  0  \n99  Iris-versicolor              1               0  0  1  0  \n\n[100 rows x 11 columns]",
      "text/html": "<div>\n<style scoped>\n    .dataframe tbody tr th:only-of-type {\n        vertical-align: middle;\n    }\n\n    .dataframe tbody tr th {\n        vertical-align: top;\n    }\n\n    .dataframe thead th {\n        text-align: right;\n    }\n</style>\n<table border=\"1\" class=\"dataframe\">\n  <thead>\n    <tr style=\"text-align: right;\">\n      <th></th>\n      <th>Id</th>\n      <th>SepalLengthCm</th>\n      <th>SepalWidthCm</th>\n      <th>PetalLengthCm</th>\n      <th>PetalWidthCm</th>\n      <th>Species</th>\n      <th>Species_Label</th>\n      <th>Species_Label2</th>\n      <th>0</th>\n      <th>1</th>\n      <th>2</th>\n    </tr>\n  </thead>\n  <tbody>\n    <tr>\n      <th>0</th>\n      <td>1</td>\n      <td>5.1</td>\n      <td>3.5</td>\n      <td>1.4</td>\n      <td>0.2</td>\n      <td>Iris-setosa</td>\n      <td>0</td>\n      <td>1</td>\n      <td>1</td>\n      <td>0</td>\n      <td>0</td>\n    </tr>\n    <tr>\n      <th>1</th>\n      <td>2</td>\n      <td>4.9</td>\n      <td>3.0</td>\n      <td>1.4</td>\n      <td>0.2</td>\n      <td>Iris-setosa</td>\n      <td>0</td>\n      <td>1</td>\n      <td>1</td>\n      <td>0</td>\n      <td>0</td>\n    </tr>\n    <tr>\n      <th>2</th>\n      <td>3</td>\n      <td>4.7</td>\n      <td>3.2</td>\n      <td>1.3</td>\n      <td>0.2</td>\n      <td>Iris-setosa</td>\n      <td>0</td>\n      <td>1</td>\n      <td>1</td>\n      <td>0</td>\n      <td>0</td>\n    </tr>\n    <tr>\n      <th>3</th>\n      <td>4</td>\n      <td>4.6</td>\n      <td>3.1</td>\n      <td>1.5</td>\n      <td>0.2</td>\n      <td>Iris-setosa</td>\n      <td>0</td>\n      <td>1</td>\n      <td>1</td>\n      <td>0</td>\n      <td>0</td>\n    </tr>\n    <tr>\n      <th>4</th>\n      <td>5</td>\n      <td>5.0</td>\n      <td>3.6</td>\n      <td>1.4</td>\n      <td>0.2</td>\n      <td>Iris-setosa</td>\n      <td>0</td>\n      <td>1</td>\n      <td>1</td>\n      <td>0</td>\n      <td>0</td>\n    </tr>\n    <tr>\n      <th>...</th>\n      <td>...</td>\n      <td>...</td>\n      <td>...</td>\n      <td>...</td>\n      <td>...</td>\n      <td>...</td>\n      <td>...</td>\n      <td>...</td>\n      <td>...</td>\n      <td>...</td>\n      <td>...</td>\n    </tr>\n    <tr>\n      <th>95</th>\n      <td>96</td>\n      <td>5.7</td>\n      <td>3.0</td>\n      <td>4.2</td>\n      <td>1.2</td>\n      <td>Iris-versicolor</td>\n      <td>1</td>\n      <td>0</td>\n      <td>0</td>\n      <td>1</td>\n      <td>0</td>\n    </tr>\n    <tr>\n      <th>96</th>\n      <td>97</td>\n      <td>5.7</td>\n      <td>2.9</td>\n      <td>4.2</td>\n      <td>1.3</td>\n      <td>Iris-versicolor</td>\n      <td>1</td>\n      <td>0</td>\n      <td>0</td>\n      <td>1</td>\n      <td>0</td>\n    </tr>\n    <tr>\n      <th>97</th>\n      <td>98</td>\n      <td>6.2</td>\n      <td>2.9</td>\n      <td>4.3</td>\n      <td>1.3</td>\n      <td>Iris-versicolor</td>\n      <td>1</td>\n      <td>0</td>\n      <td>0</td>\n      <td>1</td>\n      <td>0</td>\n    </tr>\n    <tr>\n      <th>98</th>\n      <td>99</td>\n      <td>5.1</td>\n      <td>2.5</td>\n      <td>3.0</td>\n      <td>1.1</td>\n      <td>Iris-versicolor</td>\n      <td>1</td>\n      <td>0</td>\n      <td>0</td>\n      <td>1</td>\n      <td>0</td>\n    </tr>\n    <tr>\n      <th>99</th>\n      <td>100</td>\n      <td>5.7</td>\n      <td>2.8</td>\n      <td>4.1</td>\n      <td>1.3</td>\n      <td>Iris-versicolor</td>\n      <td>1</td>\n      <td>0</td>\n      <td>0</td>\n      <td>1</td>\n      <td>0</td>\n    </tr>\n  </tbody>\n</table>\n<p>100 rows × 11 columns</p>\n</div>"
     },
     "execution_count": 50,
     "metadata": {},
     "output_type": "execute_result"
    }
   ],
   "source": [
    "from sklearn.preprocessing import OneHotEncoder\n",
    "one_hot = OneHotEncoder(dtype=int)\n",
    "one_hot_values = one_hot.fit_transform(data[['Species']]).toarray()\n",
    "\n",
    "one_hot_df = pd.DataFrame(one_hot_values)\n",
    "encoded_df = pd.concat([data, one_hot_df], axis=1)\n",
    "encoded_df.head(100)"
   ]
  },
  {
   "cell_type": "code",
   "execution_count": 51,
   "id": "e78fe046",
   "metadata": {
    "ExecuteTime": {
     "end_time": "2024-03-16T18:49:18.916476Z",
     "start_time": "2024-03-16T18:49:18.892607Z"
    }
   },
   "outputs": [
    {
     "ename": "SyntaxError",
     "evalue": "invalid syntax (52444081.py, line 1)",
     "output_type": "error",
     "traceback": [
      "\u001B[0;36m  Cell \u001B[0;32mIn[51], line 1\u001B[0;36m\u001B[0m\n\u001B[0;31m    - pd.get_dummies - it is a method to perform One Hot Encoding on the dataset\u001B[0m\n\u001B[0m                               ^\u001B[0m\n\u001B[0;31mSyntaxError\u001B[0m\u001B[0;31m:\u001B[0m invalid syntax\n"
     ]
    }
   ],
   "source": [
    "- pd.get_dummies - it is a method to perform One Hot Encoding on the dataset \n",
    "- prefix - the name to be given to store \n",
    "- columns - tthe column to perform OHE\n",
    "- drop_first = False - keeps all categories and generates a binary column for each category.\n",
    "\n"
   ]
  },
  {
   "cell_type": "code",
   "execution_count": 52,
   "id": "f7ea4867",
   "metadata": {
    "ExecuteTime": {
     "end_time": "2024-03-16T18:49:19.555636Z",
     "start_time": "2024-03-16T18:49:19.493516Z"
    }
   },
   "outputs": [
    {
     "data": {
      "text/plain": "     Id  SepalLengthCm  SepalWidthCm  PetalLengthCm  PetalWidthCm  \\\n0     1            5.1           3.5            1.4           0.2   \n1     2            4.9           3.0            1.4           0.2   \n2     3            4.7           3.2            1.3           0.2   \n3     4            4.6           3.1            1.5           0.2   \n4     5            5.0           3.6            1.4           0.2   \n..  ...            ...           ...            ...           ...   \n95   96            5.7           3.0            4.2           1.2   \n96   97            5.7           2.9            4.2           1.3   \n97   98            6.2           2.9            4.3           1.3   \n98   99            5.1           2.5            3.0           1.1   \n99  100            5.7           2.8            4.1           1.3   \n\n    Species_Label  Species_Label2  species_Iris-versicolor  \\\n0               0               1                        0   \n1               0               1                        0   \n2               0               1                        0   \n3               0               1                        0   \n4               0               1                        0   \n..            ...             ...                      ...   \n95              1               0                        1   \n96              1               0                        1   \n97              1               0                        1   \n98              1               0                        1   \n99              1               0                        1   \n\n    species_Iris-virginica  \n0                        0  \n1                        0  \n2                        0  \n3                        0  \n4                        0  \n..                     ...  \n95                       0  \n96                       0  \n97                       0  \n98                       0  \n99                       0  \n\n[100 rows x 9 columns]",
      "text/html": "<div>\n<style scoped>\n    .dataframe tbody tr th:only-of-type {\n        vertical-align: middle;\n    }\n\n    .dataframe tbody tr th {\n        vertical-align: top;\n    }\n\n    .dataframe thead th {\n        text-align: right;\n    }\n</style>\n<table border=\"1\" class=\"dataframe\">\n  <thead>\n    <tr style=\"text-align: right;\">\n      <th></th>\n      <th>Id</th>\n      <th>SepalLengthCm</th>\n      <th>SepalWidthCm</th>\n      <th>PetalLengthCm</th>\n      <th>PetalWidthCm</th>\n      <th>Species_Label</th>\n      <th>Species_Label2</th>\n      <th>species_Iris-versicolor</th>\n      <th>species_Iris-virginica</th>\n    </tr>\n  </thead>\n  <tbody>\n    <tr>\n      <th>0</th>\n      <td>1</td>\n      <td>5.1</td>\n      <td>3.5</td>\n      <td>1.4</td>\n      <td>0.2</td>\n      <td>0</td>\n      <td>1</td>\n      <td>0</td>\n      <td>0</td>\n    </tr>\n    <tr>\n      <th>1</th>\n      <td>2</td>\n      <td>4.9</td>\n      <td>3.0</td>\n      <td>1.4</td>\n      <td>0.2</td>\n      <td>0</td>\n      <td>1</td>\n      <td>0</td>\n      <td>0</td>\n    </tr>\n    <tr>\n      <th>2</th>\n      <td>3</td>\n      <td>4.7</td>\n      <td>3.2</td>\n      <td>1.3</td>\n      <td>0.2</td>\n      <td>0</td>\n      <td>1</td>\n      <td>0</td>\n      <td>0</td>\n    </tr>\n    <tr>\n      <th>3</th>\n      <td>4</td>\n      <td>4.6</td>\n      <td>3.1</td>\n      <td>1.5</td>\n      <td>0.2</td>\n      <td>0</td>\n      <td>1</td>\n      <td>0</td>\n      <td>0</td>\n    </tr>\n    <tr>\n      <th>4</th>\n      <td>5</td>\n      <td>5.0</td>\n      <td>3.6</td>\n      <td>1.4</td>\n      <td>0.2</td>\n      <td>0</td>\n      <td>1</td>\n      <td>0</td>\n      <td>0</td>\n    </tr>\n    <tr>\n      <th>...</th>\n      <td>...</td>\n      <td>...</td>\n      <td>...</td>\n      <td>...</td>\n      <td>...</td>\n      <td>...</td>\n      <td>...</td>\n      <td>...</td>\n      <td>...</td>\n    </tr>\n    <tr>\n      <th>95</th>\n      <td>96</td>\n      <td>5.7</td>\n      <td>3.0</td>\n      <td>4.2</td>\n      <td>1.2</td>\n      <td>1</td>\n      <td>0</td>\n      <td>1</td>\n      <td>0</td>\n    </tr>\n    <tr>\n      <th>96</th>\n      <td>97</td>\n      <td>5.7</td>\n      <td>2.9</td>\n      <td>4.2</td>\n      <td>1.3</td>\n      <td>1</td>\n      <td>0</td>\n      <td>1</td>\n      <td>0</td>\n    </tr>\n    <tr>\n      <th>97</th>\n      <td>98</td>\n      <td>6.2</td>\n      <td>2.9</td>\n      <td>4.3</td>\n      <td>1.3</td>\n      <td>1</td>\n      <td>0</td>\n      <td>1</td>\n      <td>0</td>\n    </tr>\n    <tr>\n      <th>98</th>\n      <td>99</td>\n      <td>5.1</td>\n      <td>2.5</td>\n      <td>3.0</td>\n      <td>1.1</td>\n      <td>1</td>\n      <td>0</td>\n      <td>1</td>\n      <td>0</td>\n    </tr>\n    <tr>\n      <th>99</th>\n      <td>100</td>\n      <td>5.7</td>\n      <td>2.8</td>\n      <td>4.1</td>\n      <td>1.3</td>\n      <td>1</td>\n      <td>0</td>\n      <td>1</td>\n      <td>0</td>\n    </tr>\n  </tbody>\n</table>\n<p>100 rows × 9 columns</p>\n</div>"
     },
     "execution_count": 52,
     "metadata": {},
     "output_type": "execute_result"
    }
   ],
   "source": [
    "encoded_pd_df = pd.get_dummies(data, prefix=['species'], columns=['Species'], drop_first=True, dtype=int)\n",
    "encoded_pd_df.head(100)"
   ]
  },
  {
   "cell_type": "code",
   "execution_count": 53,
   "id": "eda8ec71",
   "metadata": {
    "ExecuteTime": {
     "end_time": "2024-03-16T18:49:20.123853Z",
     "start_time": "2024-03-16T18:49:20.052679Z"
    }
   },
   "outputs": [
    {
     "data": {
      "text/plain": "     Id  SepalLengthCm  SepalWidthCm  PetalLengthCm  PetalWidthCm  \\\n0     1            5.1           3.5            1.4           0.2   \n1     2            4.9           3.0            1.4           0.2   \n2     3            4.7           3.2            1.3           0.2   \n3     4            4.6           3.1            1.5           0.2   \n4     5            5.0           3.6            1.4           0.2   \n..  ...            ...           ...            ...           ...   \n95   96            5.7           3.0            4.2           1.2   \n96   97            5.7           2.9            4.2           1.3   \n97   98            6.2           2.9            4.3           1.3   \n98   99            5.1           2.5            3.0           1.1   \n99  100            5.7           2.8            4.1           1.3   \n\n    Species_Label  Species_Label2  species_Iris-setosa  \\\n0               0               1                    1   \n1               0               1                    1   \n2               0               1                    1   \n3               0               1                    1   \n4               0               1                    1   \n..            ...             ...                  ...   \n95              1               0                    0   \n96              1               0                    0   \n97              1               0                    0   \n98              1               0                    0   \n99              1               0                    0   \n\n    species_Iris-versicolor  species_Iris-virginica  \n0                         0                       0  \n1                         0                       0  \n2                         0                       0  \n3                         0                       0  \n4                         0                       0  \n..                      ...                     ...  \n95                        1                       0  \n96                        1                       0  \n97                        1                       0  \n98                        1                       0  \n99                        1                       0  \n\n[100 rows x 10 columns]",
      "text/html": "<div>\n<style scoped>\n    .dataframe tbody tr th:only-of-type {\n        vertical-align: middle;\n    }\n\n    .dataframe tbody tr th {\n        vertical-align: top;\n    }\n\n    .dataframe thead th {\n        text-align: right;\n    }\n</style>\n<table border=\"1\" class=\"dataframe\">\n  <thead>\n    <tr style=\"text-align: right;\">\n      <th></th>\n      <th>Id</th>\n      <th>SepalLengthCm</th>\n      <th>SepalWidthCm</th>\n      <th>PetalLengthCm</th>\n      <th>PetalWidthCm</th>\n      <th>Species_Label</th>\n      <th>Species_Label2</th>\n      <th>species_Iris-setosa</th>\n      <th>species_Iris-versicolor</th>\n      <th>species_Iris-virginica</th>\n    </tr>\n  </thead>\n  <tbody>\n    <tr>\n      <th>0</th>\n      <td>1</td>\n      <td>5.1</td>\n      <td>3.5</td>\n      <td>1.4</td>\n      <td>0.2</td>\n      <td>0</td>\n      <td>1</td>\n      <td>1</td>\n      <td>0</td>\n      <td>0</td>\n    </tr>\n    <tr>\n      <th>1</th>\n      <td>2</td>\n      <td>4.9</td>\n      <td>3.0</td>\n      <td>1.4</td>\n      <td>0.2</td>\n      <td>0</td>\n      <td>1</td>\n      <td>1</td>\n      <td>0</td>\n      <td>0</td>\n    </tr>\n    <tr>\n      <th>2</th>\n      <td>3</td>\n      <td>4.7</td>\n      <td>3.2</td>\n      <td>1.3</td>\n      <td>0.2</td>\n      <td>0</td>\n      <td>1</td>\n      <td>1</td>\n      <td>0</td>\n      <td>0</td>\n    </tr>\n    <tr>\n      <th>3</th>\n      <td>4</td>\n      <td>4.6</td>\n      <td>3.1</td>\n      <td>1.5</td>\n      <td>0.2</td>\n      <td>0</td>\n      <td>1</td>\n      <td>1</td>\n      <td>0</td>\n      <td>0</td>\n    </tr>\n    <tr>\n      <th>4</th>\n      <td>5</td>\n      <td>5.0</td>\n      <td>3.6</td>\n      <td>1.4</td>\n      <td>0.2</td>\n      <td>0</td>\n      <td>1</td>\n      <td>1</td>\n      <td>0</td>\n      <td>0</td>\n    </tr>\n    <tr>\n      <th>...</th>\n      <td>...</td>\n      <td>...</td>\n      <td>...</td>\n      <td>...</td>\n      <td>...</td>\n      <td>...</td>\n      <td>...</td>\n      <td>...</td>\n      <td>...</td>\n      <td>...</td>\n    </tr>\n    <tr>\n      <th>95</th>\n      <td>96</td>\n      <td>5.7</td>\n      <td>3.0</td>\n      <td>4.2</td>\n      <td>1.2</td>\n      <td>1</td>\n      <td>0</td>\n      <td>0</td>\n      <td>1</td>\n      <td>0</td>\n    </tr>\n    <tr>\n      <th>96</th>\n      <td>97</td>\n      <td>5.7</td>\n      <td>2.9</td>\n      <td>4.2</td>\n      <td>1.3</td>\n      <td>1</td>\n      <td>0</td>\n      <td>0</td>\n      <td>1</td>\n      <td>0</td>\n    </tr>\n    <tr>\n      <th>97</th>\n      <td>98</td>\n      <td>6.2</td>\n      <td>2.9</td>\n      <td>4.3</td>\n      <td>1.3</td>\n      <td>1</td>\n      <td>0</td>\n      <td>0</td>\n      <td>1</td>\n      <td>0</td>\n    </tr>\n    <tr>\n      <th>98</th>\n      <td>99</td>\n      <td>5.1</td>\n      <td>2.5</td>\n      <td>3.0</td>\n      <td>1.1</td>\n      <td>1</td>\n      <td>0</td>\n      <td>0</td>\n      <td>1</td>\n      <td>0</td>\n    </tr>\n    <tr>\n      <th>99</th>\n      <td>100</td>\n      <td>5.7</td>\n      <td>2.8</td>\n      <td>4.1</td>\n      <td>1.3</td>\n      <td>1</td>\n      <td>0</td>\n      <td>0</td>\n      <td>1</td>\n      <td>0</td>\n    </tr>\n  </tbody>\n</table>\n<p>100 rows × 10 columns</p>\n</div>"
     },
     "execution_count": 53,
     "metadata": {},
     "output_type": "execute_result"
    }
   ],
   "source": [
    "encoded_pd_df = pd.get_dummies(data, prefix=['species'], columns=['Species'], drop_first=False, dtype=int)\n",
    "encoded_pd_df.head(100)"
   ]
  }
 ],
 "metadata": {
  "kernelspec": {
   "display_name": "Python 3 (ipykernel)",
   "language": "python",
   "name": "python3"
  },
  "language_info": {
   "codemirror_mode": {
    "name": "ipython",
    "version": 3
   },
   "file_extension": ".py",
   "mimetype": "text/x-python",
   "name": "python",
   "nbconvert_exporter": "python",
   "pygments_lexer": "ipython3",
   "version": "3.11.5"
  }
 },
 "nbformat": 4,
 "nbformat_minor": 5
}
